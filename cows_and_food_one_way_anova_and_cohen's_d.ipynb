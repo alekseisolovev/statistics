{
 "cells": [
  {
   "cell_type": "markdown",
   "metadata": {},
   "source": [
    "## Cows and food one way ANOVA test\n",
    "\n",
    "### Hypothesis\n",
    "To improve the lives of dairy cows, a researcher examined 3 types of foods. He wants to assess cows preferences for one food over the other. The researcher gave the cows each type of food: A, B and C. There are 9 cows in total, 3 for each group.\n",
    "\n",
    "Our independent variable is type of food. Our dependent variable is the amount of food eaten in pounds. Our null hypothesis is that cows will eat similar amounts of food, whereas the alternative hypothesis is that at least two groups will significantly differ. That means that cows will eat more or less of at least one food over another:\n",
    "\n",
    "$$H_0:\\mu_A=\\mu_B=\\mu_C$$\n",
    "$$H_A:\\mu_A=\\mu_B\\not=\\mu_C$$"
   ]
  },
  {
   "cell_type": "markdown",
   "metadata": {},
   "source": [
    "### Look at the data"
   ]
  },
  {
   "cell_type": "code",
   "execution_count": 1,
   "metadata": {
    "collapsed": false,
    "scrolled": false
   },
   "outputs": [
    {
     "name": "stdout",
     "output_type": "stream",
     "text": [
      "       Food A  Food B  Food C\n",
      "count     3.0     3.0     3.0\n",
      "mean      3.0     6.0     9.0\n",
      "std       1.0     1.0     1.0\n",
      "min       2.0     5.0     8.0\n",
      "25%       2.5     5.5     8.5\n",
      "50%       3.0     6.0     9.0\n",
      "75%       3.5     6.5     9.5\n",
      "max       4.0     7.0    10.0\n"
     ]
    }
   ],
   "source": [
    "import pandas as pd\n",
    "\n",
    "data = {'Food A': [2, 4, 3], 'Food B': [6, 5, 7], 'Food C': [8, 9, 10]}\n",
    "df = pd.DataFrame(data)\n",
    "\n",
    "print(df.describe())"
   ]
  },
  {
   "cell_type": "code",
   "execution_count": 2,
   "metadata": {
    "collapsed": false,
    "scrolled": true
   },
   "outputs": [
    {
     "data": {
      "text/plain": [
       "<matplotlib.axes._subplots.AxesSubplot at 0x16b56b38>"
      ]
     },
     "execution_count": 2,
     "metadata": {},
     "output_type": "execute_result"
    },
    {
     "data": {
      "image/png": "[encoded data removed]",
      "text/plain": [
       "<matplotlib.figure.Figure at 0x16b56748>"
      ]
     },
     "metadata": {},
     "output_type": "display_data"
    }
   ],
   "source": [
    "import matplotlib.pyplot as plt\n",
    "%matplotlib inline\n",
    "import seaborn as sns\n",
    "sns.set_style('white')\n",
    "\n",
    "sns.barplot(data=df, palette='GnBu_d')"
   ]
  },
  {
   "cell_type": "markdown",
   "metadata": {},
   "source": [
    "### F-statistic and F-critical value"
   ]
  },
  {
   "cell_type": "markdown",
   "metadata": {},
   "source": [
    "Our degrees of freedom for between group variability is 2, and our degrees of freedom for withing group variability is 6. F-critical value, therefore, equals 5.14."
   ]
  },
  {
   "cell_type": "code",
   "execution_count": 3,
   "metadata": {
    "collapsed": false,
    "scrolled": true
   },
   "outputs": [
    {
     "name": "stdout",
     "output_type": "stream",
     "text": [
      "F-value: 27.0\n",
      "p-value: 0.001\n"
     ]
    }
   ],
   "source": [
    "from scipy import stats\n",
    "\n",
    "rvs1 = df['Food A']\n",
    "rvs2 = df['Food B']\n",
    "rvs3 = df['Food C']\n",
    "\n",
    "f_val, p_val = stats.f_oneway(rvs1, rvs2, rvs3)\n",
    "\n",
    "print 'F-value: {0}'.format(round(f_val, 2))\n",
    "print 'p-value: {0}'.format(round(p_val, 3))"
   ]
  },
  {
   "cell_type": "markdown",
   "metadata": {},
   "source": [
    "### Conclusion"
   ]
  },
  {
   "cell_type": "markdown",
   "metadata": {},
   "source": [
    "Our F-value is greater than our F-critical value, and our p-value is less than alpha level 0.05. Therefore, we will regect the null hypothesis. At least two groups significantly differ from each other in terms of the amount eaten by the cows."
   ]
  },
  {
   "cell_type": "markdown",
   "metadata": {},
   "source": [
    "### Cohen's d"
   ]
  },
  {
   "cell_type": "markdown",
   "metadata": {},
   "source": [
    "Cohen's d is an effect size used to indicate the standardised difference between two means. It is an appropriate effect size for the comparison between two means."
   ]
  },
  {
   "cell_type": "code",
   "execution_count": 4,
   "metadata": {
    "collapsed": false
   },
   "outputs": [
    {
     "name": "stdout",
     "output_type": "stream",
     "text": [
      "A-B: -3.0\n",
      "B-C: -3.0\n",
      "A-C: -6.0\n"
     ]
    }
   ],
   "source": [
    "from __future__ import division \n",
    "from numpy import mean, std \n",
    "from math import sqrt\n",
    "import sys\n",
    "\n",
    "def cohen_d(x,y):\n",
    "        return (mean(x) - mean(y)) / sqrt((std(x, ddof=1) ** 2 + std(y, ddof=1) ** 2) / 2.0)\n",
    "\n",
    "if __name__ == \"__main__\":\n",
    "    \n",
    "    print 'A-B: {0}'.format(cohen_d(rvs1, rvs2))\n",
    "    print 'B-C: {0}'.format(cohen_d(rvs2, rvs3))\n",
    "    print 'A-C: {0}'.format(cohen_d(rvs1, rvs3))"
   ]
  },
  {
   "cell_type": "code",
   "execution_count": null,
   "metadata": {
    "collapsed": true
   },
   "outputs": [],
   "source": []
  }
 ],
 "metadata": {
  "kernelspec": {
   "display_name": "Python 2",
   "language": "python",
   "name": "python2"
  },
  "language_info": {
   "codemirror_mode": {
    "name": "ipython",
    "version": 2
   },
   "file_extension": ".py",
   "mimetype": "text/x-python",
   "name": "python",
   "nbconvert_exporter": "python",
   "pygments_lexer": "ipython2",
   "version": "2.7.11"
  }
 },
 "nbformat": 4,
 "nbformat_minor": 0
}
