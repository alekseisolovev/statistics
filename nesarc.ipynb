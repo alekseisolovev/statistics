{
 "cells": [
  {
   "cell_type": "markdown",
   "metadata": {},
   "source": [
    "#Socioeconomic status and health\n",
    "##Overview\n",
    "Socioeconomic status is both a strong predictor of health, and a key factor underlying health inequities across populations. Poor socioeconomic status has the capacity to profoundly limit the capabilities of an individual or population, manifesting itself through deficiencies in both financial and social capital. It is clear how a lack of financial capital can compromise the capacity to maintain good health. \n",
    "\n",
    "Along with the socioeconomic factor of health disparities, race is another key factor. The United States historically had large disparities in health and access to adequate healthcare between races, and current evidence supports the notion that these racially centered disparities continue to exist and are a significant social health issue. The disparities in access to adequate healthcare include differences in the quality of care based on race and overall insurance coverage based on race. The Journal of the American Medical Association identifies race as a significant determinant in the level of quality of care, with ethnic minority groups receiving less intensive and lower quality care.\n",
    "\n",
    "Similarly, sexuality has become a major source of discrimination and inequity in health. Homosexual, bisexual, and transgender populations experience a wide range of health problems related to their sexuality and gender identity. One of the egregious inequities that faces LGBT individuals is discrimination from healthcare workers or institutions.\n",
    "\n",
    "At the same time, in the United States, women have better access to healthcare than many other places in the world, in part because they have higher rates of health insurance. This trend in women reporting higher rates of insurance coverage is not unique to this population and is representative of the general population of the US.\n",
    "\n",
    "The environment that surrounds us can influence individual behaviors and lead to poor health choices and therefore outcomes. Minority populations have increased exposure to environmental hazards that include lack of neighborhood resources, structural and community factors as well as residential segregation that result in a cycle of disease and stress. \n",
    "\n",
    "In conclusion, reasons for disparities in access to health care are many, but can include the following: lack of universal health care or health insurance coverage, lack of a regular source of care, lack of financial resources, legal and structural barriers. Multitude of strategies for achieving health equity and reducing disparities can be found in different scholarly texts.  \n",
    "\n",
    "Bibliography  \n",
    "\n",
    "House, J. S., Landis, K. R., & Umberson, D. (1988). Social relationships and health. Science, 241(4865), 540-545. Chicago. \n",
    "Weinick R. M.; Zuvekas S. H.; Cohen J. W. (2000). \"Racial and ethnic differences in access to and use of health care services, 1977 to 1996. Medical care research and review\". MCRR 57 (Suppl 1): 36–54.  \n",
    "Gochman, David S. (1997). Handbook of health behavior research. Springer. pp. 145–147. ISBN 9780306454431.  \n",
    "Merzel C (2000). \"Gender differences in health care access indicators in an urban, low-income community\". American Journal of Public Health 90 (6): 909–916.  \n",
    "Gee, GC; Payne-Sturges D. (2004). \"Environmental health disparities: A framework integrating psychosocial and environmental concepts. Environmental Health Perspectives\". Environmental Health Perspectives 112 (17): 1645–1653. doi:10.1289/ehp.7074. PMC 1253653. PMID 15579407.\n",
    "\n",
    "##Data set\n",
    "The data set that will be used for this assignment is the U.S. National Epidemiological Survey on Alcohol and Related Conditions (NESARC). This survey is designed to determine the magnitude of alcohol use and psychiatric disorders in the U.S. population. It is a representative sample of the non-institutionalized population 18 years and older.\n",
    "\n",
    "##Hypothesis\n",
    "The goal for this assignment is to explore the association between socioeconomic conditions and health. It is believed that lacking of social and financial capital can compromise the capacity to maintain good health. \n",
    "\n",
    "##Codebook\n",
    "Variables related to socioeconomic status:\n",
    "* S1Q6A - HIGHEST GRADE OR YEAR OF SCHOOL COMPLETED\n",
    "* S1Q9B - OCCUPATION: CURRENT OR MOST RECENT JOB\n",
    "* S1Q10A - TOTAL PERSONAL INCOME IN LAST 12 MONTHS\n",
    "\n",
    "Variables related to health:\n",
    "* ETOTLCA2 - AVERAGE DAILY VOLUME OF ETHANOL CONSUMED IN PAST YEAR, FROM ALL TYPES OF ALCOHOLIC BEVERAGES COMBINED\n",
    "(NOTE: Users may wish to exclude outliers)\n",
    "* GENAXLIFE - GENERALIZED ANXIETY DISORDER - LIFETIME (NON-HIERARCHICAL)"
   ]
  },
  {
   "cell_type": "code",
   "execution_count": null,
   "metadata": {
    "collapsed": true
   },
   "outputs": [],
   "source": [
    "import pandas as pd\n",
    "\n",
    "# Load the data\n",
    "df = pd.read_csv('nesarc.csv')"
   ]
  },
  {
   "cell_type": "code",
   "execution_count": 11,
   "metadata": {
    "collapsed": true
   },
   "outputs": [],
   "source": [
    "# Variables related to socioeconomic status:\n",
    "# S1Q6A - HIGHEST GRADE OR YEAR OF SCHOOL COMPLETED\n",
    "# S1Q9B - OCCUPATION: CURRENT OR MOST RECENT JOB\n",
    "# S1Q10A - TOTAL PERSONAL INCOME IN LAST 12 MONTHS\n",
    "\n",
    "#Variables related to health:\n",
    "# ETOTLCA2 - AVERAGE DAILY VOLUME OF ETHANOL CONSUMED IN PAST YEAR, FROM ALL TYPES OF ALCOHOLIC BEVERAGES COMBINED\n",
    "# (NOTE: Users may wish to exclude outliers)\n",
    "# GENAXLIFE = GENERALIZED ANXIETY DISORDER - LIFETIME (NON-HIERARCHICAL)\n",
    "\n",
    "# Print first 10 rows of the dataset\n",
    "print(df[['S1Q10A', 'GENAXLIFE']].head(10))"
   ]
  },
  {
   "cell_type": "markdown",
   "metadata": {},
   "source": [
    "##Looking at the data"
   ]
  },
  {
   "cell_type": "code",
   "execution_count": 44,
   "metadata": {
    "collapsed": false
   },
   "outputs": [
    {
     "name": "stderr",
     "output_type": "stream",
     "text": [
      "C:\\Users\\PC\\Anaconda2\\envs\\dato-env\\lib\\site-packages\\IPython\\core\\interactiveshell.py:2871: DtypeWarning: Columns (75) have mixed types. Specify dtype option on import or set low_memory=False.\n",
      "  interactivity=interactivity, compiler=compiler, result=result)\n"
     ]
    }
   ],
   "source": [
    "import pandas as pd\n",
    "\n",
    "# The variables that measures the first topic are: \n",
    "\n",
    "# Load the data\n",
    "df = pd.read_csv('nesarc.csv')"
   ]
  },
  {
   "cell_type": "code",
   "execution_count": 87,
   "metadata": {
    "collapsed": false
   },
   "outputs": [
    {
     "data": {
      "text/plain": [
       "(43093, 3008)"
      ]
     },
     "execution_count": 87,
     "metadata": {},
     "output_type": "execute_result"
    }
   ],
   "source": [
    "# Print first 5 rows of the dataset\n",
    "df.info()\n",
    "df.shape"
   ]
  },
  {
   "cell_type": "code",
   "execution_count": 85,
   "metadata": {
    "collapsed": false
   },
   "outputs": [
    {
     "data": {
      "text/plain": [
       "['S11AQ1A1',\n",
       " 'S11AQ1A2',\n",
       " 'S11AQ1A3',\n",
       " 'S11AQ1A4',\n",
       " 'S11AQ1A5',\n",
       " 'S11AQ1A6',\n",
       " 'S11AQ1A7',\n",
       " 'S11AQ1A8',\n",
       " 'S11AQ1A9',\n",
       " 'S11AQ1A10']"
      ]
     },
     "execution_count": 85,
     "metadata": {},
     "output_type": "execute_result"
    }
   ],
   "source": [
    "import re\n",
    "\n",
    "cols = df.columns.tolist()\n",
    "regex = re.compile('S11AQ1A.*')\n",
    "\n",
    "cols = [m[0] for l in cols for m in [regex.findall(l)] if m]\n",
    "cols[:10]"
   ]
  },
  {
   "cell_type": "code",
   "execution_count": 122,
   "metadata": {
    "collapsed": false,
    "scrolled": true
   },
   "outputs": [
    {
     "data": {
      "text/plain": [
       "0        2462\n",
       "30000    1346\n",
       "20000    1207\n",
       "12000    1197\n",
       "25000    1078\n",
       "40000    1034\n",
       "15000    1029\n",
       "10000    1024\n",
       "45000     958\n",
       "35000     945\n",
       "Name: S1Q10A, dtype: int64"
      ]
     },
     "execution_count": 122,
     "metadata": {},
     "output_type": "execute_result"
    }
   ],
   "source": [
    "df.S1Q10A.value_counts()[:10]"
   ]
  },
  {
   "cell_type": "code",
   "execution_count": null,
   "metadata": {
    "collapsed": true
   },
   "outputs": [],
   "source": []
  },
  {
   "cell_type": "code",
   "execution_count": 93,
   "metadata": {
    "collapsed": false,
    "scrolled": false
   },
   "outputs": [],
   "source": [
    "data = pd.read_csv('nesarc.csv', usecols = cols)"
   ]
  },
  {
   "cell_type": "code",
   "execution_count": 108,
   "metadata": {
    "collapsed": false,
    "scrolled": true
   },
   "outputs": [
    {
     "data": {
      "text/html": [
       "<div>\n",
       "<table border=\"1\" class=\"dataframe\">\n",
       "  <thead>\n",
       "    <tr style=\"text-align: right;\">\n",
       "      <th></th>\n",
       "      <th>S11AQ1A1</th>\n",
       "      <th>S11AQ1A2</th>\n",
       "      <th>S11AQ1A3</th>\n",
       "      <th>S11AQ1A4</th>\n",
       "      <th>S11AQ1A5</th>\n",
       "      <th>S11AQ1A6</th>\n",
       "      <th>S11AQ1A7</th>\n",
       "      <th>S11AQ1A8</th>\n",
       "      <th>S11AQ1A9</th>\n",
       "      <th>S11AQ1A10</th>\n",
       "      <th>...</th>\n",
       "      <th>S11AQ1A24</th>\n",
       "      <th>S11AQ1A25</th>\n",
       "      <th>S11AQ1A26</th>\n",
       "      <th>S11AQ1A27</th>\n",
       "      <th>S11AQ1A28</th>\n",
       "      <th>S11AQ1A29</th>\n",
       "      <th>S11AQ1A30</th>\n",
       "      <th>S11AQ1A31</th>\n",
       "      <th>S11AQ1A32</th>\n",
       "      <th>S11AQ1A33</th>\n",
       "    </tr>\n",
       "  </thead>\n",
       "  <tbody>\n",
       "    <tr>\n",
       "      <th>36</th>\n",
       "      <td>9</td>\n",
       "      <td>9</td>\n",
       "      <td>9</td>\n",
       "      <td>9</td>\n",
       "      <td>2</td>\n",
       "      <td>2</td>\n",
       "      <td>2</td>\n",
       "      <td>2</td>\n",
       "      <td>2</td>\n",
       "      <td>2</td>\n",
       "      <td>...</td>\n",
       "      <td>2</td>\n",
       "      <td>2</td>\n",
       "      <td>2</td>\n",
       "      <td>2</td>\n",
       "      <td>2</td>\n",
       "      <td>2</td>\n",
       "      <td>2</td>\n",
       "      <td>2</td>\n",
       "      <td>2</td>\n",
       "      <td>2</td>\n",
       "    </tr>\n",
       "    <tr>\n",
       "      <th>66</th>\n",
       "      <td>9</td>\n",
       "      <td>9</td>\n",
       "      <td>9</td>\n",
       "      <td>9</td>\n",
       "      <td>9</td>\n",
       "      <td>9</td>\n",
       "      <td>9</td>\n",
       "      <td>9</td>\n",
       "      <td>9</td>\n",
       "      <td>9</td>\n",
       "      <td>...</td>\n",
       "      <td>9</td>\n",
       "      <td>9</td>\n",
       "      <td>9</td>\n",
       "      <td>9</td>\n",
       "      <td>9</td>\n",
       "      <td>9</td>\n",
       "      <td>9</td>\n",
       "      <td>9</td>\n",
       "      <td>9</td>\n",
       "      <td>9</td>\n",
       "    </tr>\n",
       "    <tr>\n",
       "      <th>69</th>\n",
       "      <td>9</td>\n",
       "      <td>9</td>\n",
       "      <td>9</td>\n",
       "      <td>9</td>\n",
       "      <td>9</td>\n",
       "      <td>9</td>\n",
       "      <td>9</td>\n",
       "      <td>9</td>\n",
       "      <td>9</td>\n",
       "      <td>9</td>\n",
       "      <td>...</td>\n",
       "      <td>9</td>\n",
       "      <td>9</td>\n",
       "      <td>9</td>\n",
       "      <td>9</td>\n",
       "      <td>9</td>\n",
       "      <td>9</td>\n",
       "      <td>9</td>\n",
       "      <td>9</td>\n",
       "      <td>9</td>\n",
       "      <td>9</td>\n",
       "    </tr>\n",
       "    <tr>\n",
       "      <th>80</th>\n",
       "      <td>9</td>\n",
       "      <td>9</td>\n",
       "      <td>9</td>\n",
       "      <td>9</td>\n",
       "      <td>9</td>\n",
       "      <td>9</td>\n",
       "      <td>9</td>\n",
       "      <td>9</td>\n",
       "      <td>9</td>\n",
       "      <td>9</td>\n",
       "      <td>...</td>\n",
       "      <td>9</td>\n",
       "      <td>9</td>\n",
       "      <td>9</td>\n",
       "      <td>9</td>\n",
       "      <td>9</td>\n",
       "      <td>9</td>\n",
       "      <td>9</td>\n",
       "      <td>9</td>\n",
       "      <td>9</td>\n",
       "      <td>9</td>\n",
       "    </tr>\n",
       "    <tr>\n",
       "      <th>81</th>\n",
       "      <td>9</td>\n",
       "      <td>9</td>\n",
       "      <td>9</td>\n",
       "      <td>9</td>\n",
       "      <td>9</td>\n",
       "      <td>9</td>\n",
       "      <td>9</td>\n",
       "      <td>9</td>\n",
       "      <td>9</td>\n",
       "      <td>9</td>\n",
       "      <td>...</td>\n",
       "      <td>9</td>\n",
       "      <td>9</td>\n",
       "      <td>9</td>\n",
       "      <td>9</td>\n",
       "      <td>9</td>\n",
       "      <td>9</td>\n",
       "      <td>9</td>\n",
       "      <td>9</td>\n",
       "      <td>9</td>\n",
       "      <td>9</td>\n",
       "    </tr>\n",
       "  </tbody>\n",
       "</table>\n",
       "<p>5 rows × 33 columns</p>\n",
       "</div>"
      ],
      "text/plain": [
       "    S11AQ1A1  S11AQ1A2  S11AQ1A3  S11AQ1A4  S11AQ1A5  S11AQ1A6  S11AQ1A7  \\\n",
       "36         9         9         9         9         2         2         2   \n",
       "66         9         9         9         9         9         9         9   \n",
       "69         9         9         9         9         9         9         9   \n",
       "80         9         9         9         9         9         9         9   \n",
       "81         9         9         9         9         9         9         9   \n",
       "\n",
       "    S11AQ1A8  S11AQ1A9  S11AQ1A10    ...      S11AQ1A24  S11AQ1A25  S11AQ1A26  \\\n",
       "36         2         2          2    ...              2          2          2   \n",
       "66         9         9          9    ...              9          9          9   \n",
       "69         9         9          9    ...              9          9          9   \n",
       "80         9         9          9    ...              9          9          9   \n",
       "81         9         9          9    ...              9          9          9   \n",
       "\n",
       "    S11AQ1A27  S11AQ1A28  S11AQ1A29  S11AQ1A30  S11AQ1A31  S11AQ1A32  \\\n",
       "36          2          2          2          2          2          2   \n",
       "66          9          9          9          9          9          9   \n",
       "69          9          9          9          9          9          9   \n",
       "80          9          9          9          9          9          9   \n",
       "81          9          9          9          9          9          9   \n",
       "\n",
       "    S11AQ1A33  \n",
       "36          2  \n",
       "66          9  \n",
       "69          9  \n",
       "80          9  \n",
       "81          9  \n",
       "\n",
       "[5 rows x 33 columns]"
      ]
     },
     "execution_count": 108,
     "metadata": {},
     "output_type": "execute_result"
    }
   ],
   "source": [
    "data[df.S11AQ1A1 == 9].head()"
   ]
  },
  {
   "cell_type": "code",
   "execution_count": 98,
   "metadata": {
    "collapsed": false
   },
   "outputs": [
    {
     "data": {
      "text/plain": [
       "1162"
      ]
     },
     "execution_count": 98,
     "metadata": {},
     "output_type": "execute_result"
    }
   ],
   "source": [
    "len(data[df.S11AQ1A1 == 9])"
   ]
  },
  {
   "cell_type": "code",
   "execution_count": null,
   "metadata": {
    "collapsed": true
   },
   "outputs": [],
   "source": [
    "cols = list(df.columns.values)\n",
    "cols.pop(cols.index('ETHRACE2A'))\n",
    "cols.pop(cols.index('ETOTLCA2'))\n",
    "df = df[cols+['ETHRACE2A','ETOTLCA2']]\n",
    "\n",
    "data = pd.read_csv('nesarc.csv', usecols = ['PSU', 'CYEAR'])"
   ]
  },
  {
   "cell_type": "code",
   "execution_count": null,
   "metadata": {
    "collapsed": true
   },
   "outputs": [],
   "source": []
  },
  {
   "cell_type": "code",
   "execution_count": null,
   "metadata": {
    "collapsed": true
   },
   "outputs": [],
   "source": []
  },
  {
   "cell_type": "code",
   "execution_count": null,
   "metadata": {
    "collapsed": true
   },
   "outputs": [],
   "source": [
    "# Variables related to antisocial personality disorder (behavior):\n",
    "# S11AQ1A1 - OFTEN CUT CLASS, NOT GO TO CLASS OR GO TO SCHOOL AND LEAVE WITHOUT PERMISSION  \n",
    "# S11AQ1A2 - EVER STAY OUT LATE AT NIGHT EVEN THOUGH PARENTS TOLD YOU TO STAY HOME  \n",
    "# S11AQ1A3 - EVER HAVE TIME WHEN BULLIED OR PUSHED PEOPLE AROUND OR TRIED TO MAKE THEM AFRAID OF YOU  \n",
    "# S11AQ1A4 - EVER RUN AWAY FROM HOME AT LEAST TWICE OR RUN AWAY AND STAY AWAY FOR A LONGER TIME  \n",
    "# S11AQ1A5 - EVER HAVE A TIME WHEN OFTEN ABSENT FROM SCHOOL, OTHER THAN WHEN CARING FOR SOMEONE WHO WAS SICK \n",
    "# S11AQ1A6 - MORE THAN ONCE QUIT A JOB WITHOUT KNOWING WHERE WOULD FIND ANOTHER ONE\n",
    "# S11AQ1A7 - MORE THAN ONCE QUIT A SCHOOL PROGRAM WITHOUT KNOWING WHAT WOULD DO NEXT\n",
    "# S11AQ1A8 - TRAVEL FROM PLACE TO PLACE FOR 1+ MONTHS WITHOUT ADVANCE PLANS OR\n",
    "# WITHOUT KNOWING HOW LONG WOULD BE GONE OR WHERE WOULD WORK\n",
    "# S11AQ1A9 - EVER HAVE TIME LASTING 1+ MONTHS WHEN HAD NO REGULAR PLACE TO LIVE\n",
    "# S11AQ1A10 - EVER HAVE TIME LASTING 1+ MONTHS WHEN LIVED WITH OTHERS BECAUSE DID NOT HAVE OWN PLACE TO LIVE\n",
    "# S11AQ1A11 - EVER TIME HAVE WHEN YOU LIED A LOT, OTHER THAN TO AVOID BEING HURT\n",
    "# S11AQ1A12 - EVER USE A FALSE OR MADE-UP NAME OR ALIAS\n",
    "# S11AQ1A13 - EVER SCAM OR CON SOMEONE FOR MONEY, TO AVOID RESPONSIBILITY OR JUST FOR FUN\n",
    "# S11AQ1A14 - EVER DO THINGS THAT COULD EASILY HAVE HURT YOU OR SOMEONE ELSE,\n",
    "# LIKE SPEEDING OR DRIVING AFTER HAVING TOO MUCH TO DRINK\n",
    "# S11AQ1A15 - EVER GET MORE THAN 3 TICKETS FOR RECKLESS/CARELESS DRIVING, SPEEDING, OR CAUSING AN ACCIDENT\n",
    "# S11AQ1A16 - EVER HAVE DRIVERS LICENSE SUSPENDED OR REVOKED FOR MOVING VIOLATIONS\n",
    "# S11AQ1A17 - EVER DESTROY/ BREAK/ VANDALIZE SOMEONE ELSE'S PROPERTY (CAR, HOME, ETC.)\n",
    "# S11AQ1A18 - EVER START FIRE ON PURPOSE TO DESTROY SOMEONE ELSE'S PROPERTY OR JUST TO SEE IT BURN\n",
    "# S11AQ1A19 - EVER FAIL TO PAY OFF DEBTS -- LIKE MOVING TO AVOID RENT, NOT MAKING PAYMENTS ON LOAN OR MORTGAGE,\n",
    "# FAILING TO PAY ALIMONY OR CHILD SUPPORT OR FILING BANKRUPTCY\n",
    "# S11AQ1A20 - EVER STEAL SOMETHING FROM SOMEONE/SOMEPLACE WHEN NO ONE WAS AROUND\n",
    "# S11AQ1A21 - EVER FORGE SOMEONE ELSE'S SIGNATURE, LIKE ON A LEGAL DOCUMENT OR CHECK\n",
    "# S11AQ1A22 - EVER SHOPLIFT\n",
    "# S11AQ1A23 - EVER ROB OR MUG SOMEONE OR SNATCH A PURSE\n",
    "# S11AQ1A24 - EVER MAKE MONEY ILLEGALLY, LIKE SELLING STOLEN PROPERTY OR SELLING DRUGS\n",
    "# S11AQ1A25 - EVER DO SOMETHING YOU COULD HAVE BEEN ARRESTED FOR, REGARDLESS OF WHETHER YOU WERE CAUGHT OR NOT\n",
    "# S11AQ1A26 - EVER FORCE SOMEONE TO HAVE SEX WITH YOU AGAINST THEIR WILL\n",
    "# S11AQ1A27 - EVER GET INTO A LOT OF FIGHTS THAT YOU STARTED\n",
    "# S11AQ1A28 - EVER GET INTO A FIGHT THAT CAME TO SWAPPING BLOWS WITH SOMEONE\n",
    "# LIKE A HUSBAND, WIFE, BOYFRIEND OR GIRLFRIEND\n",
    "# S11AQ1A29 - EVER USE A WEAPON LIKE A STICK, KNIFE OR GUN IN A FIGHT\n",
    "# S11AQ1A30 - EVER HIT SOMEONE SO HARD THAT YOU INJURED THEM OR THEY HAD TO SEE A DOCTOR\n",
    "# S11AQ1A31 - EVER HARASS, THREATEN OR BLACKMAIL SOMEONE\n",
    "# S11AQ1A32 - EVER PHYSICALLY HURT ANOTHER PERSON IN ANY WAY ON PURPOSE\n",
    "# S11AQ1A33 - EVER HURT AN ANIMAL OR PET ON PURPOSE\n",
    "#\n",
    "# Variables related to socioeconomic status:\n",
    "# S1Q6A - HIGHEST GRADE OR YEAR OF SCHOOL COMPLETED\n",
    "# S1Q9B - OCCUPATION: CURRENT OR MOST RECENT JOB\n",
    "# S1Q11B - TOTAL FAMILY INCOME IN LAST 12 MONTHS: CATEGORY"
   ]
  }
 ],
 "metadata": {
  "kernelspec": {
   "display_name": "Python 2",
   "language": "python",
   "name": "python2"
  },
  "language_info": {
   "codemirror_mode": {
    "name": "ipython",
    "version": 2
   },
   "file_extension": ".py",
   "mimetype": "text/x-python",
   "name": "python",
   "nbconvert_exporter": "python",
   "pygments_lexer": "ipython2",
   "version": "2.7.11"
  }
 },
 "nbformat": 4,
 "nbformat_minor": 0
}
