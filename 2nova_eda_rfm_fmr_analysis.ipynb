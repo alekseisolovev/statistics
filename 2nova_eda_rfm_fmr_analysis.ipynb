{
 "cells": [
  {
   "cell_type": "markdown",
   "metadata": {},
   "source": [
    "# 2nova EDA, RFM and FMR Analysis\n",
    "## Goods\n",
    "Посмотрим на данные, содержащие информацию о товарах."
   ]
  },
  {
   "cell_type": "code",
   "execution_count": 1,
   "metadata": {},
   "outputs": [
    {
     "name": "stdout",
     "output_type": "stream",
     "text": [
      "Size of the data set: 34316 rows and 5 columns\n"
     ]
    },
    {
     "data": {
      "text/html": [
       "<div>\n",
       "<style>\n",
       "    .dataframe thead tr:only-child th {\n",
       "        text-align: right;\n",
       "    }\n",
       "\n",
       "    .dataframe thead th {\n",
       "        text-align: left;\n",
       "    }\n",
       "\n",
       "    .dataframe tbody tr th {\n",
       "        vertical-align: top;\n",
       "    }\n",
       "</style>\n",
       "<table border=\"1\" class=\"dataframe\">\n",
       "  <thead>\n",
       "    <tr style=\"text-align: right;\">\n",
       "      <th></th>\n",
       "      <th>id</th>\n",
       "      <th>name</th>\n",
       "      <th>price</th>\n",
       "      <th>oldPrice</th>\n",
       "      <th>visible</th>\n",
       "    </tr>\n",
       "  </thead>\n",
       "  <tbody>\n",
       "    <tr>\n",
       "      <th>0</th>\n",
       "      <td>617</td>\n",
       "      <td>Носки детские</td>\n",
       "      <td>69.0</td>\n",
       "      <td>69.0</td>\n",
       "      <td>0.0</td>\n",
       "    </tr>\n",
       "    <tr>\n",
       "      <th>1</th>\n",
       "      <td>618</td>\n",
       "      <td>Рейтузы детские для девочек</td>\n",
       "      <td>349.0</td>\n",
       "      <td>449.0</td>\n",
       "      <td>0.0</td>\n",
       "    </tr>\n",
       "    <tr>\n",
       "      <th>2</th>\n",
       "      <td>686</td>\n",
       "      <td>Трусы детские для девочек 3шт</td>\n",
       "      <td>249.0</td>\n",
       "      <td>249.0</td>\n",
       "      <td>0.0</td>\n",
       "    </tr>\n",
       "    <tr>\n",
       "      <th>3</th>\n",
       "      <td>687</td>\n",
       "      <td>Трусы детские для девочек 3шт</td>\n",
       "      <td>249.0</td>\n",
       "      <td>249.0</td>\n",
       "      <td>0.0</td>\n",
       "    </tr>\n",
       "    <tr>\n",
       "      <th>4</th>\n",
       "      <td>688</td>\n",
       "      <td>Трусы детские для девочек 2шт</td>\n",
       "      <td>199.0</td>\n",
       "      <td>299.0</td>\n",
       "      <td>0.0</td>\n",
       "    </tr>\n",
       "  </tbody>\n",
       "</table>\n",
       "</div>"
      ],
      "text/plain": [
       "    id                           name  price  oldPrice  visible\n",
       "0  617                  Носки детские   69.0      69.0      0.0\n",
       "1  618    Рейтузы детские для девочек  349.0     449.0      0.0\n",
       "2  686  Трусы детские для девочек 3шт  249.0     249.0      0.0\n",
       "3  687  Трусы детские для девочек 3шт  249.0     249.0      0.0\n",
       "4  688  Трусы детские для девочек 2шт  199.0     299.0      0.0"
      ]
     },
     "execution_count": 1,
     "metadata": {},
     "output_type": "execute_result"
    }
   ],
   "source": [
    "import numpy as np \n",
    "import pandas as pd\n",
    "import matplotlib.pyplot as plt\n",
    "import seaborn as sns\n",
    "plt.style.use('ggplot')\n",
    "%matplotlib inline\n",
    "\n",
    "goods = pd.read_csv('goods.csv', sep=';')\n",
    "\n",
    "print('Size of the data set: {} rows and {} columns'.format(*goods.shape))\n",
    "goods.head()"
   ]
  },
  {
   "cell_type": "markdown",
   "metadata": {},
   "source": [
    "Посчитаем количество отсутствующих значений в данных."
   ]
  },
  {
   "cell_type": "code",
   "execution_count": 2,
   "metadata": {
    "scrolled": true
   },
   "outputs": [
    {
     "name": "stdout",
     "output_type": "stream",
     "text": [
      "0 missing values in id column\n",
      "1 missing values in name column\n",
      "1 missing values in price column\n",
      "1 missing values in oldPrice column\n",
      "1 missing values in visible column\n"
     ]
    }
   ],
   "source": [
    "for col in goods.columns:\n",
    "    print('{} missing values in {} column'.format(goods[col].isnull().sum().sum(), col))"
   ]
  },
  {
   "cell_type": "markdown",
   "metadata": {},
   "source": [
    "Удалим строки, содержащие отсутствующие значения."
   ]
  },
  {
   "cell_type": "code",
   "execution_count": 3,
   "metadata": {},
   "outputs": [
    {
     "name": "stdout",
     "output_type": "stream",
     "text": [
      "Size of the data set: 34315 rows and 5 columns\n"
     ]
    }
   ],
   "source": [
    "goods.dropna(inplace=True)\n",
    "\n",
    "print('Size of the data set: {} rows and {} columns'.format(*goods.shape))"
   ]
  },
  {
   "cell_type": "markdown",
   "metadata": {},
   "source": [
    "Построим граф распределения цен товаров. "
   ]
  },
  {
   "cell_type": "code",
   "execution_count": 4,
   "metadata": {},
   "outputs": [
    {
     "data": {
      "image/png": "[encoded data removed]",
      "text/plain": [
       "<matplotlib.figure.Figure at 0x7f976b3ddb00>"
      ]
     },
     "metadata": {},
     "output_type": "display_data"
    },
    {
     "name": "stdout",
     "output_type": "stream",
     "text": [
      "min: 0.0, max: 5299.0, mean: 632.85, std: 529.31\n"
     ]
    }
   ],
   "source": [
    "plt.figure(figsize=(10,6))\n",
    "plt.tick_params(labelsize=16)\n",
    "\n",
    "sns.distplot(goods.price, bins=40, kde=False, color='black')\n",
    "\n",
    "plt.xlabel('Value', fontsize=18)\n",
    "plt.ylabel('Frequency', fontsize=18)\n",
    "plt.title('Price Distribution Plot', fontsize=20)\n",
    "plt.show()\n",
    "\n",
    "print('min: {}, max: {}, mean: {:.2f}, std: {:.2f}'.format(\n",
    "    min(goods.price), max(goods.price), goods.price.mean(), goods.price.std()))"
   ]
  },
  {
   "cell_type": "markdown",
   "metadata": {},
   "source": [
    "Посчитаем количество уникальных товаров."
   ]
  },
  {
   "cell_type": "code",
   "execution_count": 5,
   "metadata": {},
   "outputs": [
    {
     "data": {
      "text/plain": [
       "(5319,)"
      ]
     },
     "execution_count": 5,
     "metadata": {},
     "output_type": "execute_result"
    }
   ],
   "source": [
    "goods.name.unique().shape"
   ]
  },
  {
   "cell_type": "markdown",
   "metadata": {},
   "source": [
    "## Order goods\n",
    "Посмотрим на данные, содержащие информацию о заказах этих товаров."
   ]
  },
  {
   "cell_type": "code",
   "execution_count": 6,
   "metadata": {},
   "outputs": [
    {
     "name": "stdout",
     "output_type": "stream",
     "text": [
      "Size of the data set: 897933 rows and 7 columns\n"
     ]
    },
    {
     "data": {
      "text/html": [
       "<div>\n",
       "<style>\n",
       "    .dataframe thead tr:only-child th {\n",
       "        text-align: right;\n",
       "    }\n",
       "\n",
       "    .dataframe thead th {\n",
       "        text-align: left;\n",
       "    }\n",
       "\n",
       "    .dataframe tbody tr th {\n",
       "        vertical-align: top;\n",
       "    }\n",
       "</style>\n",
       "<table border=\"1\" class=\"dataframe\">\n",
       "  <thead>\n",
       "    <tr style=\"text-align: right;\">\n",
       "      <th></th>\n",
       "      <th>orderId</th>\n",
       "      <th>goodId</th>\n",
       "      <th>size</th>\n",
       "      <th>qty</th>\n",
       "      <th>price</th>\n",
       "      <th>originalPrice</th>\n",
       "      <th>originalOldPrice</th>\n",
       "    </tr>\n",
       "  </thead>\n",
       "  <tbody>\n",
       "    <tr>\n",
       "      <th>0</th>\n",
       "      <td>451752.0</td>\n",
       "      <td>37101.0</td>\n",
       "      <td>70B</td>\n",
       "      <td>2.0</td>\n",
       "      <td>1.0</td>\n",
       "      <td>499.0</td>\n",
       "      <td>1099.0</td>\n",
       "    </tr>\n",
       "    <tr>\n",
       "      <th>1</th>\n",
       "      <td>451752.0</td>\n",
       "      <td>37129.0</td>\n",
       "      <td>S</td>\n",
       "      <td>2.0</td>\n",
       "      <td>499.0</td>\n",
       "      <td>499.0</td>\n",
       "      <td>0.0</td>\n",
       "    </tr>\n",
       "    <tr>\n",
       "      <th>2</th>\n",
       "      <td>451752.0</td>\n",
       "      <td>42809.0</td>\n",
       "      <td>one size</td>\n",
       "      <td>1.0</td>\n",
       "      <td>1.0</td>\n",
       "      <td>399.0</td>\n",
       "      <td>0.0</td>\n",
       "    </tr>\n",
       "    <tr>\n",
       "      <th>3</th>\n",
       "      <td>451752.0</td>\n",
       "      <td>37101.0</td>\n",
       "      <td>75C</td>\n",
       "      <td>1.0</td>\n",
       "      <td>499.0</td>\n",
       "      <td>499.0</td>\n",
       "      <td>1099.0</td>\n",
       "    </tr>\n",
       "    <tr>\n",
       "      <th>4</th>\n",
       "      <td>451752.0</td>\n",
       "      <td>42784.0</td>\n",
       "      <td>S</td>\n",
       "      <td>1.0</td>\n",
       "      <td>1.0</td>\n",
       "      <td>499.0</td>\n",
       "      <td>0.0</td>\n",
       "    </tr>\n",
       "  </tbody>\n",
       "</table>\n",
       "</div>"
      ],
      "text/plain": [
       "    orderId   goodId      size  qty  price  originalPrice  originalOldPrice\n",
       "0  451752.0  37101.0       70B  2.0    1.0          499.0            1099.0\n",
       "1  451752.0  37129.0         S  2.0  499.0          499.0               0.0\n",
       "2  451752.0  42809.0  one size  1.0    1.0          399.0               0.0\n",
       "3  451752.0  37101.0       75C  1.0  499.0          499.0            1099.0\n",
       "4  451752.0  42784.0         S  1.0    1.0          499.0               0.0"
      ]
     },
     "execution_count": 6,
     "metadata": {},
     "output_type": "execute_result"
    }
   ],
   "source": [
    "order_goods = pd.read_csv('order-goods.csv', sep=';', \n",
    "                          encoding='ISO-8859-1', dtype={'price': 'object'})\n",
    "\n",
    "order_goods.price = order_goods.price.apply(lambda x: float((str(x).replace(' ', ''))))\n",
    "\n",
    "print('Size of the data set: {} rows and {} columns'.format(*order_goods.shape))\n",
    "order_goods.head()"
   ]
  },
  {
   "cell_type": "markdown",
   "metadata": {},
   "source": [
    "Посчитаем количество отсутствующих значений в данных."
   ]
  },
  {
   "cell_type": "code",
   "execution_count": 7,
   "metadata": {},
   "outputs": [
    {
     "name": "stdout",
     "output_type": "stream",
     "text": [
      "3889 missing values in orderId column\n",
      "1 missing values in goodId column\n",
      "1 missing values in size column\n",
      "1 missing values in qty column\n",
      "1 missing values in price column\n",
      "1 missing values in originalPrice column\n",
      "1 missing values in originalOldPrice column\n"
     ]
    }
   ],
   "source": [
    "for col in order_goods.columns:\n",
    "    print('{} missing values in {} column'.format(order_goods[col].isnull().sum().sum(), col))"
   ]
  },
  {
   "cell_type": "markdown",
   "metadata": {},
   "source": [
    "Удалим строки, содержащие отсутствующие значения."
   ]
  },
  {
   "cell_type": "code",
   "execution_count": 8,
   "metadata": {},
   "outputs": [
    {
     "name": "stdout",
     "output_type": "stream",
     "text": [
      "Size of the data set: 894044 rows and 7 columns\n"
     ]
    }
   ],
   "source": [
    "# order_goods[pd.isnull(order_goods.orderId) == True].head()\n",
    "order_goods.dropna(inplace=True)\n",
    "\n",
    "print('Size of the data set: {} rows and {} columns'.format(*order_goods.shape))"
   ]
  },
  {
   "cell_type": "markdown",
   "metadata": {},
   "source": [
    "Построим граф распределения цен, за которые товар в итоге был приобретен. "
   ]
  },
  {
   "cell_type": "code",
   "execution_count": 9,
   "metadata": {},
   "outputs": [
    {
     "data": {
      "image/png": "[encoded data removed]",
      "text/plain": [
       "<matplotlib.figure.Figure at 0x7f976b1c6438>"
      ]
     },
     "metadata": {},
     "output_type": "display_data"
    },
    {
     "name": "stdout",
     "output_type": "stream",
     "text": [
      "min: 0.0, max: 9999.0, mean: 769.09, std: 597.23\n"
     ]
    }
   ],
   "source": [
    "plt.figure(figsize=(10,6))\n",
    "plt.tick_params(labelsize=16)\n",
    "\n",
    "sns.distplot(order_goods.price, bins=40, kde=False, color='black')\n",
    "\n",
    "plt.xlabel('Value', fontsize=18)\n",
    "plt.ylabel('Frequency', fontsize=18)\n",
    "plt.title('Actual Price Distribution Plot', fontsize=20)\n",
    "plt.show()\n",
    "\n",
    "print('min: {}, max: {}, mean: {:.2f}, std: {:.2f}'.format(\n",
    "    min(order_goods.price), max(order_goods.price), order_goods.price.mean(), order_goods.price.std()))"
   ]
  },
  {
   "cell_type": "markdown",
   "metadata": {},
   "source": [
    "Посмотрим на структуру заказов."
   ]
  },
  {
   "cell_type": "code",
   "execution_count": 10,
   "metadata": {},
   "outputs": [
    {
     "data": {
      "text/plain": [
       "orderId   goodId   size  qty  price   originalPrice  originalOldPrice\n",
       "173042.0  19546.0  146   1.0  599.0   299.0          599.0               1\n",
       "          19549.0  140   1.0  599.0   299.0          599.0               1\n",
       "          23192.0  140   1.0  599.0   599.0          0.0                 1\n",
       "          23206.0  140   1.0  1499.0  599.0          1499.0              1\n",
       "          23223.0  146   1.0  699.0   499.0          699.0               1\n",
       "173043.0  21131.0  XS    2.0  1499.0  1499.0         1999.0              1\n",
       "          21733.0  L     1.0  199.0   199.0          299.0               1\n",
       "173044.0  21132.0  M     1.0  1499.0  1499.0         1999.0              1\n",
       "173045.0  21133.0  S     1.0  399.0   299.0          599.0               1\n",
       "          21681.0  S     1.0  999.0   499.0          999.0               1\n",
       "dtype: int64"
      ]
     },
     "execution_count": 10,
     "metadata": {},
     "output_type": "execute_result"
    }
   ],
   "source": [
    "order_goods.groupby(order_goods.columns.tolist(), as_index=False).size().head(10)"
   ]
  },
  {
   "cell_type": "markdown",
   "metadata": {},
   "source": [
    "## Orders\n",
    "Посмотрим на данные, содержащие информацию о заказах."
   ]
  },
  {
   "cell_type": "code",
   "execution_count": 11,
   "metadata": {},
   "outputs": [
    {
     "name": "stdout",
     "output_type": "stream",
     "text": [
      "Size of the data set: 174063 rows and 9 columns\n"
     ]
    },
    {
     "data": {
      "text/html": [
       "<div>\n",
       "<style>\n",
       "    .dataframe thead tr:only-child th {\n",
       "        text-align: right;\n",
       "    }\n",
       "\n",
       "    .dataframe thead th {\n",
       "        text-align: left;\n",
       "    }\n",
       "\n",
       "    .dataframe tbody tr th {\n",
       "        vertical-align: top;\n",
       "    }\n",
       "</style>\n",
       "<table border=\"1\" class=\"dataframe\">\n",
       "  <thead>\n",
       "    <tr style=\"text-align: right;\">\n",
       "      <th></th>\n",
       "      <th>id</th>\n",
       "      <th>from_site</th>\n",
       "      <th>status</th>\n",
       "      <th>payment_type</th>\n",
       "      <th>payed</th>\n",
       "      <th>accept_time</th>\n",
       "      <th>total_cost</th>\n",
       "      <th>user_id</th>\n",
       "      <th>erp_status</th>\n",
       "    </tr>\n",
       "  </thead>\n",
       "  <tbody>\n",
       "    <tr>\n",
       "      <th>0</th>\n",
       "      <td>451752.0</td>\n",
       "      <td>inflin</td>\n",
       "      <td>6.0</td>\n",
       "      <td>cash</td>\n",
       "      <td>0.0</td>\n",
       "      <td>2017-05-31 23:45:40</td>\n",
       "      <td>2399.0</td>\n",
       "      <td>357892.0</td>\n",
       "      <td>-</td>\n",
       "    </tr>\n",
       "    <tr>\n",
       "      <th>1</th>\n",
       "      <td>451751.0</td>\n",
       "      <td>inflin</td>\n",
       "      <td>6.0</td>\n",
       "      <td>cash</td>\n",
       "      <td>0.0</td>\n",
       "      <td>2017-05-31 23:44:14</td>\n",
       "      <td>2200.0</td>\n",
       "      <td>82507.0</td>\n",
       "      <td>-</td>\n",
       "    </tr>\n",
       "    <tr>\n",
       "      <th>2</th>\n",
       "      <td>451750.0</td>\n",
       "      <td>concept</td>\n",
       "      <td>6.0</td>\n",
       "      <td>cash</td>\n",
       "      <td>0.0</td>\n",
       "      <td>2017-05-31 23:39:14</td>\n",
       "      <td>6000.0</td>\n",
       "      <td>316491.0</td>\n",
       "      <td>-</td>\n",
       "    </tr>\n",
       "    <tr>\n",
       "      <th>3</th>\n",
       "      <td>451749.0</td>\n",
       "      <td>acoola</td>\n",
       "      <td>6.0</td>\n",
       "      <td>cash</td>\n",
       "      <td>0.0</td>\n",
       "      <td>2017-05-31 23:37:19</td>\n",
       "      <td>2101.0</td>\n",
       "      <td>336144.0</td>\n",
       "      <td>-</td>\n",
       "    </tr>\n",
       "    <tr>\n",
       "      <th>4</th>\n",
       "      <td>451746.0</td>\n",
       "      <td>concept</td>\n",
       "      <td>6.0</td>\n",
       "      <td>cash</td>\n",
       "      <td>0.0</td>\n",
       "      <td>2017-05-31 23:27:22</td>\n",
       "      <td>6300.0</td>\n",
       "      <td>332755.0</td>\n",
       "      <td>-</td>\n",
       "    </tr>\n",
       "  </tbody>\n",
       "</table>\n",
       "</div>"
      ],
      "text/plain": [
       "         id from_site  status payment_type  payed         accept_time  \\\n",
       "0  451752.0    inflin     6.0         cash    0.0 2017-05-31 23:45:40   \n",
       "1  451751.0    inflin     6.0         cash    0.0 2017-05-31 23:44:14   \n",
       "2  451750.0   concept     6.0         cash    0.0 2017-05-31 23:39:14   \n",
       "3  451749.0    acoola     6.0         cash    0.0 2017-05-31 23:37:19   \n",
       "4  451746.0   concept     6.0         cash    0.0 2017-05-31 23:27:22   \n",
       "\n",
       "   total_cost   user_id erp_status  \n",
       "0      2399.0  357892.0          -  \n",
       "1      2200.0   82507.0          -  \n",
       "2      6000.0  316491.0          -  \n",
       "3      2101.0  336144.0          -  \n",
       "4      6300.0  332755.0          -  "
      ]
     },
     "execution_count": 11,
     "metadata": {},
     "output_type": "execute_result"
    }
   ],
   "source": [
    "orders = pd.read_csv('orders.csv', sep=';', dtype={'erp_status': 'object'})\n",
    "\n",
    "orders.accept_time = pd.to_datetime(orders.accept_time)\n",
    "\n",
    "print('Size of the data set: {} rows and {} columns'.format(*orders.shape))\n",
    "orders.head()"
   ]
  },
  {
   "cell_type": "markdown",
   "metadata": {},
   "source": [
    "Посчитаем количество отсутствующих значений в данных и удалим строки, содержащие эти значения."
   ]
  },
  {
   "cell_type": "code",
   "execution_count": 12,
   "metadata": {},
   "outputs": [
    {
     "name": "stdout",
     "output_type": "stream",
     "text": [
      "1371 missing values in id column\n",
      "1 missing values in from_site column\n",
      "1 missing values in status column\n",
      "74 missing values in payment_type column\n",
      "1 missing values in payed column\n",
      "1 missing values in accept_time column\n",
      "1 missing values in total_cost column\n",
      "1 missing values in user_id column\n",
      "1 missing values in erp_status column\n"
     ]
    }
   ],
   "source": [
    "for col in orders.columns:\n",
    "    print('{} missing values in {} column'.format(orders[col].isnull().sum().sum(), col))"
   ]
  },
  {
   "cell_type": "code",
   "execution_count": 13,
   "metadata": {},
   "outputs": [
    {
     "name": "stdout",
     "output_type": "stream",
     "text": [
      "Size of the data set: 172619 rows and 9 columns\n"
     ]
    }
   ],
   "source": [
    "orders.dropna(inplace=True)\n",
    "print('Size of the data set: {} rows and {} columns'.format(*orders.shape))"
   ]
  },
  {
   "cell_type": "markdown",
   "metadata": {},
   "source": [
    "Посмотрим на статусы заказов, где заказ:\n",
    "* 3 - оплачен, формируется к отправке\n",
    "* 5 - отменен\n",
    "* 6 - отправлен \n",
    "* 7 - продажа оформлена"
   ]
  },
  {
   "cell_type": "code",
   "execution_count": 14,
   "metadata": {},
   "outputs": [
    {
     "data": {
      "text/plain": [
       "6.0    148032\n",
       "5.0     24540\n",
       "3.0        43\n",
       "7.0         4\n",
       "Name: status, dtype: int64"
      ]
     },
     "execution_count": 14,
     "metadata": {},
     "output_type": "execute_result"
    }
   ],
   "source": [
    "orders.status.value_counts()"
   ]
  },
  {
   "cell_type": "code",
   "execution_count": 16,
   "metadata": {},
   "outputs": [
    {
     "data": {
      "image/png": "[encoded data removed]",
      "text/plain": [
       "<matplotlib.figure.Figure at 0x7f976b1e8630>"
      ]
     },
     "metadata": {},
     "output_type": "display_data"
    }
   ],
   "source": [
    "plt.figure(figsize=(6,4))\n",
    "plt.tick_params(labelsize=16)\n",
    "\n",
    "sns.countplot(orders.payment_type, color='tomato').set(yscale='log')\n",
    "\n",
    "plt.xlabel('Payment type', fontsize=18)\n",
    "plt.ylabel('Count (log scale)', fontsize=18)\n",
    "plt.title('Payment Type Count Plot', fontsize=20)\n",
    "plt.show()"
   ]
  },
  {
   "cell_type": "markdown",
   "metadata": {},
   "source": [
    "## RFM analysis\n",
    "Сформируем сводную таблицу данных (только значения заказов со статусом 6)."
   ]
  },
  {
   "cell_type": "code",
   "execution_count": 17,
   "metadata": {
    "collapsed": true
   },
   "outputs": [],
   "source": [
    "order_goods.rename(columns={'orderId': 'order_id'}, inplace=True)\n",
    "orders.rename(columns={'id': 'order_id'}, inplace=True)"
   ]
  },
  {
   "cell_type": "code",
   "execution_count": 18,
   "metadata": {},
   "outputs": [
    {
     "name": "stdout",
     "output_type": "stream",
     "text": [
      "Size of the data set: 585924 rows and 15 columns\n"
     ]
    },
    {
     "data": {
      "text/html": [
       "<div>\n",
       "<style>\n",
       "    .dataframe thead tr:only-child th {\n",
       "        text-align: right;\n",
       "    }\n",
       "\n",
       "    .dataframe thead th {\n",
       "        text-align: left;\n",
       "    }\n",
       "\n",
       "    .dataframe tbody tr th {\n",
       "        vertical-align: top;\n",
       "    }\n",
       "</style>\n",
       "<table border=\"1\" class=\"dataframe\">\n",
       "  <thead>\n",
       "    <tr style=\"text-align: right;\">\n",
       "      <th></th>\n",
       "      <th>order_id</th>\n",
       "      <th>from_site</th>\n",
       "      <th>status</th>\n",
       "      <th>payment_type</th>\n",
       "      <th>payed</th>\n",
       "      <th>accept_time</th>\n",
       "      <th>total_cost</th>\n",
       "      <th>user_id</th>\n",
       "      <th>erp_status</th>\n",
       "      <th>goodId</th>\n",
       "      <th>size</th>\n",
       "      <th>qty</th>\n",
       "      <th>price</th>\n",
       "      <th>originalPrice</th>\n",
       "      <th>originalOldPrice</th>\n",
       "    </tr>\n",
       "  </thead>\n",
       "  <tbody>\n",
       "    <tr>\n",
       "      <th>0</th>\n",
       "      <td>451752.0</td>\n",
       "      <td>inflin</td>\n",
       "      <td>6.0</td>\n",
       "      <td>cash</td>\n",
       "      <td>0.0</td>\n",
       "      <td>2017-05-31 23:45:40</td>\n",
       "      <td>2399.0</td>\n",
       "      <td>357892.0</td>\n",
       "      <td>-</td>\n",
       "      <td>37101.0</td>\n",
       "      <td>70B</td>\n",
       "      <td>2.0</td>\n",
       "      <td>1.0</td>\n",
       "      <td>499.0</td>\n",
       "      <td>1099.0</td>\n",
       "    </tr>\n",
       "    <tr>\n",
       "      <th>1</th>\n",
       "      <td>451752.0</td>\n",
       "      <td>inflin</td>\n",
       "      <td>6.0</td>\n",
       "      <td>cash</td>\n",
       "      <td>0.0</td>\n",
       "      <td>2017-05-31 23:45:40</td>\n",
       "      <td>2399.0</td>\n",
       "      <td>357892.0</td>\n",
       "      <td>-</td>\n",
       "      <td>37129.0</td>\n",
       "      <td>S</td>\n",
       "      <td>2.0</td>\n",
       "      <td>499.0</td>\n",
       "      <td>499.0</td>\n",
       "      <td>0.0</td>\n",
       "    </tr>\n",
       "    <tr>\n",
       "      <th>2</th>\n",
       "      <td>451752.0</td>\n",
       "      <td>inflin</td>\n",
       "      <td>6.0</td>\n",
       "      <td>cash</td>\n",
       "      <td>0.0</td>\n",
       "      <td>2017-05-31 23:45:40</td>\n",
       "      <td>2399.0</td>\n",
       "      <td>357892.0</td>\n",
       "      <td>-</td>\n",
       "      <td>42809.0</td>\n",
       "      <td>one size</td>\n",
       "      <td>1.0</td>\n",
       "      <td>1.0</td>\n",
       "      <td>399.0</td>\n",
       "      <td>0.0</td>\n",
       "    </tr>\n",
       "    <tr>\n",
       "      <th>3</th>\n",
       "      <td>451752.0</td>\n",
       "      <td>inflin</td>\n",
       "      <td>6.0</td>\n",
       "      <td>cash</td>\n",
       "      <td>0.0</td>\n",
       "      <td>2017-05-31 23:45:40</td>\n",
       "      <td>2399.0</td>\n",
       "      <td>357892.0</td>\n",
       "      <td>-</td>\n",
       "      <td>37101.0</td>\n",
       "      <td>75C</td>\n",
       "      <td>1.0</td>\n",
       "      <td>499.0</td>\n",
       "      <td>499.0</td>\n",
       "      <td>1099.0</td>\n",
       "    </tr>\n",
       "    <tr>\n",
       "      <th>4</th>\n",
       "      <td>451752.0</td>\n",
       "      <td>inflin</td>\n",
       "      <td>6.0</td>\n",
       "      <td>cash</td>\n",
       "      <td>0.0</td>\n",
       "      <td>2017-05-31 23:45:40</td>\n",
       "      <td>2399.0</td>\n",
       "      <td>357892.0</td>\n",
       "      <td>-</td>\n",
       "      <td>42784.0</td>\n",
       "      <td>S</td>\n",
       "      <td>1.0</td>\n",
       "      <td>1.0</td>\n",
       "      <td>499.0</td>\n",
       "      <td>0.0</td>\n",
       "    </tr>\n",
       "  </tbody>\n",
       "</table>\n",
       "</div>"
      ],
      "text/plain": [
       "   order_id from_site  status payment_type  payed         accept_time  \\\n",
       "0  451752.0    inflin     6.0         cash    0.0 2017-05-31 23:45:40   \n",
       "1  451752.0    inflin     6.0         cash    0.0 2017-05-31 23:45:40   \n",
       "2  451752.0    inflin     6.0         cash    0.0 2017-05-31 23:45:40   \n",
       "3  451752.0    inflin     6.0         cash    0.0 2017-05-31 23:45:40   \n",
       "4  451752.0    inflin     6.0         cash    0.0 2017-05-31 23:45:40   \n",
       "\n",
       "   total_cost   user_id erp_status   goodId      size  qty  price  \\\n",
       "0      2399.0  357892.0          -  37101.0       70B  2.0    1.0   \n",
       "1      2399.0  357892.0          -  37129.0         S  2.0  499.0   \n",
       "2      2399.0  357892.0          -  42809.0  one size  1.0    1.0   \n",
       "3      2399.0  357892.0          -  37101.0       75C  1.0  499.0   \n",
       "4      2399.0  357892.0          -  42784.0         S  1.0    1.0   \n",
       "\n",
       "   originalPrice  originalOldPrice  \n",
       "0          499.0            1099.0  \n",
       "1          499.0               0.0  \n",
       "2          399.0               0.0  \n",
       "3          499.0            1099.0  \n",
       "4          499.0               0.0  "
      ]
     },
     "execution_count": 18,
     "metadata": {},
     "output_type": "execute_result"
    }
   ],
   "source": [
    "rfm_data = pd.merge(orders[orders.status == 6], order_goods, how='inner', on='order_id')\n",
    "\n",
    "print('Size of the data set: {} rows and {} columns'.format(*rfm_data.shape))\n",
    "rfm_data.head()"
   ]
  },
  {
   "cell_type": "markdown",
   "metadata": {},
   "source": [
    "## RFM table"
   ]
  },
  {
   "cell_type": "code",
   "execution_count": 19,
   "metadata": {
    "collapsed": true
   },
   "outputs": [],
   "source": [
    "import datetime as dt\n",
    "\n",
    "now = rfm_data.accept_time.max()"
   ]
  },
  {
   "cell_type": "code",
   "execution_count": 20,
   "metadata": {},
   "outputs": [
    {
     "data": {
      "text/html": [
       "<div>\n",
       "<style>\n",
       "    .dataframe thead tr:only-child th {\n",
       "        text-align: right;\n",
       "    }\n",
       "\n",
       "    .dataframe thead th {\n",
       "        text-align: left;\n",
       "    }\n",
       "\n",
       "    .dataframe tbody tr th {\n",
       "        vertical-align: top;\n",
       "    }\n",
       "</style>\n",
       "<table border=\"1\" class=\"dataframe\">\n",
       "  <thead>\n",
       "    <tr style=\"text-align: right;\">\n",
       "      <th></th>\n",
       "      <th>recency</th>\n",
       "      <th>frequency</th>\n",
       "      <th>monetary_value</th>\n",
       "    </tr>\n",
       "    <tr>\n",
       "      <th>user_id</th>\n",
       "      <th></th>\n",
       "      <th></th>\n",
       "      <th></th>\n",
       "    </tr>\n",
       "  </thead>\n",
       "  <tbody>\n",
       "    <tr>\n",
       "      <th>48.0</th>\n",
       "      <td>77</td>\n",
       "      <td>19.0</td>\n",
       "      <td>21541.0</td>\n",
       "    </tr>\n",
       "    <tr>\n",
       "      <th>70.0</th>\n",
       "      <td>308</td>\n",
       "      <td>7.0</td>\n",
       "      <td>6308.0</td>\n",
       "    </tr>\n",
       "    <tr>\n",
       "      <th>102.0</th>\n",
       "      <td>447</td>\n",
       "      <td>6.0</td>\n",
       "      <td>8804.0</td>\n",
       "    </tr>\n",
       "    <tr>\n",
       "      <th>144.0</th>\n",
       "      <td>424</td>\n",
       "      <td>3.0</td>\n",
       "      <td>3912.0</td>\n",
       "    </tr>\n",
       "    <tr>\n",
       "      <th>151.0</th>\n",
       "      <td>158</td>\n",
       "      <td>3.0</td>\n",
       "      <td>1699.0</td>\n",
       "    </tr>\n",
       "  </tbody>\n",
       "</table>\n",
       "</div>"
      ],
      "text/plain": [
       "         recency  frequency  monetary_value\n",
       "user_id                                    \n",
       "48.0          77       19.0         21541.0\n",
       "70.0         308        7.0          6308.0\n",
       "102.0        447        6.0          8804.0\n",
       "144.0        424        3.0          3912.0\n",
       "151.0        158        3.0          1699.0"
      ]
     },
     "execution_count": 20,
     "metadata": {},
     "output_type": "execute_result"
    }
   ],
   "source": [
    "rfm_table = rfm_data.groupby('user_id').agg({'accept_time': lambda x: (now - x.max()).days, \n",
    "                                         'order_id': lambda x: len(x),\n",
    "                                         'price': lambda x: x.sum()})\n",
    "\n",
    "rfm_table.rename(columns={'accept_time': 'recency', \n",
    "                          'order_id': 'frequency', \n",
    "                          'price': 'monetary_value'}, inplace=True)\n",
    "\n",
    "cols = ['recency', 'frequency', 'monetary_value']\n",
    "rfm_table = rfm_table[cols]\n",
    "\n",
    "rfm_table.head()"
   ]
  },
  {
   "cell_type": "code",
   "execution_count": 22,
   "metadata": {},
   "outputs": [
    {
     "data": {
      "text/plain": [
       "6308.0"
      ]
     },
     "execution_count": 22,
     "metadata": {},
     "output_type": "execute_result"
    }
   ],
   "source": [
    "rfm_data.price[rfm_data.user_id == 70.0].sum()"
   ]
  },
  {
   "cell_type": "code",
   "execution_count": 23,
   "metadata": {},
   "outputs": [
    {
     "data": {
      "text/plain": [
       "7"
      ]
     },
     "execution_count": 23,
     "metadata": {},
     "output_type": "execute_result"
    }
   ],
   "source": [
    "rfm_data.order_id[rfm_data.user_id == 70.0].count()"
   ]
  },
  {
   "cell_type": "code",
   "execution_count": 24,
   "metadata": {},
   "outputs": [
    {
     "data": {
      "text/plain": [
       "308"
      ]
     },
     "execution_count": 24,
     "metadata": {},
     "output_type": "execute_result"
    }
   ],
   "source": [
    "(now - dt.datetime(2016, 7, 27)).days"
   ]
  },
  {
   "cell_type": "markdown",
   "metadata": {},
   "source": [
    "## RFM Quartiles"
   ]
  },
  {
   "cell_type": "code",
   "execution_count": 25,
   "metadata": {},
   "outputs": [
    {
     "data": {
      "text/html": [
       "<div>\n",
       "<style>\n",
       "    .dataframe thead tr:only-child th {\n",
       "        text-align: right;\n",
       "    }\n",
       "\n",
       "    .dataframe thead th {\n",
       "        text-align: left;\n",
       "    }\n",
       "\n",
       "    .dataframe tbody tr th {\n",
       "        vertical-align: top;\n",
       "    }\n",
       "</style>\n",
       "<table border=\"1\" class=\"dataframe\">\n",
       "  <thead>\n",
       "    <tr style=\"text-align: right;\">\n",
       "      <th></th>\n",
       "      <th>recency</th>\n",
       "      <th>frequency</th>\n",
       "      <th>monetary_value</th>\n",
       "    </tr>\n",
       "  </thead>\n",
       "  <tbody>\n",
       "    <tr>\n",
       "      <th>0.25</th>\n",
       "      <td>91.0</td>\n",
       "      <td>2.0</td>\n",
       "      <td>2000.0</td>\n",
       "    </tr>\n",
       "    <tr>\n",
       "      <th>0.50</th>\n",
       "      <td>229.0</td>\n",
       "      <td>5.0</td>\n",
       "      <td>3600.0</td>\n",
       "    </tr>\n",
       "    <tr>\n",
       "      <th>0.75</th>\n",
       "      <td>484.0</td>\n",
       "      <td>10.0</td>\n",
       "      <td>7893.0</td>\n",
       "    </tr>\n",
       "  </tbody>\n",
       "</table>\n",
       "</div>"
      ],
      "text/plain": [
       "      recency  frequency  monetary_value\n",
       "0.25     91.0        2.0          2000.0\n",
       "0.50    229.0        5.0          3600.0\n",
       "0.75    484.0       10.0          7893.0"
      ]
     },
     "execution_count": 25,
     "metadata": {},
     "output_type": "execute_result"
    }
   ],
   "source": [
    "quantiles = rfm_table.quantile(q=[0.25,0.5,0.75])\n",
    "quantiles"
   ]
  },
  {
   "cell_type": "code",
   "execution_count": 26,
   "metadata": {},
   "outputs": [
    {
     "data": {
      "text/plain": [
       "{'frequency': {0.25: 2.0, 0.5: 5.0, 0.75: 10.0},\n",
       " 'monetary_value': {0.25: 2000.0, 0.5: 3600.0, 0.75: 7893.0},\n",
       " 'recency': {0.25: 91.0, 0.5: 229.0, 0.75: 484.0}}"
      ]
     },
     "execution_count": 26,
     "metadata": {},
     "output_type": "execute_result"
    }
   ],
   "source": [
    "quantiles = quantiles.to_dict()\n",
    "quantiles"
   ]
  },
  {
   "cell_type": "markdown",
   "metadata": {},
   "source": [
    "## RFM segmentation table"
   ]
  },
  {
   "cell_type": "code",
   "execution_count": 27,
   "metadata": {
    "collapsed": true
   },
   "outputs": [],
   "source": [
    "rfm_segmentation = rfm_table"
   ]
  },
  {
   "cell_type": "code",
   "execution_count": 28,
   "metadata": {},
   "outputs": [
    {
     "data": {
      "text/plain": [
       "91.0"
      ]
     },
     "execution_count": 28,
     "metadata": {},
     "output_type": "execute_result"
    }
   ],
   "source": [
    "quantiles['recency'][0.25]"
   ]
  },
  {
   "cell_type": "code",
   "execution_count": 29,
   "metadata": {
    "collapsed": true
   },
   "outputs": [],
   "source": [
    "# Arguments (x = value, p = recency, monetary_value, frequency, d = quartiles dict)\n",
    "def r_class(x, p, d):\n",
    "    if x <= d[p][0.25]:\n",
    "        return 1\n",
    "    elif x <= d[p][0.50]:\n",
    "        return 2\n",
    "    elif x <= d[p][0.75]: \n",
    "        return 3\n",
    "    else:\n",
    "        return 4\n",
    "    \n",
    "# Arguments (x = value, p = recency, monetary_value, frequency, d = quartiles dict)\n",
    "def fm_class(x, p, d):\n",
    "    if x <= d[p][0.25]:\n",
    "        return 4\n",
    "    elif x <= d[p][0.50]:\n",
    "        return 3\n",
    "    elif x <= d[p][0.75]: \n",
    "        return 2\n",
    "    else:\n",
    "        return 1"
   ]
  },
  {
   "cell_type": "code",
   "execution_count": 30,
   "metadata": {
    "collapsed": true
   },
   "outputs": [],
   "source": [
    "rfm_segmentation['r_quartile'] = rfm_segmentation['recency'].apply(r_class, args=('recency', quantiles))\n",
    "rfm_segmentation['f_quartile'] = rfm_segmentation['frequency'].apply(fm_class, args=('frequency', quantiles))\n",
    "rfm_segmentation['m_quartile'] = rfm_segmentation['monetary_value'].apply(fm_class, args=('monetary_value', quantiles))"
   ]
  },
  {
   "cell_type": "code",
   "execution_count": 31,
   "metadata": {},
   "outputs": [
    {
     "data": {
      "text/html": [
       "<div>\n",
       "<style>\n",
       "    .dataframe thead tr:only-child th {\n",
       "        text-align: right;\n",
       "    }\n",
       "\n",
       "    .dataframe thead th {\n",
       "        text-align: left;\n",
       "    }\n",
       "\n",
       "    .dataframe tbody tr th {\n",
       "        vertical-align: top;\n",
       "    }\n",
       "</style>\n",
       "<table border=\"1\" class=\"dataframe\">\n",
       "  <thead>\n",
       "    <tr style=\"text-align: right;\">\n",
       "      <th></th>\n",
       "      <th>recency</th>\n",
       "      <th>frequency</th>\n",
       "      <th>monetary_value</th>\n",
       "      <th>r_quartile</th>\n",
       "      <th>f_quartile</th>\n",
       "      <th>m_quartile</th>\n",
       "      <th>rfm_class</th>\n",
       "    </tr>\n",
       "    <tr>\n",
       "      <th>user_id</th>\n",
       "      <th></th>\n",
       "      <th></th>\n",
       "      <th></th>\n",
       "      <th></th>\n",
       "      <th></th>\n",
       "      <th></th>\n",
       "      <th></th>\n",
       "    </tr>\n",
       "  </thead>\n",
       "  <tbody>\n",
       "    <tr>\n",
       "      <th>48.0</th>\n",
       "      <td>77</td>\n",
       "      <td>19.0</td>\n",
       "      <td>21541.0</td>\n",
       "      <td>1</td>\n",
       "      <td>1</td>\n",
       "      <td>1</td>\n",
       "      <td>111</td>\n",
       "    </tr>\n",
       "    <tr>\n",
       "      <th>70.0</th>\n",
       "      <td>308</td>\n",
       "      <td>7.0</td>\n",
       "      <td>6308.0</td>\n",
       "      <td>3</td>\n",
       "      <td>2</td>\n",
       "      <td>2</td>\n",
       "      <td>322</td>\n",
       "    </tr>\n",
       "    <tr>\n",
       "      <th>102.0</th>\n",
       "      <td>447</td>\n",
       "      <td>6.0</td>\n",
       "      <td>8804.0</td>\n",
       "      <td>3</td>\n",
       "      <td>2</td>\n",
       "      <td>1</td>\n",
       "      <td>321</td>\n",
       "    </tr>\n",
       "    <tr>\n",
       "      <th>144.0</th>\n",
       "      <td>424</td>\n",
       "      <td>3.0</td>\n",
       "      <td>3912.0</td>\n",
       "      <td>3</td>\n",
       "      <td>3</td>\n",
       "      <td>2</td>\n",
       "      <td>332</td>\n",
       "    </tr>\n",
       "    <tr>\n",
       "      <th>151.0</th>\n",
       "      <td>158</td>\n",
       "      <td>3.0</td>\n",
       "      <td>1699.0</td>\n",
       "      <td>2</td>\n",
       "      <td>3</td>\n",
       "      <td>4</td>\n",
       "      <td>234</td>\n",
       "    </tr>\n",
       "  </tbody>\n",
       "</table>\n",
       "</div>"
      ],
      "text/plain": [
       "         recency  frequency  monetary_value  r_quartile  f_quartile  \\\n",
       "user_id                                                               \n",
       "48.0          77       19.0         21541.0           1           1   \n",
       "70.0         308        7.0          6308.0           3           2   \n",
       "102.0        447        6.0          8804.0           3           2   \n",
       "144.0        424        3.0          3912.0           3           3   \n",
       "151.0        158        3.0          1699.0           2           3   \n",
       "\n",
       "         m_quartile rfm_class  \n",
       "user_id                        \n",
       "48.0              1       111  \n",
       "70.0              2       322  \n",
       "102.0             1       321  \n",
       "144.0             2       332  \n",
       "151.0             4       234  "
      ]
     },
     "execution_count": 31,
     "metadata": {},
     "output_type": "execute_result"
    }
   ],
   "source": [
    "rfm_segmentation['rfm_class'] = rfm_segmentation.r_quartile.map(str) \\\n",
    "                              + rfm_segmentation.f_quartile.map(str) \\\n",
    "                              + rfm_segmentation.m_quartile.map(str)\n",
    "rfm_segmentation.head()"
   ]
  },
  {
   "cell_type": "markdown",
   "metadata": {},
   "source": [
    "## Top 5 best customers"
   ]
  },
  {
   "cell_type": "code",
   "execution_count": 32,
   "metadata": {},
   "outputs": [
    {
     "data": {
      "text/html": [
       "<div>\n",
       "<style>\n",
       "    .dataframe thead tr:only-child th {\n",
       "        text-align: right;\n",
       "    }\n",
       "\n",
       "    .dataframe thead th {\n",
       "        text-align: left;\n",
       "    }\n",
       "\n",
       "    .dataframe tbody tr th {\n",
       "        vertical-align: top;\n",
       "    }\n",
       "</style>\n",
       "<table border=\"1\" class=\"dataframe\">\n",
       "  <thead>\n",
       "    <tr style=\"text-align: right;\">\n",
       "      <th></th>\n",
       "      <th>recency</th>\n",
       "      <th>frequency</th>\n",
       "      <th>monetary_value</th>\n",
       "      <th>r_quartile</th>\n",
       "      <th>f_quartile</th>\n",
       "      <th>m_quartile</th>\n",
       "      <th>rfm_class</th>\n",
       "    </tr>\n",
       "    <tr>\n",
       "      <th>user_id</th>\n",
       "      <th></th>\n",
       "      <th></th>\n",
       "      <th></th>\n",
       "      <th></th>\n",
       "      <th></th>\n",
       "      <th></th>\n",
       "      <th></th>\n",
       "    </tr>\n",
       "  </thead>\n",
       "  <tbody>\n",
       "    <tr>\n",
       "      <th>357885.0</th>\n",
       "      <td>0</td>\n",
       "      <td>12.0</td>\n",
       "      <td>13300.0</td>\n",
       "      <td>1</td>\n",
       "      <td>1</td>\n",
       "      <td>1</td>\n",
       "      <td>111</td>\n",
       "    </tr>\n",
       "    <tr>\n",
       "      <th>28864.0</th>\n",
       "      <td>0</td>\n",
       "      <td>11.0</td>\n",
       "      <td>8995.0</td>\n",
       "      <td>1</td>\n",
       "      <td>1</td>\n",
       "      <td>1</td>\n",
       "      <td>111</td>\n",
       "    </tr>\n",
       "    <tr>\n",
       "      <th>306405.0</th>\n",
       "      <td>0</td>\n",
       "      <td>22.0</td>\n",
       "      <td>14890.0</td>\n",
       "      <td>1</td>\n",
       "      <td>1</td>\n",
       "      <td>1</td>\n",
       "      <td>111</td>\n",
       "    </tr>\n",
       "    <tr>\n",
       "      <th>212683.0</th>\n",
       "      <td>0</td>\n",
       "      <td>102.0</td>\n",
       "      <td>84568.0</td>\n",
       "      <td>1</td>\n",
       "      <td>1</td>\n",
       "      <td>1</td>\n",
       "      <td>111</td>\n",
       "    </tr>\n",
       "    <tr>\n",
       "      <th>39590.0</th>\n",
       "      <td>0</td>\n",
       "      <td>41.0</td>\n",
       "      <td>30120.0</td>\n",
       "      <td>1</td>\n",
       "      <td>1</td>\n",
       "      <td>1</td>\n",
       "      <td>111</td>\n",
       "    </tr>\n",
       "  </tbody>\n",
       "</table>\n",
       "</div>"
      ],
      "text/plain": [
       "          recency  frequency  monetary_value  r_quartile  f_quartile  \\\n",
       "user_id                                                                \n",
       "357885.0        0       12.0         13300.0           1           1   \n",
       "28864.0         0       11.0          8995.0           1           1   \n",
       "306405.0        0       22.0         14890.0           1           1   \n",
       "212683.0        0      102.0         84568.0           1           1   \n",
       "39590.0         0       41.0         30120.0           1           1   \n",
       "\n",
       "          m_quartile rfm_class  \n",
       "user_id                         \n",
       "357885.0           1       111  \n",
       "28864.0            1       111  \n",
       "306405.0           1       111  \n",
       "212683.0           1       111  \n",
       "39590.0            1       111  "
      ]
     },
     "execution_count": 32,
     "metadata": {},
     "output_type": "execute_result"
    }
   ],
   "source": [
    "rfm_segmentation[rfm_segmentation['rfm_class']=='111'].sort_values('recency', ascending=True).head(5)"
   ]
  },
  {
   "cell_type": "code",
   "execution_count": 33,
   "metadata": {},
   "outputs": [
    {
     "data": {
      "text/plain": [
       "Timedelta('0 days 01:45:55')"
      ]
     },
     "execution_count": 33,
     "metadata": {},
     "output_type": "execute_result"
    }
   ],
   "source": [
    "now - rfm_data.accept_time[rfm_data.user_id == 357885.0].max()"
   ]
  },
  {
   "cell_type": "code",
   "execution_count": 34,
   "metadata": {},
   "outputs": [
    {
     "data": {
      "text/html": [
       "<div>\n",
       "<style>\n",
       "    .dataframe thead tr:only-child th {\n",
       "        text-align: right;\n",
       "    }\n",
       "\n",
       "    .dataframe thead th {\n",
       "        text-align: left;\n",
       "    }\n",
       "\n",
       "    .dataframe tbody tr th {\n",
       "        vertical-align: top;\n",
       "    }\n",
       "</style>\n",
       "<table border=\"1\" class=\"dataframe\">\n",
       "  <thead>\n",
       "    <tr style=\"text-align: right;\">\n",
       "      <th></th>\n",
       "      <th>recency</th>\n",
       "      <th>frequency</th>\n",
       "      <th>monetary_value</th>\n",
       "      <th>r_quartile</th>\n",
       "      <th>f_quartile</th>\n",
       "      <th>m_quartile</th>\n",
       "      <th>rfm_class</th>\n",
       "    </tr>\n",
       "    <tr>\n",
       "      <th>user_id</th>\n",
       "      <th></th>\n",
       "      <th></th>\n",
       "      <th></th>\n",
       "      <th></th>\n",
       "      <th></th>\n",
       "      <th></th>\n",
       "      <th></th>\n",
       "    </tr>\n",
       "  </thead>\n",
       "  <tbody>\n",
       "    <tr>\n",
       "      <th>294075.0</th>\n",
       "      <td>19</td>\n",
       "      <td>873.0</td>\n",
       "      <td>923006.0</td>\n",
       "      <td>1</td>\n",
       "      <td>1</td>\n",
       "      <td>1</td>\n",
       "      <td>111</td>\n",
       "    </tr>\n",
       "    <tr>\n",
       "      <th>224807.0</th>\n",
       "      <td>3</td>\n",
       "      <td>856.0</td>\n",
       "      <td>508367.0</td>\n",
       "      <td>1</td>\n",
       "      <td>1</td>\n",
       "      <td>1</td>\n",
       "      <td>111</td>\n",
       "    </tr>\n",
       "    <tr>\n",
       "      <th>296914.0</th>\n",
       "      <td>10</td>\n",
       "      <td>822.0</td>\n",
       "      <td>397398.0</td>\n",
       "      <td>1</td>\n",
       "      <td>1</td>\n",
       "      <td>1</td>\n",
       "      <td>111</td>\n",
       "    </tr>\n",
       "    <tr>\n",
       "      <th>1706.0</th>\n",
       "      <td>10</td>\n",
       "      <td>629.0</td>\n",
       "      <td>319665.0</td>\n",
       "      <td>1</td>\n",
       "      <td>1</td>\n",
       "      <td>1</td>\n",
       "      <td>111</td>\n",
       "    </tr>\n",
       "    <tr>\n",
       "      <th>62795.0</th>\n",
       "      <td>34</td>\n",
       "      <td>622.0</td>\n",
       "      <td>514266.0</td>\n",
       "      <td>1</td>\n",
       "      <td>1</td>\n",
       "      <td>1</td>\n",
       "      <td>111</td>\n",
       "    </tr>\n",
       "  </tbody>\n",
       "</table>\n",
       "</div>"
      ],
      "text/plain": [
       "          recency  frequency  monetary_value  r_quartile  f_quartile  \\\n",
       "user_id                                                                \n",
       "294075.0       19      873.0        923006.0           1           1   \n",
       "224807.0        3      856.0        508367.0           1           1   \n",
       "296914.0       10      822.0        397398.0           1           1   \n",
       "1706.0         10      629.0        319665.0           1           1   \n",
       "62795.0        34      622.0        514266.0           1           1   \n",
       "\n",
       "          m_quartile rfm_class  \n",
       "user_id                         \n",
       "294075.0           1       111  \n",
       "224807.0           1       111  \n",
       "296914.0           1       111  \n",
       "1706.0             1       111  \n",
       "62795.0            1       111  "
      ]
     },
     "execution_count": 34,
     "metadata": {},
     "output_type": "execute_result"
    }
   ],
   "source": [
    "rfm_segmentation[rfm_segmentation['rfm_class']=='111'].sort_values('frequency', ascending=False).head(5)"
   ]
  },
  {
   "cell_type": "code",
   "execution_count": 35,
   "metadata": {},
   "outputs": [
    {
     "data": {
      "text/plain": [
       "873"
      ]
     },
     "execution_count": 35,
     "metadata": {},
     "output_type": "execute_result"
    }
   ],
   "source": [
    "rfm_data.order_id[rfm_data.user_id == 294075.0].count()"
   ]
  },
  {
   "cell_type": "code",
   "execution_count": 36,
   "metadata": {
    "scrolled": true
   },
   "outputs": [
    {
     "data": {
      "text/html": [
       "<div>\n",
       "<style>\n",
       "    .dataframe thead tr:only-child th {\n",
       "        text-align: right;\n",
       "    }\n",
       "\n",
       "    .dataframe thead th {\n",
       "        text-align: left;\n",
       "    }\n",
       "\n",
       "    .dataframe tbody tr th {\n",
       "        vertical-align: top;\n",
       "    }\n",
       "</style>\n",
       "<table border=\"1\" class=\"dataframe\">\n",
       "  <thead>\n",
       "    <tr style=\"text-align: right;\">\n",
       "      <th></th>\n",
       "      <th>recency</th>\n",
       "      <th>frequency</th>\n",
       "      <th>monetary_value</th>\n",
       "      <th>r_quartile</th>\n",
       "      <th>f_quartile</th>\n",
       "      <th>m_quartile</th>\n",
       "      <th>rfm_class</th>\n",
       "    </tr>\n",
       "    <tr>\n",
       "      <th>user_id</th>\n",
       "      <th></th>\n",
       "      <th></th>\n",
       "      <th></th>\n",
       "      <th></th>\n",
       "      <th></th>\n",
       "      <th></th>\n",
       "      <th></th>\n",
       "    </tr>\n",
       "  </thead>\n",
       "  <tbody>\n",
       "    <tr>\n",
       "      <th>294075.0</th>\n",
       "      <td>19</td>\n",
       "      <td>873.0</td>\n",
       "      <td>923006.0</td>\n",
       "      <td>1</td>\n",
       "      <td>1</td>\n",
       "      <td>1</td>\n",
       "      <td>111</td>\n",
       "    </tr>\n",
       "    <tr>\n",
       "      <th>62795.0</th>\n",
       "      <td>34</td>\n",
       "      <td>622.0</td>\n",
       "      <td>514266.0</td>\n",
       "      <td>1</td>\n",
       "      <td>1</td>\n",
       "      <td>1</td>\n",
       "      <td>111</td>\n",
       "    </tr>\n",
       "    <tr>\n",
       "      <th>224807.0</th>\n",
       "      <td>3</td>\n",
       "      <td>856.0</td>\n",
       "      <td>508367.0</td>\n",
       "      <td>1</td>\n",
       "      <td>1</td>\n",
       "      <td>1</td>\n",
       "      <td>111</td>\n",
       "    </tr>\n",
       "    <tr>\n",
       "      <th>92996.0</th>\n",
       "      <td>14</td>\n",
       "      <td>581.0</td>\n",
       "      <td>439436.0</td>\n",
       "      <td>1</td>\n",
       "      <td>1</td>\n",
       "      <td>1</td>\n",
       "      <td>111</td>\n",
       "    </tr>\n",
       "    <tr>\n",
       "      <th>296914.0</th>\n",
       "      <td>10</td>\n",
       "      <td>822.0</td>\n",
       "      <td>397398.0</td>\n",
       "      <td>1</td>\n",
       "      <td>1</td>\n",
       "      <td>1</td>\n",
       "      <td>111</td>\n",
       "    </tr>\n",
       "  </tbody>\n",
       "</table>\n",
       "</div>"
      ],
      "text/plain": [
       "          recency  frequency  monetary_value  r_quartile  f_quartile  \\\n",
       "user_id                                                                \n",
       "294075.0       19      873.0        923006.0           1           1   \n",
       "62795.0        34      622.0        514266.0           1           1   \n",
       "224807.0        3      856.0        508367.0           1           1   \n",
       "92996.0        14      581.0        439436.0           1           1   \n",
       "296914.0       10      822.0        397398.0           1           1   \n",
       "\n",
       "          m_quartile rfm_class  \n",
       "user_id                         \n",
       "294075.0           1       111  \n",
       "62795.0            1       111  \n",
       "224807.0           1       111  \n",
       "92996.0            1       111  \n",
       "296914.0           1       111  "
      ]
     },
     "execution_count": 36,
     "metadata": {},
     "output_type": "execute_result"
    }
   ],
   "source": [
    "rfm_segmentation[rfm_segmentation['rfm_class']=='111'].sort_values('monetary_value', ascending=False).head(5)"
   ]
  },
  {
   "cell_type": "code",
   "execution_count": 38,
   "metadata": {},
   "outputs": [
    {
     "data": {
      "text/plain": [
       "923006.0"
      ]
     },
     "execution_count": 38,
     "metadata": {},
     "output_type": "execute_result"
    }
   ],
   "source": [
    "rfm_data.price[rfm_data.user_id == 294075.0].sum()"
   ]
  },
  {
   "cell_type": "markdown",
   "metadata": {
    "collapsed": true
   },
   "source": [
    "## FMR Analysis"
   ]
  },
  {
   "cell_type": "code",
   "execution_count": 54,
   "metadata": {},
   "outputs": [
    {
     "name": "stdout",
     "output_type": "stream",
     "text": [
      "Size of the data set: 34315 rows and 5 columns\n"
     ]
    }
   ],
   "source": [
    "goods.rename(columns={'id': 'good_id'}, inplace=True)\n",
    "\n",
    "print('Size of the data set: {} rows and {} columns'.format(*goods.shape))"
   ]
  },
  {
   "cell_type": "code",
   "execution_count": 55,
   "metadata": {},
   "outputs": [],
   "source": [
    "goods.good_id = pd.to_numeric(goods.good_id, errors='coerce')"
   ]
  },
  {
   "cell_type": "code",
   "execution_count": 56,
   "metadata": {},
   "outputs": [
    {
     "name": "stdout",
     "output_type": "stream",
     "text": [
      "Size of the data set: 34071 rows and 5 columns\n"
     ]
    }
   ],
   "source": [
    "goods.dropna(inplace=True)\n",
    "\n",
    "print('Size of the data set: {} rows and {} columns'.format(*goods.shape))"
   ]
  },
  {
   "cell_type": "code",
   "execution_count": 59,
   "metadata": {},
   "outputs": [
    {
     "data": {
      "text/html": [
       "<div>\n",
       "<style>\n",
       "    .dataframe thead tr:only-child th {\n",
       "        text-align: right;\n",
       "    }\n",
       "\n",
       "    .dataframe thead th {\n",
       "        text-align: left;\n",
       "    }\n",
       "\n",
       "    .dataframe tbody tr th {\n",
       "        vertical-align: top;\n",
       "    }\n",
       "</style>\n",
       "<table border=\"1\" class=\"dataframe\">\n",
       "  <thead>\n",
       "    <tr style=\"text-align: right;\">\n",
       "      <th></th>\n",
       "      <th>order_id</th>\n",
       "      <th>good_id</th>\n",
       "      <th>size</th>\n",
       "      <th>qty</th>\n",
       "      <th>price</th>\n",
       "      <th>originalPrice</th>\n",
       "      <th>originalOldPrice</th>\n",
       "    </tr>\n",
       "  </thead>\n",
       "  <tbody>\n",
       "    <tr>\n",
       "      <th>0</th>\n",
       "      <td>451752.0</td>\n",
       "      <td>37101</td>\n",
       "      <td>70B</td>\n",
       "      <td>2.0</td>\n",
       "      <td>1.0</td>\n",
       "      <td>499.0</td>\n",
       "      <td>1099.0</td>\n",
       "    </tr>\n",
       "    <tr>\n",
       "      <th>1</th>\n",
       "      <td>451752.0</td>\n",
       "      <td>37129</td>\n",
       "      <td>S</td>\n",
       "      <td>2.0</td>\n",
       "      <td>499.0</td>\n",
       "      <td>499.0</td>\n",
       "      <td>0.0</td>\n",
       "    </tr>\n",
       "    <tr>\n",
       "      <th>2</th>\n",
       "      <td>451752.0</td>\n",
       "      <td>42809</td>\n",
       "      <td>one size</td>\n",
       "      <td>1.0</td>\n",
       "      <td>1.0</td>\n",
       "      <td>399.0</td>\n",
       "      <td>0.0</td>\n",
       "    </tr>\n",
       "    <tr>\n",
       "      <th>3</th>\n",
       "      <td>451752.0</td>\n",
       "      <td>37101</td>\n",
       "      <td>75C</td>\n",
       "      <td>1.0</td>\n",
       "      <td>499.0</td>\n",
       "      <td>499.0</td>\n",
       "      <td>1099.0</td>\n",
       "    </tr>\n",
       "    <tr>\n",
       "      <th>4</th>\n",
       "      <td>451752.0</td>\n",
       "      <td>42784</td>\n",
       "      <td>S</td>\n",
       "      <td>1.0</td>\n",
       "      <td>1.0</td>\n",
       "      <td>499.0</td>\n",
       "      <td>0.0</td>\n",
       "    </tr>\n",
       "  </tbody>\n",
       "</table>\n",
       "</div>"
      ],
      "text/plain": [
       "   order_id  good_id      size  qty  price  originalPrice  originalOldPrice\n",
       "0  451752.0    37101       70B  2.0    1.0          499.0            1099.0\n",
       "1  451752.0    37129         S  2.0  499.0          499.0               0.0\n",
       "2  451752.0    42809  one size  1.0    1.0          399.0               0.0\n",
       "3  451752.0    37101       75C  1.0  499.0          499.0            1099.0\n",
       "4  451752.0    42784         S  1.0    1.0          499.0               0.0"
      ]
     },
     "execution_count": 59,
     "metadata": {},
     "output_type": "execute_result"
    }
   ],
   "source": [
    "order_goods.rename(columns={'goodId': 'good_id'}, inplace=True)\n",
    "order_goods.good_id = order_goods.good_id.astype('int')\n",
    "\n",
    "order_goods.head()"
   ]
  },
  {
   "cell_type": "code",
   "execution_count": 60,
   "metadata": {},
   "outputs": [
    {
     "data": {
      "text/plain": [
       "19328"
      ]
     },
     "execution_count": 60,
     "metadata": {},
     "output_type": "execute_result"
    }
   ],
   "source": [
    "len(set(order_goods.good_id).intersection(set(goods.good_id)))"
   ]
  },
  {
   "cell_type": "code",
   "execution_count": 61,
   "metadata": {},
   "outputs": [
    {
     "data": {
      "text/html": [
       "<div>\n",
       "<style>\n",
       "    .dataframe thead tr:only-child th {\n",
       "        text-align: right;\n",
       "    }\n",
       "\n",
       "    .dataframe thead th {\n",
       "        text-align: left;\n",
       "    }\n",
       "\n",
       "    .dataframe tbody tr th {\n",
       "        vertical-align: top;\n",
       "    }\n",
       "</style>\n",
       "<table border=\"1\" class=\"dataframe\">\n",
       "  <thead>\n",
       "    <tr style=\"text-align: right;\">\n",
       "      <th></th>\n",
       "      <th>order_id</th>\n",
       "      <th>good_id</th>\n",
       "      <th>size</th>\n",
       "      <th>qty</th>\n",
       "      <th>price</th>\n",
       "      <th>originalPrice</th>\n",
       "      <th>originalOldPrice</th>\n",
       "      <th>name</th>\n",
       "    </tr>\n",
       "  </thead>\n",
       "  <tbody>\n",
       "    <tr>\n",
       "      <th>0</th>\n",
       "      <td>451752.0</td>\n",
       "      <td>37101</td>\n",
       "      <td>70B</td>\n",
       "      <td>2.0</td>\n",
       "      <td>1.0</td>\n",
       "      <td>499.0</td>\n",
       "      <td>1099.0</td>\n",
       "      <td>Бюстгальтер Push-up набивка</td>\n",
       "    </tr>\n",
       "    <tr>\n",
       "      <th>1</th>\n",
       "      <td>451752.0</td>\n",
       "      <td>37101</td>\n",
       "      <td>75C</td>\n",
       "      <td>1.0</td>\n",
       "      <td>499.0</td>\n",
       "      <td>499.0</td>\n",
       "      <td>1099.0</td>\n",
       "      <td>Бюстгальтер Push-up набивка</td>\n",
       "    </tr>\n",
       "    <tr>\n",
       "      <th>2</th>\n",
       "      <td>451519.0</td>\n",
       "      <td>37101</td>\n",
       "      <td>70A</td>\n",
       "      <td>1.0</td>\n",
       "      <td>1.0</td>\n",
       "      <td>499.0</td>\n",
       "      <td>1099.0</td>\n",
       "      <td>Бюстгальтер Push-up набивка</td>\n",
       "    </tr>\n",
       "    <tr>\n",
       "      <th>3</th>\n",
       "      <td>451487.0</td>\n",
       "      <td>37101</td>\n",
       "      <td>75D</td>\n",
       "      <td>1.0</td>\n",
       "      <td>1.0</td>\n",
       "      <td>499.0</td>\n",
       "      <td>1099.0</td>\n",
       "      <td>Бюстгальтер Push-up набивка</td>\n",
       "    </tr>\n",
       "    <tr>\n",
       "      <th>4</th>\n",
       "      <td>450968.0</td>\n",
       "      <td>37101</td>\n",
       "      <td>70A</td>\n",
       "      <td>1.0</td>\n",
       "      <td>499.0</td>\n",
       "      <td>499.0</td>\n",
       "      <td>1099.0</td>\n",
       "      <td>Бюстгальтер Push-up набивка</td>\n",
       "    </tr>\n",
       "  </tbody>\n",
       "</table>\n",
       "</div>"
      ],
      "text/plain": [
       "   order_id good_id size  qty  price  originalPrice  originalOldPrice  \\\n",
       "0  451752.0   37101  70B  2.0    1.0          499.0            1099.0   \n",
       "1  451752.0   37101  75C  1.0  499.0          499.0            1099.0   \n",
       "2  451519.0   37101  70A  1.0    1.0          499.0            1099.0   \n",
       "3  451487.0   37101  75D  1.0    1.0          499.0            1099.0   \n",
       "4  450968.0   37101  70A  1.0  499.0          499.0            1099.0   \n",
       "\n",
       "                          name  \n",
       "0  Бюстгальтер Push-up набивка  \n",
       "1  Бюстгальтер Push-up набивка  \n",
       "2  Бюстгальтер Push-up набивка  \n",
       "3  Бюстгальтер Push-up набивка  \n",
       "4  Бюстгальтер Push-up набивка  "
      ]
     },
     "execution_count": 61,
     "metadata": {},
     "output_type": "execute_result"
    }
   ],
   "source": [
    "data = pd.merge(order_goods, goods[['good_id', 'name']], how='inner', on='good_id')\n",
    "data.head()"
   ]
  },
  {
   "cell_type": "code",
   "execution_count": 65,
   "metadata": {},
   "outputs": [
    {
     "name": "stdout",
     "output_type": "stream",
     "text": [
      "Size of the data set: 661422 rows and 16 columns\n"
     ]
    },
    {
     "data": {
      "text/html": [
       "<div>\n",
       "<style>\n",
       "    .dataframe thead tr:only-child th {\n",
       "        text-align: right;\n",
       "    }\n",
       "\n",
       "    .dataframe thead th {\n",
       "        text-align: left;\n",
       "    }\n",
       "\n",
       "    .dataframe tbody tr th {\n",
       "        vertical-align: top;\n",
       "    }\n",
       "</style>\n",
       "<table border=\"1\" class=\"dataframe\">\n",
       "  <thead>\n",
       "    <tr style=\"text-align: right;\">\n",
       "      <th></th>\n",
       "      <th>order_id</th>\n",
       "      <th>from_site</th>\n",
       "      <th>status</th>\n",
       "      <th>payment_type</th>\n",
       "      <th>payed</th>\n",
       "      <th>accept_time</th>\n",
       "      <th>total_cost</th>\n",
       "      <th>user_id</th>\n",
       "      <th>erp_status</th>\n",
       "      <th>good_id</th>\n",
       "      <th>size</th>\n",
       "      <th>qty</th>\n",
       "      <th>price</th>\n",
       "      <th>originalPrice</th>\n",
       "      <th>originalOldPrice</th>\n",
       "      <th>name</th>\n",
       "    </tr>\n",
       "  </thead>\n",
       "  <tbody>\n",
       "    <tr>\n",
       "      <th>0</th>\n",
       "      <td>451752.0</td>\n",
       "      <td>inflin</td>\n",
       "      <td>6.0</td>\n",
       "      <td>cash</td>\n",
       "      <td>0.0</td>\n",
       "      <td>2017-05-31 23:45:40</td>\n",
       "      <td>2399.0</td>\n",
       "      <td>357892.0</td>\n",
       "      <td>-</td>\n",
       "      <td>37101</td>\n",
       "      <td>70B</td>\n",
       "      <td>2.0</td>\n",
       "      <td>1.0</td>\n",
       "      <td>499.0</td>\n",
       "      <td>1099.0</td>\n",
       "      <td>Бюстгальтер Push-up набивка</td>\n",
       "    </tr>\n",
       "    <tr>\n",
       "      <th>1</th>\n",
       "      <td>451752.0</td>\n",
       "      <td>inflin</td>\n",
       "      <td>6.0</td>\n",
       "      <td>cash</td>\n",
       "      <td>0.0</td>\n",
       "      <td>2017-05-31 23:45:40</td>\n",
       "      <td>2399.0</td>\n",
       "      <td>357892.0</td>\n",
       "      <td>-</td>\n",
       "      <td>37101</td>\n",
       "      <td>75C</td>\n",
       "      <td>1.0</td>\n",
       "      <td>499.0</td>\n",
       "      <td>499.0</td>\n",
       "      <td>1099.0</td>\n",
       "      <td>Бюстгальтер Push-up набивка</td>\n",
       "    </tr>\n",
       "    <tr>\n",
       "      <th>2</th>\n",
       "      <td>451752.0</td>\n",
       "      <td>inflin</td>\n",
       "      <td>6.0</td>\n",
       "      <td>cash</td>\n",
       "      <td>0.0</td>\n",
       "      <td>2017-05-31 23:45:40</td>\n",
       "      <td>2399.0</td>\n",
       "      <td>357892.0</td>\n",
       "      <td>-</td>\n",
       "      <td>37129</td>\n",
       "      <td>S</td>\n",
       "      <td>2.0</td>\n",
       "      <td>499.0</td>\n",
       "      <td>499.0</td>\n",
       "      <td>0.0</td>\n",
       "      <td>Трусы стринг набивка</td>\n",
       "    </tr>\n",
       "    <tr>\n",
       "      <th>3</th>\n",
       "      <td>451752.0</td>\n",
       "      <td>inflin</td>\n",
       "      <td>6.0</td>\n",
       "      <td>cash</td>\n",
       "      <td>0.0</td>\n",
       "      <td>2017-05-31 23:45:40</td>\n",
       "      <td>2399.0</td>\n",
       "      <td>357892.0</td>\n",
       "      <td>-</td>\n",
       "      <td>37129</td>\n",
       "      <td>M</td>\n",
       "      <td>1.0</td>\n",
       "      <td>499.0</td>\n",
       "      <td>499.0</td>\n",
       "      <td>0.0</td>\n",
       "      <td>Трусы стринг набивка</td>\n",
       "    </tr>\n",
       "    <tr>\n",
       "      <th>4</th>\n",
       "      <td>451752.0</td>\n",
       "      <td>inflin</td>\n",
       "      <td>6.0</td>\n",
       "      <td>cash</td>\n",
       "      <td>0.0</td>\n",
       "      <td>2017-05-31 23:45:40</td>\n",
       "      <td>2399.0</td>\n",
       "      <td>357892.0</td>\n",
       "      <td>-</td>\n",
       "      <td>42809</td>\n",
       "      <td>one size</td>\n",
       "      <td>1.0</td>\n",
       "      <td>1.0</td>\n",
       "      <td>399.0</td>\n",
       "      <td>0.0</td>\n",
       "      <td>Очки солнцезащитные</td>\n",
       "    </tr>\n",
       "  </tbody>\n",
       "</table>\n",
       "</div>"
      ],
      "text/plain": [
       "   order_id from_site  status payment_type  payed         accept_time  \\\n",
       "0  451752.0    inflin     6.0         cash    0.0 2017-05-31 23:45:40   \n",
       "1  451752.0    inflin     6.0         cash    0.0 2017-05-31 23:45:40   \n",
       "2  451752.0    inflin     6.0         cash    0.0 2017-05-31 23:45:40   \n",
       "3  451752.0    inflin     6.0         cash    0.0 2017-05-31 23:45:40   \n",
       "4  451752.0    inflin     6.0         cash    0.0 2017-05-31 23:45:40   \n",
       "\n",
       "   total_cost   user_id erp_status good_id      size  qty  price  \\\n",
       "0      2399.0  357892.0          -   37101       70B  2.0    1.0   \n",
       "1      2399.0  357892.0          -   37101       75C  1.0  499.0   \n",
       "2      2399.0  357892.0          -   37129         S  2.0  499.0   \n",
       "3      2399.0  357892.0          -   37129         M  1.0  499.0   \n",
       "4      2399.0  357892.0          -   42809  one size  1.0    1.0   \n",
       "\n",
       "   originalPrice  originalOldPrice                         name  \n",
       "0          499.0            1099.0  Бюстгальтер Push-up набивка  \n",
       "1          499.0            1099.0  Бюстгальтер Push-up набивка  \n",
       "2          499.0               0.0         Трусы стринг набивка  \n",
       "3          499.0               0.0         Трусы стринг набивка  \n",
       "4          399.0               0.0          Очки солнцезащитные  "
      ]
     },
     "execution_count": 65,
     "metadata": {},
     "output_type": "execute_result"
    }
   ],
   "source": [
    "fmr_data = pd.merge(orders[(orders.status == 5) | (orders.status == 6)], data, \n",
    "                how='inner', on='order_id')\n",
    "\n",
    "print('Size of the data set: {} rows and {} columns'.format(*fmr_data.shape))\n",
    "fmr_data.head()"
   ]
  },
  {
   "cell_type": "code",
   "execution_count": 67,
   "metadata": {
    "collapsed": true
   },
   "outputs": [],
   "source": [
    "fmr_data.status = fmr_data.status.apply(lambda x: 0 if x == 5 else 1)"
   ]
  },
  {
   "cell_type": "code",
   "execution_count": 139,
   "metadata": {},
   "outputs": [
    {
     "data": {
      "text/html": [
       "<div>\n",
       "<style>\n",
       "    .dataframe thead tr:only-child th {\n",
       "        text-align: right;\n",
       "    }\n",
       "\n",
       "    .dataframe thead th {\n",
       "        text-align: left;\n",
       "    }\n",
       "\n",
       "    .dataframe tbody tr th {\n",
       "        vertical-align: top;\n",
       "    }\n",
       "</style>\n",
       "<table border=\"1\" class=\"dataframe\">\n",
       "  <thead>\n",
       "    <tr style=\"text-align: right;\">\n",
       "      <th></th>\n",
       "      <th>good_id</th>\n",
       "      <th>name</th>\n",
       "      <th>status</th>\n",
       "    </tr>\n",
       "  </thead>\n",
       "  <tbody>\n",
       "    <tr>\n",
       "      <th>0</th>\n",
       "      <td>5166</td>\n",
       "      <td>Бретели</td>\n",
       "      <td>2</td>\n",
       "    </tr>\n",
       "    <tr>\n",
       "      <th>1</th>\n",
       "      <td>8389</td>\n",
       "      <td>Бюстгальтер Push-up</td>\n",
       "      <td>0</td>\n",
       "    </tr>\n",
       "    <tr>\n",
       "      <th>2</th>\n",
       "      <td>8415</td>\n",
       "      <td>Трусы стринг бежевые</td>\n",
       "      <td>9</td>\n",
       "    </tr>\n",
       "    <tr>\n",
       "      <th>3</th>\n",
       "      <td>8419</td>\n",
       "      <td>Трусы стринг</td>\n",
       "      <td>5</td>\n",
       "    </tr>\n",
       "    <tr>\n",
       "      <th>4</th>\n",
       "      <td>11409</td>\n",
       "      <td>Купальник</td>\n",
       "      <td>1</td>\n",
       "    </tr>\n",
       "  </tbody>\n",
       "</table>\n",
       "</div>"
      ],
      "text/plain": [
       "   good_id                  name  status\n",
       "0     5166               Бретели       2\n",
       "1     8389   Бюстгальтер Push-up       0\n",
       "2     8415  Трусы стринг бежевые       9\n",
       "3     8419          Трусы стринг       5\n",
       "4    11409             Купальник       1"
      ]
     },
     "execution_count": 139,
     "metadata": {},
     "output_type": "execute_result"
    }
   ],
   "source": [
    "fmr_table = fmr_data.groupby(['good_id', 'name']).agg({'status': lambda x: x.sum()}).reset_index()\n",
    "fmr_table.head()"
   ]
  },
  {
   "cell_type": "code",
   "execution_count": 140,
   "metadata": {},
   "outputs": [
    {
     "data": {
      "text/plain": [
       "(15887, 3)"
      ]
     },
     "execution_count": 140,
     "metadata": {},
     "output_type": "execute_result"
    }
   ],
   "source": [
    "fmr_table.shape"
   ]
  },
  {
   "cell_type": "code",
   "execution_count": 141,
   "metadata": {},
   "outputs": [
    {
     "data": {
      "text/plain": [
       "5"
      ]
     },
     "execution_count": 141,
     "metadata": {},
     "output_type": "execute_result"
    }
   ],
   "source": [
    "fmr_data.status[fmr_data.good_id == 8419].sum()"
   ]
  },
  {
   "cell_type": "code",
   "execution_count": 142,
   "metadata": {},
   "outputs": [
    {
     "data": {
      "text/html": [
       "<div>\n",
       "<style>\n",
       "    .dataframe thead tr:only-child th {\n",
       "        text-align: right;\n",
       "    }\n",
       "\n",
       "    .dataframe thead th {\n",
       "        text-align: left;\n",
       "    }\n",
       "\n",
       "    .dataframe tbody tr th {\n",
       "        vertical-align: top;\n",
       "    }\n",
       "</style>\n",
       "<table border=\"1\" class=\"dataframe\">\n",
       "  <thead>\n",
       "    <tr style=\"text-align: right;\">\n",
       "      <th></th>\n",
       "      <th>good_id</th>\n",
       "      <th>name</th>\n",
       "      <th>status</th>\n",
       "      <th>fmr_coeff</th>\n",
       "    </tr>\n",
       "  </thead>\n",
       "  <tbody>\n",
       "    <tr>\n",
       "      <th>0</th>\n",
       "      <td>5166</td>\n",
       "      <td>Бретели</td>\n",
       "      <td>2</td>\n",
       "      <td>0.012589</td>\n",
       "    </tr>\n",
       "    <tr>\n",
       "      <th>1</th>\n",
       "      <td>8389</td>\n",
       "      <td>Бюстгальтер Push-up</td>\n",
       "      <td>0</td>\n",
       "      <td>0.000000</td>\n",
       "    </tr>\n",
       "    <tr>\n",
       "      <th>2</th>\n",
       "      <td>8415</td>\n",
       "      <td>Трусы стринг бежевые</td>\n",
       "      <td>9</td>\n",
       "      <td>0.056650</td>\n",
       "    </tr>\n",
       "    <tr>\n",
       "      <th>3</th>\n",
       "      <td>8419</td>\n",
       "      <td>Трусы стринг</td>\n",
       "      <td>5</td>\n",
       "      <td>0.031472</td>\n",
       "    </tr>\n",
       "    <tr>\n",
       "      <th>4</th>\n",
       "      <td>11409</td>\n",
       "      <td>Купальник</td>\n",
       "      <td>1</td>\n",
       "      <td>0.006294</td>\n",
       "    </tr>\n",
       "  </tbody>\n",
       "</table>\n",
       "</div>"
      ],
      "text/plain": [
       "   good_id                  name  status  fmr_coeff\n",
       "0     5166               Бретели       2   0.012589\n",
       "1     8389   Бюстгальтер Push-up       0   0.000000\n",
       "2     8415  Трусы стринг бежевые       9   0.056650\n",
       "3     8419          Трусы стринг       5   0.031472\n",
       "4    11409             Купальник       1   0.006294"
      ]
     },
     "execution_count": 142,
     "metadata": {},
     "output_type": "execute_result"
    }
   ],
   "source": [
    "fmr_table['fmr_coeff'] = (fmr_table.status / fmr_table.shape[0])*100\n",
    "fmr_table.head()"
   ]
  },
  {
   "cell_type": "code",
   "execution_count": 143,
   "metadata": {},
   "outputs": [
    {
     "data": {
      "text/html": [
       "<div>\n",
       "<style>\n",
       "    .dataframe thead tr:only-child th {\n",
       "        text-align: right;\n",
       "    }\n",
       "\n",
       "    .dataframe thead th {\n",
       "        text-align: left;\n",
       "    }\n",
       "\n",
       "    .dataframe tbody tr th {\n",
       "        vertical-align: top;\n",
       "    }\n",
       "</style>\n",
       "<table border=\"1\" class=\"dataframe\">\n",
       "  <thead>\n",
       "    <tr style=\"text-align: right;\">\n",
       "      <th></th>\n",
       "      <th>fmr_coeff</th>\n",
       "    </tr>\n",
       "  </thead>\n",
       "  <tbody>\n",
       "    <tr>\n",
       "      <th>0.05</th>\n",
       "      <td>0.006294</td>\n",
       "    </tr>\n",
       "    <tr>\n",
       "      <th>0.15</th>\n",
       "      <td>0.025178</td>\n",
       "    </tr>\n",
       "    <tr>\n",
       "      <th>0.80</th>\n",
       "      <td>0.390256</td>\n",
       "    </tr>\n",
       "  </tbody>\n",
       "</table>\n",
       "</div>"
      ],
      "text/plain": [
       "      fmr_coeff\n",
       "0.05   0.006294\n",
       "0.15   0.025178\n",
       "0.80   0.390256"
      ]
     },
     "execution_count": 143,
     "metadata": {},
     "output_type": "execute_result"
    }
   ],
   "source": [
    "fmr_quantiles = fmr_table[['fmr_coeff']].quantile(q=[0.05,0.15,0.80])\n",
    "fmr_quantiles"
   ]
  },
  {
   "cell_type": "code",
   "execution_count": 144,
   "metadata": {},
   "outputs": [
    {
     "data": {
      "text/plain": [
       "{'fmr_coeff': {0.050000000000000003: 0.0062944545855101652,\n",
       "  0.14999999999999999: 0.025177818342040661,\n",
       "  0.80000000000000004: 0.39025618430163028}}"
      ]
     },
     "execution_count": 144,
     "metadata": {},
     "output_type": "execute_result"
    }
   ],
   "source": [
    "fmr_quantiles = fmr_quantiles.to_dict()\n",
    "fmr_quantiles"
   ]
  },
  {
   "cell_type": "code",
   "execution_count": 145,
   "metadata": {
    "collapsed": true
   },
   "outputs": [],
   "source": [
    "# Arguments (x = value, p = coefficient, d = quartiles dict)\n",
    "def fmr_class(x, p, d):\n",
    "    if x <= d[p][0.05]:\n",
    "        return 'r'\n",
    "    elif x <= d[p][0.15]:\n",
    "        return 'm'\n",
    "    else:\n",
    "        return 'f'"
   ]
  },
  {
   "cell_type": "code",
   "execution_count": 146,
   "metadata": {},
   "outputs": [
    {
     "data": {
      "text/html": [
       "<div>\n",
       "<style>\n",
       "    .dataframe thead tr:only-child th {\n",
       "        text-align: right;\n",
       "    }\n",
       "\n",
       "    .dataframe thead th {\n",
       "        text-align: left;\n",
       "    }\n",
       "\n",
       "    .dataframe tbody tr th {\n",
       "        vertical-align: top;\n",
       "    }\n",
       "</style>\n",
       "<table border=\"1\" class=\"dataframe\">\n",
       "  <thead>\n",
       "    <tr style=\"text-align: right;\">\n",
       "      <th></th>\n",
       "      <th>good_id</th>\n",
       "      <th>name</th>\n",
       "      <th>status</th>\n",
       "      <th>fmr_coeff</th>\n",
       "      <th>fmr_class</th>\n",
       "    </tr>\n",
       "  </thead>\n",
       "  <tbody>\n",
       "    <tr>\n",
       "      <th>0</th>\n",
       "      <td>5166</td>\n",
       "      <td>Бретели</td>\n",
       "      <td>2</td>\n",
       "      <td>0.012589</td>\n",
       "      <td>m</td>\n",
       "    </tr>\n",
       "    <tr>\n",
       "      <th>1</th>\n",
       "      <td>8389</td>\n",
       "      <td>Бюстгальтер Push-up</td>\n",
       "      <td>0</td>\n",
       "      <td>0.000000</td>\n",
       "      <td>r</td>\n",
       "    </tr>\n",
       "    <tr>\n",
       "      <th>2</th>\n",
       "      <td>8415</td>\n",
       "      <td>Трусы стринг бежевые</td>\n",
       "      <td>9</td>\n",
       "      <td>0.056650</td>\n",
       "      <td>f</td>\n",
       "    </tr>\n",
       "    <tr>\n",
       "      <th>3</th>\n",
       "      <td>8419</td>\n",
       "      <td>Трусы стринг</td>\n",
       "      <td>5</td>\n",
       "      <td>0.031472</td>\n",
       "      <td>f</td>\n",
       "    </tr>\n",
       "    <tr>\n",
       "      <th>4</th>\n",
       "      <td>11409</td>\n",
       "      <td>Купальник</td>\n",
       "      <td>1</td>\n",
       "      <td>0.006294</td>\n",
       "      <td>r</td>\n",
       "    </tr>\n",
       "  </tbody>\n",
       "</table>\n",
       "</div>"
      ],
      "text/plain": [
       "   good_id                  name  status  fmr_coeff fmr_class\n",
       "0     5166               Бретели       2   0.012589         m\n",
       "1     8389   Бюстгальтер Push-up       0   0.000000         r\n",
       "2     8415  Трусы стринг бежевые       9   0.056650         f\n",
       "3     8419          Трусы стринг       5   0.031472         f\n",
       "4    11409             Купальник       1   0.006294         r"
      ]
     },
     "execution_count": 146,
     "metadata": {},
     "output_type": "execute_result"
    }
   ],
   "source": [
    "fmr_segmentation = fmr_table\n",
    "\n",
    "fmr_segmentation['fmr_class'] = fmr_segmentation['fmr_coeff'].apply(\n",
    "    fmr_class, args=('fmr_coeff', fmr_quantiles))\n",
    "\n",
    "fmr_segmentation.head()"
   ]
  },
  {
   "cell_type": "markdown",
   "metadata": {},
   "source": [
    "## Top 5 best products"
   ]
  },
  {
   "cell_type": "code",
   "execution_count": 147,
   "metadata": {},
   "outputs": [
    {
     "data": {
      "text/html": [
       "<div>\n",
       "<style>\n",
       "    .dataframe thead tr:only-child th {\n",
       "        text-align: right;\n",
       "    }\n",
       "\n",
       "    .dataframe thead th {\n",
       "        text-align: left;\n",
       "    }\n",
       "\n",
       "    .dataframe tbody tr th {\n",
       "        vertical-align: top;\n",
       "    }\n",
       "</style>\n",
       "<table border=\"1\" class=\"dataframe\">\n",
       "  <thead>\n",
       "    <tr style=\"text-align: right;\">\n",
       "      <th></th>\n",
       "      <th>good_id</th>\n",
       "      <th>name</th>\n",
       "      <th>status</th>\n",
       "      <th>fmr_coeff</th>\n",
       "      <th>fmr_class</th>\n",
       "    </tr>\n",
       "  </thead>\n",
       "  <tbody>\n",
       "    <tr>\n",
       "      <th>15884</th>\n",
       "      <td>43919</td>\n",
       "      <td>Трусы боксер</td>\n",
       "      <td>5</td>\n",
       "      <td>0.031472</td>\n",
       "      <td>f</td>\n",
       "    </tr>\n",
       "    <tr>\n",
       "      <th>3574</th>\n",
       "      <td>26350</td>\n",
       "      <td>Ремень на талию</td>\n",
       "      <td>5</td>\n",
       "      <td>0.031472</td>\n",
       "      <td>f</td>\n",
       "    </tr>\n",
       "    <tr>\n",
       "      <th>3485</th>\n",
       "      <td>26246</td>\n",
       "      <td>Жакет белый</td>\n",
       "      <td>5</td>\n",
       "      <td>0.031472</td>\n",
       "      <td>f</td>\n",
       "    </tr>\n",
       "    <tr>\n",
       "      <th>1747</th>\n",
       "      <td>24383</td>\n",
       "      <td>Бюстгальтер Bandeau синий</td>\n",
       "      <td>5</td>\n",
       "      <td>0.031472</td>\n",
       "      <td>f</td>\n",
       "    </tr>\n",
       "    <tr>\n",
       "      <th>3985</th>\n",
       "      <td>26837</td>\n",
       "      <td>Трусы стринг цветные</td>\n",
       "      <td>5</td>\n",
       "      <td>0.031472</td>\n",
       "      <td>f</td>\n",
       "    </tr>\n",
       "  </tbody>\n",
       "</table>\n",
       "</div>"
      ],
      "text/plain": [
       "       good_id                       name  status  fmr_coeff fmr_class\n",
       "15884    43919               Трусы боксер       5   0.031472         f\n",
       "3574     26350            Ремень на талию       5   0.031472         f\n",
       "3485     26246                Жакет белый       5   0.031472         f\n",
       "1747     24383  Бюстгальтер Bandeau синий       5   0.031472         f\n",
       "3985     26837       Трусы стринг цветные       5   0.031472         f"
      ]
     },
     "execution_count": 147,
     "metadata": {},
     "output_type": "execute_result"
    }
   ],
   "source": [
    "fmr_segmentation[fmr_segmentation['fmr_class']=='f'].sort_values('fmr_coeff', ascending=True).head(5)"
   ]
  },
  {
   "cell_type": "code",
   "execution_count": null,
   "metadata": {
    "collapsed": true
   },
   "outputs": [],
   "source": []
  }
 ],
 "metadata": {
  "kernelspec": {
   "display_name": "Python [conda root]",
   "language": "python",
   "name": "conda-root-py"
  },
  "language_info": {
   "codemirror_mode": {
    "name": "ipython",
    "version": 3
   },
   "file_extension": ".py",
   "mimetype": "text/x-python",
   "name": "python",
   "nbconvert_exporter": "python",
   "pygments_lexer": "ipython3",
   "version": "3.5.3"
  }
 },
 "nbformat": 4,
 "nbformat_minor": 2
}
