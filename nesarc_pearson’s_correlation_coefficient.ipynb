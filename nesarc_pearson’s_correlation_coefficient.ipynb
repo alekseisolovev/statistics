{
 "cells": [
  {
   "cell_type": "code",
   "execution_count": 10,
   "metadata": {
    "collapsed": false,
    "scrolled": false
   },
   "outputs": [],
   "source": [
    "import pandas as pd\n",
    "\n",
    "# The U.S. National Epidemiological Survey on Alcohol and Related Conditions (NESARC) is a survey\n",
    "# designed to determine the magnitude of alcohol use and psychiatric disorders in the U.S. population. \n",
    "# It is a representative sample of the non-institutionalized population 18 years and older.\n",
    "#\n",
    "# Selected variables for the test (that is, what is the association between the variables?)\n",
    "# S1Q11A - TOTAL FAMILY INCOME IN LAST 12 MONTHS (FAMILY INCOME IN DOLLARS)\n",
    "# S1Q12A - TOTAL HOUSEHOLD INCOME IN LAST 12 MONTHS (HOUSEHOLD INCOME IN DOLLARS)\n",
    "# NBS4 - NORM-BASED GENERAL HEALTH SCALE (SF12-V2R VALUE)\n",
    "# NBS8 - NORM-BASED MENTAL HEALTH SCALE (SR-V2R VALUE) \n",
    "\n",
    "cols = ['S1Q10A', 'S1Q12A', 'NBS4', 'NBS8']\n",
    "\n",
    "# Load the data\n",
    "df = pd.read_csv('nesarc.csv', usecols=cols, low_memory=False)"
   ]
  },
  {
   "cell_type": "code",
   "execution_count": 11,
   "metadata": {
    "collapsed": false,
    "scrolled": true
   },
   "outputs": [
    {
     "name": "stdout",
     "output_type": "stream",
     "text": [
      "   S1Q10A  S1Q12A  NBS4  NBS8\n",
      "0   17500   46500  62.0  64.5\n",
      "1   11000   36000  55.5  58.4\n",
      "2    6000    6000  29.6  52.3\n",
      "3   27000   41500  62.0  64.5\n",
      "4   42000   82000  55.5  58.4\n"
     ]
    }
   ],
   "source": [
    "# Remove non-numeric values\n",
    "df = df[(df.NBS4 != 99) & (df.NBS8 != 99)]\n",
    "df = df.apply(pd.to_numeric, errors='coerse').dropna()\n",
    "\n",
    "# Print first 5 rows of the data set\n",
    "print(df.head())"
   ]
  },
  {
   "cell_type": "code",
   "execution_count": 12,
   "metadata": {
    "collapsed": false
   },
   "outputs": [
    {
     "name": "stdout",
     "output_type": "stream",
     "text": [
      "Pearson’s correlation coefficient: 0.74\n",
      "p-value: 0.0\n"
     ]
    }
   ],
   "source": [
    "# Calculate Pearson’s correlation coefficient between total family income and total household income \n",
    "from scipy import stats\n",
    "\n",
    "r, p_val = stats.pearsonr(df.S1Q10A, df.S1Q12A)\n",
    "\n",
    "print 'Pearson’s correlation coefficient: {0}'.format(round(r, 2))\n",
    "print 'p-value: {0}'.format(round(p_val, 2))"
   ]
  },
  {
   "cell_type": "code",
   "execution_count": 13,
   "metadata": {
    "collapsed": false
   },
   "outputs": [
    {
     "name": "stdout",
     "output_type": "stream",
     "text": [
      "Pearson’s correlation coefficient: 0.35\n",
      "p-value: 0.0\n"
     ]
    }
   ],
   "source": [
    "# Calculate Pearson’s correlation coefficient between general health scaled and mental health scaled \n",
    "r, p_val = stats.pearsonr(df.NBS4, df.NBS8)\n",
    "\n",
    "print 'Pearson’s correlation coefficient: {0}'.format(round(r, 2))\n",
    "print 'p-value: {0}'.format(round(p_val, 2))"
   ]
  },
  {
   "cell_type": "code",
   "execution_count": 14,
   "metadata": {
    "collapsed": false,
    "scrolled": true
   },
   "outputs": [
    {
     "data": {
      "image/png": "[encoded data removed]",
      "text/plain": [
       "<matplotlib.figure.Figure at 0x177236d8>"
      ]
     },
     "metadata": {},
     "output_type": "display_data"
    }
   ],
   "source": [
    "# Plot a correlation matrix\n",
    "import numpy as np\n",
    "import matplotlib.pyplot as plt\n",
    "import seaborn as sns\n",
    "%matplotlib inline\n",
    "\n",
    "labels = ['FI', 'HI', 'GH', 'MH']\n",
    "cm = np.corrcoef(df[cols].values.T)\n",
    "\n",
    "hm = sns.heatmap(cm,\n",
    "                 cbar=True,\n",
    "                 annot=True,\n",
    "                 square=True,\n",
    "                 fmt='.2f',\n",
    "                 annot_kws={'size': 15},\n",
    "                 yticklabels=labels,\n",
    "                 xticklabels=labels)\n",
    "plt.show()"
   ]
  },
  {
   "cell_type": "code",
   "execution_count": 15,
   "metadata": {
    "collapsed": true
   },
   "outputs": [],
   "source": [
    "# Model interpretation for the Pearson’s correlation\n",
    "#\n",
    "# A series of Pearson’s correlation tests showed a strong positive correlation between total family\n",
    "# income and total household income, moderate positive correlation between general health scaled and\n",
    "# mental health scaled, and weak positive correlation between total family or household income and \n",
    "# general or mental health scaled. The tests showed statistically significant p-values in all cases.  "
   ]
  },
  {
   "cell_type": "code",
   "execution_count": null,
   "metadata": {
    "collapsed": true
   },
   "outputs": [],
   "source": []
  }
 ],
 "metadata": {
  "kernelspec": {
   "display_name": "Python 2",
   "language": "python",
   "name": "python2"
  },
  "language_info": {
   "codemirror_mode": {
    "name": "ipython",
    "version": 2
   },
   "file_extension": ".py",
   "mimetype": "text/x-python",
   "name": "python",
   "nbconvert_exporter": "python",
   "pygments_lexer": "ipython2",
   "version": "2.7.11"
  }
 },
 "nbformat": 4,
 "nbformat_minor": 0
}
