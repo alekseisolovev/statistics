{
 "cells": [
  {
   "cell_type": "code",
   "execution_count": 6,
   "metadata": {
    "collapsed": true
   },
   "outputs": [],
   "source": [
    "import numpy as np\n",
    "import pandas as pd\n",
    "import scipy.stats as stats"
   ]
  },
  {
   "cell_type": "code",
   "execution_count": 7,
   "metadata": {
    "collapsed": false,
    "scrolled": true
   },
   "outputs": [
    {
     "name": "stdout",
     "output_type": "stream",
     "text": [
      "F-value: 1.38\n",
      "p-value: 0.25\n"
     ]
    }
   ],
   "source": [
    "np.random.seed(12)\n",
    "\n",
    "races = ['asian', 'black', 'hispanic', 'white']\n",
    "\n",
    "# Generate random data\n",
    "voter_race = np.random.choice(a = races,\n",
    "                              p = [0.1, 0.15 ,0.25, 0.5],\n",
    "                              size = 1000)\n",
    "\n",
    "voter_age = stats.poisson.rvs(loc=18, mu=30, size=1000)\n",
    "\n",
    "# Group age data by race\n",
    "voters = pd.DataFrame({'race': voter_race, 'age': voter_age})\n",
    "groups = voters.groupby('race').groups\n",
    "\n",
    "# Extract individual groups\n",
    "asian = voter_age[groups['asian']]\n",
    "black = voter_age[groups['black']]\n",
    "hispanic = voter_age[groups['hispanic']]\n",
    "white = voter_age[groups['white']]\n",
    "\n",
    "# Perform the ANOVA\n",
    "f_val, p_val = stats.f_oneway(asian, black, hispanic, white)\n",
    "\n",
    "# The test output indicates there is no significant difference between the means of each group\n",
    "print 'F-value: {0}'.format(round(f_val, 2))\n",
    "print 'p-value: {0}'.format(round(p_val, 2))"
   ]
  },
  {
   "cell_type": "code",
   "execution_count": 8,
   "metadata": {
    "collapsed": false
   },
   "outputs": [
    {
     "name": "stdout",
     "output_type": "stream",
     "text": [
      "F-value: 9.06\n",
      "p-value: 0.0\n"
     ]
    }
   ],
   "source": [
    "# Make new age data where the group means do differ\n",
    "white_age = stats.poisson.rvs(loc=18, mu=32, size=1000)\n",
    "\n",
    "voter_age = np.where(voter_race == 'white', white_age, voter_age)\n",
    "\n",
    "# Group age data by race\n",
    "voters = pd.DataFrame({'race': voter_race, 'age': voter_age})\n",
    "groups = voters.groupby('race').groups\n",
    "\n",
    "# Extract individual groups\n",
    "asian = voter_age[groups['asian']]\n",
    "black = voter_age[groups['black']]\n",
    "hispanic = voter_age[groups['hispanic']]\n",
    "white = voter_age[groups['white']]\n",
    "\n",
    "# Perform the ANOVA\n",
    "f_val, p_val = stats.f_oneway(asian, black, hispanic, white)\n",
    "\n",
    "# The test result suggests the groups have different sample means, since p-value is significant at a 99% confidence level\n",
    "print 'F-value: {0}'.format(round(f_val, 2))\n",
    "print 'p-value: {0}'.format(round(p_val, 4))"
   ]
  },
  {
   "cell_type": "code",
   "execution_count": 9,
   "metadata": {
    "collapsed": false
   },
   "outputs": [
    {
     "data": {
      "text/plain": [
       "<matplotlib.collections.LineCollection at 0x17cb7a58>"
      ]
     },
     "execution_count": 9,
     "metadata": {},
     "output_type": "execute_result"
    },
    {
     "data": {
      "image/png": "[encoded data removed]",
      "text/plain": [
       "<matplotlib.figure.Figure at 0x179a97b8>"
      ]
     },
     "metadata": {},
     "output_type": "display_data"
    }
   ],
   "source": [
    "# Tukey's post hoc test\n",
    "from statsmodels.stats.multicomp import pairwise_tukeyhsd\n",
    "import matplotlib.pyplot as plt\n",
    "%matplotlib inline\n",
    "\n",
    "tukey = pairwise_tukeyhsd(endog=voter_age, \n",
    "                          groups=voter_race, \n",
    "                          alpha=0.05)\n",
    "\n",
    "# Plot group confidence intervals\n",
    "tukey.plot_simultaneous()    \n",
    "plt.vlines(x=49, ymin=-10, ymax=10, color='red')"
   ]
  },
  {
   "cell_type": "code",
   "execution_count": 10,
   "metadata": {
    "collapsed": false
   },
   "outputs": [
    {
     "name": "stdout",
     "output_type": "stream",
     "text": [
      "Multiple Comparison of Means - Tukey HSD,FWER=0.05\n",
      "================================================\n",
      " group1   group2  meandiff  lower  upper  reject\n",
      "------------------------------------------------\n",
      " asian    black    0.5661  -1.4384 2.5706 False \n",
      " asian   hispanic  0.3357  -1.4937 2.1651 False \n",
      " asian    white    2.2328   0.5308 3.9348  True \n",
      " black   hispanic -0.2304  -1.7901 1.3293 False \n",
      " black    white    1.6667   0.2585 3.0748  True \n",
      "hispanic  white    1.8971   0.7518 3.0423  True \n",
      "------------------------------------------------\n"
     ]
    }
   ],
   "source": [
    "print(tukey.summary()) "
   ]
  },
  {
   "cell_type": "code",
   "execution_count": null,
   "metadata": {
    "collapsed": true
   },
   "outputs": [],
   "source": []
  }
 ],
 "metadata": {
  "kernelspec": {
   "display_name": "Python 2",
   "language": "python",
   "name": "python2"
  },
  "language_info": {
   "codemirror_mode": {
    "name": "ipython",
    "version": 2
   },
   "file_extension": ".py",
   "mimetype": "text/x-python",
   "name": "python",
   "nbconvert_exporter": "python",
   "pygments_lexer": "ipython2",
   "version": "2.7.11"
  }
 },
 "nbformat": 4,
 "nbformat_minor": 0
}
