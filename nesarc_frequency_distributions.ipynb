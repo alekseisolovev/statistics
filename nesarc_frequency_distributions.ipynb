{
 "cells": [
  {
   "cell_type": "code",
   "execution_count": 1,
   "metadata": {
    "collapsed": false,
    "scrolled": false
   },
   "outputs": [],
   "source": [
    "import pandas as pd\n",
    "\n",
    "# The U.S. National Epidemiological Survey on Alcohol and Related Conditions (NESARC) is a survey\n",
    "# designed to determine the magnitude of alcohol use and psychiatric disorders in the U.S. population. \n",
    "# It is a representative sample of the non-institutionalized population 18 years and older.\n",
    "#\n",
    "# Selected variables \n",
    "# MAJORDEP12 - MAJOR DEPRESSION IN THE LAST 12 MONTHS (NON-HIERARCHICAL) (\n",
    "#     0 - No,\n",
    "#     1 - Yes)\n",
    "# ALCABDEP12DX - ALCOHOL ABUSE/DEPENDENCE IN THE LAST 12 MONTHS (\n",
    "#     0 - No alcohol diagnosis,\n",
    "#     1 - Alcohol abuse only,\n",
    "#     2 - Alcohol dependence only,\n",
    "#     3 - Alcohol abuse and dependence)\n",
    "# TAB12MDX - NICOTINE DEPENDENCE IN THE LAST 12 MONTHS (\n",
    "#     0 - No nicotine dependence,\n",
    "#     1 - Nicotine dependence)\n",
    "\n",
    "cols = ['MAJORDEP12', 'ALCABDEP12DX', 'TAB12MDX']\n",
    "\n",
    "# Load the data\n",
    "df = pd.read_csv('nesarc.csv', usecols=cols, low_memory=False)"
   ]
  },
  {
   "cell_type": "code",
   "execution_count": 2,
   "metadata": {
    "collapsed": false,
    "scrolled": false
   },
   "outputs": [
    {
     "name": "stdout",
     "output_type": "stream",
     "text": [
      "<class 'pandas.core.frame.DataFrame'>\n",
      "Int64Index: 43093 entries, 0 to 43092\n",
      "Data columns (total 3 columns):\n",
      "MAJORDEP12      43093 non-null int64\n",
      "ALCABDEP12DX    43093 non-null int64\n",
      "TAB12MDX        43093 non-null int64\n",
      "dtypes: int64(3)\n",
      "memory usage: 1.3 MB\n"
     ]
    }
   ],
   "source": [
    "# Look at the data\n",
    "df.info()"
   ]
  },
  {
   "cell_type": "code",
   "execution_count": 3,
   "metadata": {
    "collapsed": false,
    "scrolled": false
   },
   "outputs": [
    {
     "data": {
      "text/plain": [
       "MAJORDEP12      0\n",
       "ALCABDEP12DX    0\n",
       "TAB12MDX        0\n",
       "dtype: int64"
      ]
     },
     "execution_count": 3,
     "metadata": {},
     "output_type": "execute_result"
    }
   ],
   "source": [
    "# Look for missing values\n",
    "df.isnull().sum()"
   ]
  },
  {
   "cell_type": "code",
   "execution_count": 4,
   "metadata": {
    "collapsed": false
   },
   "outputs": [
    {
     "name": "stdout",
     "output_type": "stream",
     "text": [
      "Counts for major depression in the last 12 month:\n",
      "0    39608\n",
      "1     3485\n",
      "Name: MAJORDEP12, dtype: int64\n",
      "Percentages for major depression prior in the last 12 month:\n",
      "0    0.919128\n",
      "1    0.080872\n",
      "Name: MAJORDEP12, dtype: float64\n"
     ]
    }
   ],
   "source": [
    "# Look at the MAJORDEP12 frequency distributions \n",
    "print('Counts for major depression in the last 12 month:\\n{0}'.format(\n",
    "        df.MAJORDEP12.value_counts(sort=False)))\n",
    "print('Percentages for major depression prior in the last 12 month:\\n{0}'.format(\n",
    "        df.MAJORDEP12.value_counts(sort=False, normalize=True)))"
   ]
  },
  {
   "cell_type": "code",
   "execution_count": 5,
   "metadata": {
    "collapsed": false
   },
   "outputs": [
    {
     "name": "stdout",
     "output_type": "stream",
     "text": [
      "Counts for alcohol abuse/dependence in the last 12 month:\n",
      "0    39766\n",
      "1     1843\n",
      "2      553\n",
      "3      931\n",
      "Name: ALCABDEP12DX, dtype: int64\n",
      "Percentages for alcohol abuse/dependence in the last 12 month:\n",
      "0    0.922795\n",
      "1    0.042768\n",
      "2    0.012833\n",
      "3    0.021604\n",
      "Name: ALCABDEP12DX, dtype: float64\n"
     ]
    }
   ],
   "source": [
    "# Look at the ALCABDEP12DX frequency distributions \n",
    "print('Counts for alcohol abuse/dependence in the last 12 month:\\n{0}'.format(\n",
    "        df.ALCABDEP12DX.value_counts(sort=False)))\n",
    "print('Percentages for alcohol abuse/dependence in the last 12 month:\\n{0}'.format(\n",
    "        df.ALCABDEP12DX.value_counts(sort=False, normalize=True)))"
   ]
  },
  {
   "cell_type": "code",
   "execution_count": 6,
   "metadata": {
    "collapsed": false
   },
   "outputs": [
    {
     "name": "stdout",
     "output_type": "stream",
     "text": [
      "Counts for nicotine dependence in the last 12 month:\n",
      "0    38131\n",
      "1     4962\n",
      "Name: TAB12MDX, dtype: int64\n",
      "Percentages for nicotine dependence in the last 12 month:\n",
      "0    0.884854\n",
      "1    0.115146\n",
      "Name: TAB12MDX, dtype: float64\n"
     ]
    }
   ],
   "source": [
    "# Look at the TAB12MDX frequency distributions\n",
    "print('Counts for nicotine dependence in the last 12 month:\\n{0}'.format(\n",
    "        df.TAB12MDX.value_counts(sort=False)))\n",
    "print('Percentages for nicotine dependence in the last 12 month:\\n{0}'.format(\n",
    "        df.TAB12MDX.value_counts(sort=False, normalize=True)))"
   ]
  },
  {
   "cell_type": "code",
   "execution_count": 7,
   "metadata": {
    "collapsed": false
   },
   "outputs": [],
   "source": [
    "# Model interpretation for the frequency distributions\n",
    "#\n",
    "# A random sample of 43093 adolescents were asked a variety of questions on medical conditions\n",
    "# to diagnose a presence of major depression in the last 12 months. \n",
    "# Of the total number, 39608 or 92% fell into category 0 (No) and 3485 or 8%\n",
    "# fell into category 1 (Yes).  \n",
    "# \n",
    "# For the next question the same group of the respondents were asked on alcohol abuse/dependence\n",
    "# conditions in the last 12 months. 39766 or 93% fell into category 0 (No alcohol diagnosis),\n",
    "# 1843 or 4% fell into category 1 (Alcohol abuse only), 553 or about 1% fell into category 2\n",
    "# (Alcohol dependence only), and 931 or about 2% fell into category 3 (Alcohol abuse and dependence).\n",
    "#\n",
    "# The next question asked the group on nicotine dependence conditions in the last 12 months.\n",
    "# 38131 or 88% fell into category 0 (No nicotine dependence) and 4962 or about 12% fell\n",
    "# into category 1 (Nicotine dependence)."
   ]
  }
 ],
 "metadata": {
  "kernelspec": {
   "display_name": "Python 2",
   "language": "python",
   "name": "python2"
  },
  "language_info": {
   "codemirror_mode": {
    "name": "ipython",
    "version": 2
   },
   "file_extension": ".py",
   "mimetype": "text/x-python",
   "name": "python",
   "nbconvert_exporter": "python",
   "pygments_lexer": "ipython2",
   "version": "2.7.11"
  }
 },
 "nbformat": 4,
 "nbformat_minor": 0
}
