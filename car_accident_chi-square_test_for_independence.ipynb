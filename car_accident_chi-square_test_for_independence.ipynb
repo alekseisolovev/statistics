{
 "cells": [
  {
   "cell_type": "markdown",
   "metadata": {},
   "source": [
    "## Car accident chi-square test for independence\n",
    "### Hypothesis\n",
    "150 students from the University of Washington were shown a one minute clip of a car accident. After the students watched the clip, they were separated into three groups. Group 1 was asked how fast the cars were going when they hit each other. Group 2 was asked how fast the cars were going when they smashed into each other. Group 3 was asked nothing about the speed of the cars. After one week all students were asked whether they saw any broken glass. There were no broken glass in the film, but 7 out of 50 students reported seeing broken glass in group 1, 16 out of 50 students saw broken glass in group 2, and 6 out of 50 in group 3.     \n",
    "\n",
    "Our null hypothesis is that students' response for whether or not they saw broken glass in independent of the wording used in the question."
   ]
  },
  {
   "cell_type": "markdown",
   "metadata": {},
   "source": [
    "### Look at the data"
   ]
  },
  {
   "cell_type": "code",
   "execution_count": 1,
   "metadata": {
    "collapsed": false,
    "scrolled": false
   },
   "outputs": [
    {
     "data": {
      "text/html": [
       "<div>\n",
       "<table border=\"1\" class=\"dataframe\">\n",
       "  <thead>\n",
       "    <tr style=\"text-align: right;\">\n",
       "      <th></th>\n",
       "      <th>Group 1</th>\n",
       "      <th>Group 2</th>\n",
       "      <th>Group 3</th>\n",
       "    </tr>\n",
       "  </thead>\n",
       "  <tbody>\n",
       "    <tr>\n",
       "      <th>Yes</th>\n",
       "      <td>7</td>\n",
       "      <td>16</td>\n",
       "      <td>6</td>\n",
       "    </tr>\n",
       "    <tr>\n",
       "      <th>No</th>\n",
       "      <td>43</td>\n",
       "      <td>34</td>\n",
       "      <td>44</td>\n",
       "    </tr>\n",
       "  </tbody>\n",
       "</table>\n",
       "</div>"
      ],
      "text/plain": [
       "     Group 1  Group 2  Group 3\n",
       "Yes        7       16        6\n",
       "No        43       34       44"
      ]
     },
     "execution_count": 1,
     "metadata": {},
     "output_type": "execute_result"
    }
   ],
   "source": [
    "import pandas as pd\n",
    "\n",
    "data = {'Group 1': [7, 43], 'Group 2': [16, 34], 'Group 3': [6, 44]}\n",
    "df = pd.DataFrame(data, index=['Yes', 'No'])\n",
    "\n",
    "df.head()"
   ]
  },
  {
   "cell_type": "markdown",
   "metadata": {},
   "source": [
    "### Chi-square test and chi-critical value"
   ]
  },
  {
   "cell_type": "markdown",
   "metadata": {},
   "source": [
    "With 2 degrees of freedom our chi-square critical value is 5.99."
   ]
  },
  {
   "cell_type": "code",
   "execution_count": 2,
   "metadata": {
    "collapsed": false,
    "scrolled": false
   },
   "outputs": [
    {
     "name": "stdout",
     "output_type": "stream",
     "text": [
      "Chi-square statistic: 7.78\n",
      "p-value: 0.02\n",
      "Degrees of freedom: 2\n",
      "Expected frequencies:\n",
      "[[  9.67   9.67   9.67]\n",
      " [ 40.33  40.33  40.33]]\n"
     ]
    }
   ],
   "source": [
    "import numpy as np\n",
    "from scipy import stats\n",
    "\n",
    "chi2, p_val, dof, exp = stats.chi2_contingency(df)\n",
    "\n",
    "print 'Chi-square statistic: {0}'.format(round(chi2, 2))\n",
    "print 'p-value: {0}'.format(round(p_val, 2))\n",
    "print 'Degrees of freedom: {0}'.format(dof)\n",
    "print 'Expected frequencies:\\n{0}'.format(np.around(exp, decimals=2))"
   ]
  },
  {
   "cell_type": "markdown",
   "metadata": {},
   "source": [
    "### Conclusion"
   ]
  },
  {
   "cell_type": "markdown",
   "metadata": {},
   "source": [
    "Our chi-square value is greater than our chi-square critical value, and our p-value is less than alpha level 0.05. We can conclude that the word smashed led to more yes responses for the question. This results are consistent with the view that the questions asked subsequent to an even can cause a reconstruction in one's memory of that event.  "
   ]
  },
  {
   "cell_type": "code",
   "execution_count": null,
   "metadata": {
    "collapsed": true
   },
   "outputs": [],
   "source": []
  }
 ],
 "metadata": {
  "kernelspec": {
   "display_name": "Python 2",
   "language": "python",
   "name": "python2"
  },
  "language_info": {
   "codemirror_mode": {
    "name": "ipython",
    "version": 2
   },
   "file_extension": ".py",
   "mimetype": "text/x-python",
   "name": "python",
   "nbconvert_exporter": "python",
   "pygments_lexer": "ipython2",
   "version": "2.7.11"
  }
 },
 "nbformat": 4,
 "nbformat_minor": 0
}
