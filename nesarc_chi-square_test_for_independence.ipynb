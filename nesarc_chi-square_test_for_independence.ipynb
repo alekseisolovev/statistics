{
 "cells": [
  {
   "cell_type": "code",
   "execution_count": 1,
   "metadata": {
    "collapsed": false,
    "scrolled": false
   },
   "outputs": [],
   "source": [
    "import pandas as pd\n",
    "\n",
    "# The U.S. National Epidemiological Survey on Alcohol and Related Conditions (NESARC) is a survey\n",
    "# designed to determine the magnitude of alcohol use and psychiatric disorders in the U.S. population. \n",
    "# It is a representative sample of the non-institutionalized population 18 years and older.\n",
    "#\n",
    "# Selected variables for the test (that is, is major depression and alcohol consumption \n",
    "# independent or dependent?)\n",
    "# MAJORDEP12 - MAJOR DEPRESSION IN THE LAST 12 MONTHS (NON-HIERARCHICAL) (\n",
    "#     0 - No,\n",
    "#     1 - Yes)\n",
    "# ALCABDEP12DX - ALCOHOL ABUSE/DEPENDENCE IN THE LAST 12 MONTHS (\n",
    "#     0 - No alcohol diagnosis,\n",
    "#     1 - Alcohol abuse only,\n",
    "#     2 - Alcohol dependence only,\n",
    "#     3 - Alcohol abuse and dependence)\n",
    "\n",
    "cols = ['MAJORDEP12', 'ALCABDEP12DX']\n",
    "\n",
    "# Load the data\n",
    "df = pd.read_csv('nesarc.csv', usecols=cols, low_memory=False)"
   ]
  },
  {
   "cell_type": "code",
   "execution_count": 2,
   "metadata": {
    "collapsed": false,
    "scrolled": true
   },
   "outputs": [
    {
     "name": "stdout",
     "output_type": "stream",
     "text": [
      "   MAJORDEP12  ALCABDEP12DX\n",
      "0           0             0\n",
      "1           0             0\n",
      "2           0             0\n",
      "3           0             0\n",
      "4           0             0\n"
     ]
    }
   ],
   "source": [
    "# Print first 5 rows of the data set\n",
    "print(df.head())"
   ]
  },
  {
   "cell_type": "code",
   "execution_count": 3,
   "metadata": {
    "collapsed": false
   },
   "outputs": [
    {
     "name": "stdout",
     "output_type": "stream",
     "text": [
      "ALCABDEP12DX      0     1    2    3\n",
      "MAJORDEP12                         \n",
      "0             36816  1652  443  697\n",
      "1              2950   191  110  234\n"
     ]
    }
   ],
   "source": [
    "# Create a contingency table of observed counts\n",
    "contab = pd.crosstab(df.MAJORDEP12, df.ALCABDEP12DX)\n",
    "print(contab)"
   ]
  },
  {
   "cell_type": "code",
   "execution_count": 4,
   "metadata": {
    "collapsed": false
   },
   "outputs": [
    {
     "name": "stdout",
     "output_type": "stream",
     "text": [
      "ALCABDEP12DX      0      1      2      3\n",
      "MAJORDEP12                              \n",
      "0             0.926  0.896  0.801  0.749\n",
      "1             0.074  0.104  0.199  0.251\n"
     ]
    }
   ],
   "source": [
    "# Calculate column percentages\n",
    "import numpy as np\n",
    "\n",
    "colsum = contab.sum(axis=0)\n",
    "colpct = contab/colsum\n",
    "print(np.around(colpct, decimals=3))"
   ]
  },
  {
   "cell_type": "code",
   "execution_count": 5,
   "metadata": {
    "collapsed": false,
    "scrolled": true
   },
   "outputs": [
    {
     "name": "stdout",
     "output_type": "stream",
     "text": [
      "Chi-square statistic: 504.42\n",
      "p-value: 0.0\n",
      "Degrees of freedom: 3\n",
      "Expected frequencies:\n",
      "[[ 36550.   1694.    508.    856.]\n",
      " [  3216.    149.     45.     75.]]\n"
     ]
    }
   ],
   "source": [
    "# Calculate chi-square statistic \n",
    "from scipy import stats\n",
    "\n",
    "chi2, p_val, dof, exp = stats.chi2_contingency(contab)\n",
    "\n",
    "print 'Chi-square statistic: {0}'.format(round(chi2, 2))\n",
    "print 'p-value: {0}'.format(round(p_val, 2))\n",
    "print 'Degrees of freedom: {0}'.format(dof)\n",
    "print 'Expected frequencies:\\n{0}'.format(np.around(exp, decimals=0))"
   ]
  },
  {
   "cell_type": "code",
   "execution_count": 6,
   "metadata": {
    "collapsed": false
   },
   "outputs": [
    {
     "name": "stdout",
     "output_type": "stream",
     "text": [
      "Chi-square statistic: 21.47\n",
      "p-value: 4e-06\n",
      "Degrees of freedom: 1\n",
      "Expected frequencies:\n",
      "[[ 36764.   1704.]\n",
      " [  3002.    139.]]\n"
     ]
    }
   ],
   "source": [
    "# Conduct post hoc tests for all paired comparisons using the adjusted Bonferroni p-value, 0.08\n",
    "# Show the post hoc test for group 0 and 1\n",
    "recode = {0: 0, 1: 1}\n",
    "df.COMP = df.ALCABDEP12DX.map(recode)\n",
    "\n",
    "contab = pd.crosstab(df.MAJORDEP12, df.COMP)\n",
    "\n",
    "colsum = contab.sum(axis=0)\n",
    "colpct = contab/colsum\n",
    "\n",
    "chi2, p_val, dof, exp = stats.chi2_contingency(contab)\n",
    "\n",
    "print 'Chi-square statistic: {0}'.format(round(chi2, 2))\n",
    "print 'p-value: {0}'.format(round(p_val, 6))\n",
    "print 'Degrees of freedom: {0}'.format(dof)\n",
    "print 'Expected frequencies:\\n{0}'.format(np.around(exp, decimals=0))"
   ]
  },
  {
   "cell_type": "code",
   "execution_count": 7,
   "metadata": {
    "collapsed": false
   },
   "outputs": [
    {
     "name": "stdout",
     "output_type": "stream",
     "text": [
      "Chi-square statistic: 5.06\n",
      "p-value: 0.02\n",
      "Degrees of freedom: 1\n",
      "Expected frequencies:\n",
      "[[ 425.  715.]\n",
      " [ 128.  216.]]\n"
     ]
    }
   ],
   "source": [
    "# Show the post hoc test for group 2 and 3\n",
    "recode = {2: 2, 3: 3}\n",
    "df.COMP = df.ALCABDEP12DX.map(recode)\n",
    "\n",
    "contab = pd.crosstab(df.MAJORDEP12, df.COMP)\n",
    "\n",
    "colsum = contab.sum(axis=0)\n",
    "colpct = contab/colsum\n",
    "\n",
    "chi2, p_val, dof, exp = stats.chi2_contingency(contab)\n",
    "\n",
    "print 'Chi-square statistic: {0}'.format(round(chi2, 2))\n",
    "print 'p-value: {0}'.format(round(p_val, 2))\n",
    "print 'Degrees of freedom: {0}'.format(dof)\n",
    "print 'Expected frequencies:\\n{0}'.format(np.around(exp, decimals=0))"
   ]
  },
  {
   "cell_type": "code",
   "execution_count": 8,
   "metadata": {
    "collapsed": true
   },
   "outputs": [],
   "source": [
    "# Model interpretation for the chi-square test results\n",
    "#\n",
    "# The test showed the F-statistic of 504.42 and the p-value of 0 which is less than\n",
    "# alpha level of 0.05. According to these results we can reject the null hypothesis and say that\n",
    "# major depression and the amount of alcohol consumed are significantly associated.\n",
    "#\n",
    "# Model interpretation for the post hoc chi-square test results\n",
    "#\n",
    "# Post hoc test results for all paired comparisons showed significant difference between 5 out of 6\n",
    "# groups. In comparison, prevalence of major depression was statistically similar among those groups\n",
    "# with alcohol dependence only and alcohol abuse and dependence."
   ]
  },
  {
   "cell_type": "code",
   "execution_count": null,
   "metadata": {
    "collapsed": true
   },
   "outputs": [],
   "source": []
  }
 ],
 "metadata": {
  "kernelspec": {
   "display_name": "Python 2",
   "language": "python",
   "name": "python2"
  },
  "language_info": {
   "codemirror_mode": {
    "name": "ipython",
    "version": 2
   },
   "file_extension": ".py",
   "mimetype": "text/x-python",
   "name": "python",
   "nbconvert_exporter": "python",
   "pygments_lexer": "ipython2",
   "version": "2.7.11"
  }
 },
 "nbformat": 4,
 "nbformat_minor": 0
}
