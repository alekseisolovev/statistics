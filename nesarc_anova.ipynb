{
 "cells": [
  {
   "cell_type": "code",
   "execution_count": 1,
   "metadata": {
    "collapsed": false,
    "scrolled": false
   },
   "outputs": [],
   "source": [
    "import pandas as pd\n",
    "\n",
    "# The U.S. National Epidemiological Survey on Alcohol and Related Conditions (NESARC) is a survey\n",
    "# designed to determine the magnitude of alcohol use and psychiatric disorders in the U.S. population. \n",
    "# It is a representative sample of the non-institutionalized population 18 years and older.\n",
    "#\n",
    "# Selected variables for the test (that is, is there an association\n",
    "# between ethnicity and amount of alcohol consumed?)\n",
    "# ETHRACE2A - RACE/ETHNICITY (\n",
    "#     1 - White,\n",
    "#     2 - Black,\n",
    "#     3 - American Indian, Alaska Native,\n",
    "#     4 - Asian Native, Hawaiian Pacific Islander,\n",
    "#     5 - Hispanic or Latino)\n",
    "# ETOTLCA2 - AVERAGE DAILY VOLUME OF ETHANOL CONSUMED IN PAST YEAR,\n",
    "# FROM ALL TYPES OF ALCOHOLIC BEVERAGES COMBINED\n",
    "\n",
    "cols = ['ETHRACE2A', 'ETOTLCA2']\n",
    "\n",
    "# Load the data\n",
    "df = pd.read_csv('nesarc.csv', usecols=cols, low_memory=False)"
   ]
  },
  {
   "cell_type": "code",
   "execution_count": 2,
   "metadata": {
    "collapsed": false
   },
   "outputs": [
    {
     "name": "stdout",
     "output_type": "stream",
     "text": [
      "   ETHRACE2A  ETOTLCA2\n",
      "1          5    0.0014\n",
      "5          2    0.0021\n",
      "6          2    0.0033\n",
      "7          1    0.0271\n",
      "8          1    0.0295\n"
     ]
    }
   ],
   "source": [
    "# Print first 5 rows of the data set\n",
    "df.ETOTLCA2 = pd.to_numeric(df.ETOTLCA2, errors='coerse')\n",
    "df.dropna(inplace=True)\n",
    "\n",
    "print(df.head())"
   ]
  },
  {
   "cell_type": "code",
   "execution_count": 3,
   "metadata": {
    "collapsed": false,
    "scrolled": false
   },
   "outputs": [
    {
     "name": "stdout",
     "output_type": "stream",
     "text": [
      "                            OLS Regression Results                            \n",
      "==============================================================================\n",
      "Dep. Variable:               ETOTLCA2   R-squared:                       0.001\n",
      "Model:                            OLS   Adj. R-squared:                  0.000\n",
      "Method:                 Least Squares   F-statistic:                     3.997\n",
      "Date:                Fri, 17 Jun 2016   Prob (F-statistic):            0.00304\n",
      "Time:                        13:26:10   Log-Likelihood:                -59024.\n",
      "No. Observations:               26655   AIC:                         1.181e+05\n",
      "Df Residuals:                   26650   BIC:                         1.181e+05\n",
      "Df Model:                           4                                         \n",
      "Covariance Type:            nonrobust                                         \n",
      "=====================================================================================\n",
      "                        coef    std err          t      P>|t|      [95.0% Conf. Int.]\n",
      "-------------------------------------------------------------------------------------\n",
      "Intercept             0.5530      0.017     32.120      0.000         0.519     0.587\n",
      "C(ETHRACE2A)[T.2]     0.0803      0.039      2.083      0.037         0.005     0.156\n",
      "C(ETHRACE2A)[T.3]     0.3091      0.111      2.774      0.006         0.091     0.528\n",
      "C(ETHRACE2A)[T.4]    -0.1637      0.088     -1.862      0.063        -0.336     0.009\n",
      "C(ETHRACE2A)[T.5]    -0.0002      0.036     -0.005      0.996        -0.071     0.070\n",
      "==============================================================================\n",
      "Omnibus:                    84205.081   Durbin-Watson:                   2.010\n",
      "Prob(Omnibus):                  0.000   Jarque-Bera (JB):      20371621166.213\n",
      "Skew:                          50.296   Prob(JB):                         0.00\n",
      "Kurtosis:                    4284.631   Cond. No.                         8.49\n",
      "==============================================================================\n",
      "\n",
      "Warnings:\n",
      "[1] Standard Errors assume that the covariance matrix of the errors is correctly specified.\n"
     ]
    }
   ],
   "source": [
    "# Load OLS function to calculate F-statistic and p-value\n",
    "import statsmodels.formula.api as smf\n",
    "\n",
    "model = smf.ols(formula='ETOTLCA2 ~ C(ETHRACE2A)', data=df)\n",
    "results = model.fit()\n",
    "\n",
    "print(results.summary())"
   ]
  },
  {
   "cell_type": "code",
   "execution_count": 4,
   "metadata": {
    "collapsed": false,
    "scrolled": true
   },
   "outputs": [
    {
     "name": "stdout",
     "output_type": "stream",
     "text": [
      "           ETOTLCA2\n",
      "ETHRACE2A          \n",
      "1          0.552972\n",
      "2          0.633247\n",
      "3          0.862117\n",
      "4          0.389242\n",
      "5          0.552790\n",
      "           ETOTLCA2\n",
      "ETHRACE2A          \n",
      "1          1.333940\n",
      "2          2.122035\n",
      "3          2.483463\n",
      "4          1.095729\n",
      "5          4.028211\n"
     ]
    }
   ],
   "source": [
    "# Look at the groups means and std\n",
    "print(df.groupby('ETHRACE2A').mean())\n",
    "print(df.groupby('ETHRACE2A').std())"
   ]
  },
  {
   "cell_type": "code",
   "execution_count": 5,
   "metadata": {
    "collapsed": false
   },
   "outputs": [
    {
     "name": "stdout",
     "output_type": "stream",
     "text": [
      "Multiple Comparison of Means - Tukey HSD,FWER=0.05\n",
      "=============================================\n",
      "group1 group2 meandiff  lower   upper  reject\n",
      "---------------------------------------------\n",
      "  1      2     0.0803  -0.0249  0.1854 False \n",
      "  1      3     0.3091   0.0052  0.6131  True \n",
      "  1      4    -0.1637  -0.4036  0.0762 False \n",
      "  1      5    -0.0002  -0.0985  0.0981 False \n",
      "  2      3     0.2289  -0.0858  0.5436 False \n",
      "  2      4     -0.244  -0.4974  0.0094 False \n",
      "  2      5    -0.0805  -0.2081  0.0472 False \n",
      "  3      4    -0.4729  -0.8544 -0.0914  True \n",
      "  3      5    -0.3093  -0.6218  0.0032 False \n",
      "  4      5     0.1635  -0.0871  0.4142 False \n",
      "---------------------------------------------\n"
     ]
    }
   ],
   "source": [
    "# Conduct Tukey's post hoc test\n",
    "import statsmodels.stats.multicomp as ml\n",
    "\n",
    "mc = ml.MultiComparison(df['ETOTLCA2'], df['ETHRACE2A'])\n",
    "results = mc.tukeyhsd()\n",
    "\n",
    "print(results.summary())"
   ]
  },
  {
   "cell_type": "code",
   "execution_count": null,
   "metadata": {
    "collapsed": true
   },
   "outputs": [],
   "source": [
    "# Model interpretation for the ANOVA test results\n",
    "#\n",
    "# The test showed the F-statistic of 3.99 and the p-value of 0.003 which was less than\n",
    "# alpha level of 0.05. According to these results we can reject the null hypothesis and say\n",
    "# there is an association between ethnicity and amount of alcohol consumed.\n",
    "#\n",
    "# Model interpretation for the post hoc ANOVA test results\n",
    "#\n",
    "# Post hoc comparisons of mean number of alcohol consumption by pairs of ethnicity categories showed\n",
    "# a significant difference between group 3 and groups 1 and 4. All other group comparisons were\n",
    "# statistically similar.   "
   ]
  }
 ],
 "metadata": {
  "kernelspec": {
   "display_name": "Python 2",
   "language": "python",
   "name": "python2"
  },
  "language_info": {
   "codemirror_mode": {
    "name": "ipython",
    "version": 2
   },
   "file_extension": ".py",
   "mimetype": "text/x-python",
   "name": "python",
   "nbconvert_exporter": "python",
   "pygments_lexer": "ipython2",
   "version": "2.7.11"
  }
 },
 "nbformat": 4,
 "nbformat_minor": 0
}
