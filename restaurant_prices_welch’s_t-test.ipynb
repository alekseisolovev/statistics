{
 "cells": [
  {
   "cell_type": "markdown",
   "metadata": {},
   "source": [
    "## Restaurant prices Welch’s t-test\n",
    "### Hypothesis\n",
    "You and your friends want to go out to eat, but you don't want to pay a lot. You decide to either go to Modern Center or North Center. You look online and find the average meal prices at 18 restaurants in Modern Center and 14 restaurants in North Center.  \n",
    "\n",
    "The null and alternative hypotheses are:\n",
    "\n",
    "$$H_0:\\mu_m=\\mu_n$$\n",
    "$$H_A:\\mu_m\\not=\\mu_n$$"
   ]
  },
  {
   "cell_type": "markdown",
   "metadata": {},
   "source": [
    "### Look at the data"
   ]
  },
  {
   "cell_type": "code",
   "execution_count": 1,
   "metadata": {
    "collapsed": false,
    "scrolled": false
   },
   "outputs": [
    {
     "name": "stdout",
     "output_type": "stream",
     "text": [
      "       Average meal prices at restaurants in Modern Center ($)\n",
      "count                                          18.000000      \n",
      "mean                                            8.944444      \n",
      "std                                             2.645134      \n",
      "min                                             5.000000      \n",
      "25%                                             7.000000      \n",
      "50%                                             9.000000      \n",
      "75%                                            11.000000      \n",
      "max                                            13.000000      \n",
      "       Average meal prices at restaurants in North Center ($)\n",
      "count                                          14.000000     \n",
      "mean                                           11.142857     \n",
      "std                                             2.178819     \n",
      "min                                             8.000000     \n",
      "25%                                             9.250000     \n",
      "50%                                            11.000000     \n",
      "75%                                            12.750000     \n",
      "max                                            15.000000     \n"
     ]
    }
   ],
   "source": [
    "import pandas as pd\n",
    "\n",
    "df = pd.read_csv('meal_prices.csv')\n",
    "\n",
    "print(df.iloc[:, :1].describe())\n",
    "print(df.iloc[:, 1:].describe())"
   ]
  },
  {
   "cell_type": "code",
   "execution_count": 11,
   "metadata": {
    "collapsed": false,
    "scrolled": true
   },
   "outputs": [
    {
     "data": {
      "text/plain": [
       "<matplotlib.axes._subplots.AxesSubplot at 0x146492e8>"
      ]
     },
     "execution_count": 11,
     "metadata": {},
     "output_type": "execute_result"
    },
    {
     "data": {
      "image/png": "[encoded data removed]",
      "text/plain": [
       "<matplotlib.figure.Figure at 0xa7133c8>"
      ]
     },
     "metadata": {},
     "output_type": "display_data"
    }
   ],
   "source": [
    "import matplotlib.pyplot as plt\n",
    "%matplotlib inline\n",
    "import seaborn as sns\n",
    "sns.set_style('white')\n",
    "\n",
    "sns.distplot(df['Average meal prices at restaurants in Modern Center ($)'],\n",
    "             hist=False, kde_kws={'shade': True},\n",
    "             color='b',  label='Modern Center')\n",
    "sns.distplot(df['Average meal prices at restaurants in North Center ($)'],\n",
    "             hist=False, kde_kws={'shade': True},\n",
    "             color='g', label='North Center',\n",
    "             axlabel='Average meal prices ($)')"
   ]
  },
  {
   "cell_type": "markdown",
   "metadata": {},
   "source": [
    "### T-statistic and t-critical value"
   ]
  },
  {
   "cell_type": "markdown",
   "metadata": {},
   "source": [
    "For alpha level of 0.05 our t-critical values are positive and negative 2.042:\n",
    "\n",
    "Our t-test is a two-sided test for the null hypothesis that 2 independent samples have identical average (expected) values. This test also assumes that the populations have different variances."
   ]
  },
  {
   "cell_type": "code",
   "execution_count": 12,
   "metadata": {
    "collapsed": false,
    "scrolled": true
   },
   "outputs": [
    {
     "name": "stdout",
     "output_type": "stream",
     "text": [
      "t-statistic: -2.58\n",
      "p-value: 0.02\n"
     ]
    }
   ],
   "source": [
    "from scipy import stats\n",
    "\n",
    "rvs1 = df['Average meal prices at restaurants in Modern Center ($)']\n",
    "rvs2 = df['Average meal prices at restaurants in North Center ($)'].dropna()\n",
    "t_stat, p_val = stats.ttest_ind(rvs1, rvs2, equal_var=False)\n",
    "\n",
    "print 't-statistic: {0}'.format(round(t_stat, 2))\n",
    "print 'p-value: {0}'.format(round(p_val, 2))"
   ]
  },
  {
   "cell_type": "markdown",
   "metadata": {},
   "source": [
    "### Conclusion\n"
   ]
  },
  {
   "cell_type": "markdown",
   "metadata": {},
   "source": [
    "Based on the results we will regect the null hypothesis. Our t-statistic is below negative t-critical value. It appears that meal prices in Modern Center and North Center are statistically different at a significance level of .05. Our p-value is also less than our alpha level.   "
   ]
  },
  {
   "cell_type": "code",
   "execution_count": null,
   "metadata": {
    "collapsed": true
   },
   "outputs": [],
   "source": []
  }
 ],
 "metadata": {
  "kernelspec": {
   "display_name": "Python 2",
   "language": "python",
   "name": "python2"
  },
  "language_info": {
   "codemirror_mode": {
    "name": "ipython",
    "version": 2
   },
   "file_extension": ".py",
   "mimetype": "text/x-python",
   "name": "python",
   "nbconvert_exporter": "python",
   "pygments_lexer": "ipython2",
   "version": "2.7.11"
  }
 },
 "nbformat": 4,
 "nbformat_minor": 0
}
