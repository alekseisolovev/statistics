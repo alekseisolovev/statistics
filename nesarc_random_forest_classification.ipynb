{
 "cells": [
  {
   "cell_type": "code",
   "execution_count": 1,
   "metadata": {
    "collapsed": false,
    "scrolled": false
   },
   "outputs": [],
   "source": [
    "import pandas as pd\n",
    "\n",
    "# The U.S. National Epidemiological Survey on Alcohol and Related Conditions (NESARC) is a survey\n",
    "# designed to determine the magnitude of alcohol use and psychiatric disorders in the U.S. population. \n",
    "# It is a representative sample of the non-institutionalized population 18 years and older.\n",
    "#\n",
    "# Selected variables\n",
    "# AGE - AGE (AGE IN YEARS)\n",
    "# S1Q10A - TOTAL PERSONAL INCOME IN THE LAST 12 MONTHS (INCOME IN DOLLARS)\n",
    "# MAJORDEP12 - MAJOR DEPRESSION IN THE LAST 12 MONTHS (NON-HIERARCHICAL) (\n",
    "#     0 - No,\n",
    "#     1 - Yes)\n",
    "# ALCABDEP12DX - ALCOHOL ABUSE/DEPENDENCE IN THE LAST 12 MONTHS (\n",
    "#     0 - No alcohol diagnosis,\n",
    "#     1 - Alcohol abuse only,\n",
    "#     2 - Alcohol dependence only,\n",
    "#     3 - Alcohol abuse and dependence)\n",
    "# TAB12MDX - NICOTINE DEPENDENCE IN THE LAST 12 MONTHS (\n",
    "#     0 - No nicotine dependence,\n",
    "#     1 - Nicotine dependence)\n",
    "\n",
    "cols = ['AGE', 'S1Q10A', 'MAJORDEP12', 'ALCABDEP12DX', 'TAB12MDX']\n",
    "\n",
    "# Load the data\n",
    "df = pd.read_csv('nesarc.csv', usecols=cols, low_memory=False)"
   ]
  },
  {
   "cell_type": "code",
   "execution_count": 2,
   "metadata": {
    "collapsed": false,
    "scrolled": false
   },
   "outputs": [
    {
     "name": "stdout",
     "output_type": "stream",
     "text": [
      "   AGE  S1Q10A  MAJORDEP12  ALCABDEP12DX  TAB12MDX\n",
      "0   23   17500           0             0         0\n",
      "1   28   11000           0             0         0\n",
      "2   81    6000           0             0         0\n",
      "3   18   27000           0             0         0\n",
      "4   36   42000           0             0         0\n"
     ]
    }
   ],
   "source": [
    "# Print first 5 rows of the data set\n",
    "print(df.head())"
   ]
  },
  {
   "cell_type": "code",
   "execution_count": 3,
   "metadata": {
    "collapsed": false
   },
   "outputs": [],
   "source": [
    "# Store feature matrix X and response vector y\n",
    "X = df[['AGE', 'S1Q10A', 'ALCABDEP12DX', 'TAB12MDX']]\n",
    "y = df.MAJORDEP12"
   ]
  },
  {
   "cell_type": "code",
   "execution_count": 4,
   "metadata": {
    "collapsed": false
   },
   "outputs": [
    {
     "name": "stdout",
     "output_type": "stream",
     "text": [
      "(43093, 4)\n",
      "(43093L,)\n"
     ]
    }
   ],
   "source": [
    "print(X.shape)\n",
    "print(y.shape)"
   ]
  },
  {
   "cell_type": "code",
   "execution_count": 5,
   "metadata": {
    "collapsed": false
   },
   "outputs": [],
   "source": [
    "# Split the dataset into a training set and a testing set\n",
    "from sklearn.cross_validation import train_test_split\n",
    "\n",
    "X_train, X_test, y_train, y_test = train_test_split(X, y, test_size=0.4, random_state=4)"
   ]
  },
  {
   "cell_type": "code",
   "execution_count": 6,
   "metadata": {
    "collapsed": false
   },
   "outputs": [
    {
     "data": {
      "text/plain": [
       "RandomForestClassifier(bootstrap=True, class_weight=None, criterion='gini',\n",
       "            max_depth=None, max_features='auto', max_leaf_nodes=None,\n",
       "            min_samples_leaf=1, min_samples_split=2,\n",
       "            min_weight_fraction_leaf=0.0, n_estimators=10, n_jobs=1,\n",
       "            oob_score=False, random_state=None, verbose=0,\n",
       "            warm_start=False)"
      ]
     },
     "execution_count": 6,
     "metadata": {},
     "output_type": "execute_result"
    }
   ],
   "source": [
    "# Import a classifier and fit the model\n",
    "from sklearn.ensemble import RandomForestClassifier\n",
    "\n",
    "clf = RandomForestClassifier()\n",
    "clf.fit(X_train, y_train)"
   ]
  },
  {
   "cell_type": "code",
   "execution_count": 7,
   "metadata": {
    "collapsed": false
   },
   "outputs": [
    {
     "name": "stdout",
     "output_type": "stream",
     "text": [
      "[ 0.35  0.58  0.03  0.04]\n"
     ]
    }
   ],
   "source": [
    "# Display the relative importance of each attribute\n",
    "import numpy as np\n",
    "\n",
    "print(np.around(clf.feature_importances_, decimals=2))"
   ]
  },
  {
   "cell_type": "code",
   "execution_count": 19,
   "metadata": {
    "collapsed": false
   },
   "outputs": [
    {
     "data": {
      "image/png": "[encoded data removed]",
      "text/plain": [
       "<matplotlib.figure.Figure at 0x185e9908>"
      ]
     },
     "metadata": {},
     "output_type": "display_data"
    }
   ],
   "source": [
    "# Run a different number of trees\n",
    "from sklearn.metrics import accuracy_score\n",
    "import matplotlib.pylab as plt\n",
    "%matplotlib inline\n",
    "\n",
    "trees = range(25)\n",
    "accuracy= np.zeros(25)\n",
    "\n",
    "for idx in range(len(trees)):\n",
    "    clf = RandomForestClassifier(n_estimators=idx + 1)\n",
    "    clf = clf.fit(X_train, y_train)\n",
    "    predictions = clf.predict(X_test)\n",
    "    accuracy[idx] = accuracy_score(y_test, predictions)\n",
    "\n",
    "plt.plot(trees, accuracy)\n",
    "plt.xlim(0, 20)\n",
    "plt.show()"
   ]
  },
  {
   "cell_type": "code",
   "execution_count": 20,
   "metadata": {
    "collapsed": false
   },
   "outputs": [
    {
     "name": "stdout",
     "output_type": "stream",
     "text": [
      "Train accuracy: 0.95\n",
      "Test accuracy: 0.9\n"
     ]
    }
   ],
   "source": [
    "# Compute classification accuracy for the random forest model \n",
    "clf = RandomForestClassifier(n_estimators=15)\n",
    "clf.fit(X_train, y_train)\n",
    "\n",
    "y_train_pred = clf.predict(X_train)\n",
    "y_test_pred = clf.predict(X_test)\n",
    "\n",
    "print('Train accuracy: {0}'.format(round(accuracy_score(y_train, y_train_pred), 2)))\n",
    "print('Test accuracy: {0}'.format(round(accuracy_score(y_test, y_test_pred), 2)))"
   ]
  },
  {
   "cell_type": "code",
   "execution_count": 21,
   "metadata": {
    "collapsed": false
   },
   "outputs": [
    {
     "name": "stdout",
     "output_type": "stream",
     "text": [
      "[[15418   447]\n",
      " [ 1300    73]]\n"
     ]
    }
   ],
   "source": [
    "# Create a confusion matrix \n",
    "from sklearn.metrics import confusion_matrix\n",
    "\n",
    "y_pred = clf.predict(X_test)\n",
    "confmat = confusion_matrix(y_true=y_test, y_pred=y_pred)\n",
    "print(confmat)"
   ]
  },
  {
   "cell_type": "code",
   "execution_count": 22,
   "metadata": {
    "collapsed": false
   },
   "outputs": [
    {
     "data": {
      "image/png": "[encoded data removed]",
      "text/plain": [
       "<matplotlib.figure.Figure at 0x1a6d8198>"
      ]
     },
     "metadata": {},
     "output_type": "display_data"
    }
   ],
   "source": [
    "fig, ax = plt.subplots(figsize=(2.5, 2.5))\n",
    "ax.matshow(confmat, cmap=plt.cm.Blues, alpha=0.3)\n",
    "for i in range(confmat.shape[0]):\n",
    "    for j in range(confmat.shape[1]):\n",
    "        ax.text(x=j, y=i,\n",
    "        s=confmat[i, j],\n",
    "        va='center', ha='center')\n",
    "plt.xlabel('Predicted label')\n",
    "plt.ylabel('True label')\n",
    "plt.show()"
   ]
  },
  {
   "cell_type": "code",
   "execution_count": 12,
   "metadata": {
    "collapsed": true
   },
   "outputs": [],
   "source": [
    "# Model interpretation for the random forest\n",
    "#\n",
    "# Random forest analysis was performed to evaluate the importance of a series\n",
    "# of explanatory variables in predicting a binary, categorical response variable.\n",
    "#\n",
    "# The following explanatory variables were included as possible contributors to a random forest\n",
    "# evaluating major depression in the last 12 months: age, total personal imcome,\n",
    "# alcohol abuse/dependence and nicotine dependence in the last 12 months.\n",
    "#\n",
    "# The explanatory variables with the highest relative importance scores were total personal income and\n",
    "# age. The test accuracy of the model is 90% with the number of 15418 true negatives, \n",
    "# 1300 false negatives, 73 true positives and 447 false positives predicted on the train set. "
   ]
  }
 ],
 "metadata": {
  "kernelspec": {
   "display_name": "Python 2",
   "language": "python",
   "name": "python2"
  },
  "language_info": {
   "codemirror_mode": {
    "name": "ipython",
    "version": 2
   },
   "file_extension": ".py",
   "mimetype": "text/x-python",
   "name": "python",
   "nbconvert_exporter": "python",
   "pygments_lexer": "ipython2",
   "version": "2.7.11"
  }
 },
 "nbformat": 4,
 "nbformat_minor": 0
}
