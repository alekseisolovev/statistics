{
 "cells": [
  {
   "cell_type": "markdown",
   "metadata": {},
   "source": [
    "# Исследовательский анализ сотрудников компании по группам риска\n",
    "Руководство компании обратило внимание на то, что сотрудники старше 35 лет болеют чаще, чем более молодые сотрудники. Кроме этого, среди мужчин количество пропусков рабочих дней в связи с больничным выше, чем среди женщин. В связи с этой ситуацией, руководство организации планирует ввести дополнительные медицинские осмотры среди групп риска. \n",
    "\n",
    "Необходимо обосновать, что:\n",
    "* Мужчины пропускают в течение года более 2 рабочих дней по болезни значимо чаще женщин.\n",
    "* Работники старше 35 лет пропускают в течение года более 2 рабочих дней по болезни значимо чаще своих более молодых коллег."
   ]
  },
  {
   "cell_type": "code",
   "execution_count": 1,
   "metadata": {
    "collapsed": false,
    "scrolled": true
   },
   "outputs": [],
   "source": [
    "import numpy as np\n",
    "import pandas as pd\n",
    "\n",
    "import matplotlib.pyplot as plt\n",
    "import seaborn as sns\n",
    "%matplotlib inline\n",
    "sns.set_style('white')\n",
    "\n",
    "import warnings\n",
    "warnings.filterwarnings('ignore')"
   ]
  },
  {
   "cell_type": "code",
   "execution_count": 2,
   "metadata": {
    "collapsed": true
   },
   "outputs": [],
   "source": [
    "plt.rcParams['axes.linewidth'] = 0.5"
   ]
  },
  {
   "cell_type": "code",
   "execution_count": 3,
   "metadata": {
    "collapsed": false
   },
   "outputs": [
    {
     "data": {
      "text/html": [
       "<div>\n",
       "<table border=\"1\" class=\"dataframe\">\n",
       "  <thead>\n",
       "    <tr style=\"text-align: right;\">\n",
       "      <th></th>\n",
       "      <th>Количество больничных дней</th>\n",
       "      <th>Возраст</th>\n",
       "      <th>Пол</th>\n",
       "    </tr>\n",
       "  </thead>\n",
       "  <tbody>\n",
       "    <tr>\n",
       "      <th>0</th>\n",
       "      <td>5</td>\n",
       "      <td>39</td>\n",
       "      <td>Ж</td>\n",
       "    </tr>\n",
       "    <tr>\n",
       "      <th>1</th>\n",
       "      <td>4</td>\n",
       "      <td>54</td>\n",
       "      <td>М</td>\n",
       "    </tr>\n",
       "    <tr>\n",
       "      <th>2</th>\n",
       "      <td>4</td>\n",
       "      <td>26</td>\n",
       "      <td>М</td>\n",
       "    </tr>\n",
       "    <tr>\n",
       "      <th>3</th>\n",
       "      <td>5</td>\n",
       "      <td>42</td>\n",
       "      <td>М</td>\n",
       "    </tr>\n",
       "    <tr>\n",
       "      <th>4</th>\n",
       "      <td>4</td>\n",
       "      <td>29</td>\n",
       "      <td>М</td>\n",
       "    </tr>\n",
       "  </tbody>\n",
       "</table>\n",
       "</div>"
      ],
      "text/plain": [
       "   Количество больничных дней  Возраст Пол\n",
       "0                           5       39   Ж\n",
       "1                           4       54   М\n",
       "2                           4       26   М\n",
       "3                           5       42   М\n",
       "4                           4       29   М"
      ]
     },
     "execution_count": 3,
     "metadata": {},
     "output_type": "execute_result"
    }
   ],
   "source": [
    "# Загрузка данных\n",
    "data = pd.read_csv('data.csv')\n",
    "# Первые пять строк таблицы данных\n",
    "data.head()"
   ]
  },
  {
   "cell_type": "code",
   "execution_count": 4,
   "metadata": {
    "collapsed": false
   },
   "outputs": [
    {
     "name": "stdout",
     "output_type": "stream",
     "text": [
      "<class 'pandas.core.frame.DataFrame'>\n",
      "RangeIndex: 237 entries, 0 to 236\n",
      "Data columns (total 3 columns):\n",
      "Количество больничных дней    237 non-null int64\n",
      "Возраст                       237 non-null int64\n",
      "Пол                           237 non-null object\n",
      "dtypes: int64(2), object(1)\n",
      "memory usage: 5.6+ KB\n"
     ]
    }
   ],
   "source": [
    "data.info()"
   ]
  },
  {
   "cell_type": "markdown",
   "metadata": {},
   "source": [
    "## Группа риска и гендерная группа\n",
    "Посмотрим на соотношени мужчин и женщин в компании."
   ]
  },
  {
   "cell_type": "code",
   "execution_count": 5,
   "metadata": {
    "collapsed": false
   },
   "outputs": [
    {
     "name": "stdout",
     "output_type": "stream",
     "text": [
      "Количество мужчин: 139 человек\n",
      "Количество женщин: 98 человек\n"
     ]
    }
   ],
   "source": [
    "print('Количество мужчин: {} человек'.format(\n",
    "    len(data[data['Пол']=='М'])))\n",
    "print('Количество женщин: {} человек'.format(\n",
    "    len(data[data['Пол']=='Ж'])))"
   ]
  },
  {
   "cell_type": "code",
   "execution_count": 6,
   "metadata": {
    "collapsed": false
   },
   "outputs": [
    {
     "name": "stdout",
     "output_type": "stream",
     "text": [
      "Количество мужчин: 58.65%\n",
      "Количество женщин: 41.35%\n"
     ]
    }
   ],
   "source": [
    "print('Количество мужчин: {:.2f}%'.format(\n",
    "    len(data[data['Пол']=='М'])/len(data['Пол'])*100))\n",
    "print('Количество женщин: {:.2f}%'.format(\n",
    "    len(data[data['Пол']=='Ж'])/len(data['Пол'])*100))"
   ]
  },
  {
   "cell_type": "code",
   "execution_count": 7,
   "metadata": {
    "collapsed": false
   },
   "outputs": [
    {
     "data": {
      "image/png": "[encoded data removed]",
      "text/plain": [
       "<matplotlib.figure.Figure at 0x7f5421551b00>"
      ]
     },
     "metadata": {},
     "output_type": "display_data"
    }
   ],
   "source": [
    "fig = plt.figure(figsize=(6,6))\n",
    "plt.tick_params(labelsize=16)\n",
    "\n",
    "sns.countplot(data['Пол'], color='tomato')\n",
    "\n",
    "plt.xlabel('Пол', fontsize=18)\n",
    "plt.ylabel('Кол-во', fontsize=18)\n",
    "plt.title('Диаграмма гендерных групп', fontsize=20)\n",
    "plt.show()"
   ]
  },
  {
   "cell_type": "markdown",
   "metadata": {},
   "source": [
    "### Тест Стюдента для гендерных групп\n",
    "Перед тем как найти отношение пропущенных дней больше 2-х для каждой из групп, необходимо определить существует ли разница в общем количестве пропущенных дней для этих групп. Для этого посмотрим на сводную статистику данных по каждой группе."
   ]
  },
  {
   "cell_type": "code",
   "execution_count": 8,
   "metadata": {
    "collapsed": false
   },
   "outputs": [
    {
     "data": {
      "text/plain": [
       "count    139.000000\n",
       "mean       3.179856\n",
       "std        1.889144\n",
       "min        0.000000\n",
       "25%        2.000000\n",
       "50%        3.000000\n",
       "75%        4.000000\n",
       "max        8.000000\n",
       "Name: Количество больничных дней, dtype: float64"
      ]
     },
     "execution_count": 8,
     "metadata": {},
     "output_type": "execute_result"
    }
   ],
   "source": [
    "data['Количество больничных дней'][data['Пол'] == 'М'].describe()"
   ]
  },
  {
   "cell_type": "code",
   "execution_count": 9,
   "metadata": {
    "collapsed": false
   },
   "outputs": [
    {
     "data": {
      "text/plain": [
       "count    98.000000\n",
       "mean      3.367347\n",
       "std       1.689188\n",
       "min       0.000000\n",
       "25%       2.000000\n",
       "50%       3.000000\n",
       "75%       4.000000\n",
       "max       8.000000\n",
       "Name: Количество больничных дней, dtype: float64"
      ]
     },
     "execution_count": 9,
     "metadata": {},
     "output_type": "execute_result"
    }
   ],
   "source": [
    "data['Количество больничных дней'][data['Пол'] == 'Ж'].describe()"
   ]
  },
  {
   "cell_type": "markdown",
   "metadata": {},
   "source": [
    "Видно что математическое ожидание общего количества больничных дней для мужской группы составляет 3.179856, в то время как математическое ожидание количества больничных дней для женской группы составляет 3.367347. Для того чтобы понять, является ли эта разница статистически значимой, мы проведем тест Стьюдента для двух независимых выборок с разной дисперсией."
   ]
  },
  {
   "cell_type": "code",
   "execution_count": 10,
   "metadata": {
    "collapsed": false
   },
   "outputs": [
    {
     "name": "stdout",
     "output_type": "stream",
     "text": [
      "t-critical value: 1.97\n"
     ]
    }
   ],
   "source": [
    "from scipy import stats\n",
    "import math\n",
    "\n",
    "male_sample = data['Количество больничных дней'][\n",
    "    data['Пол'] == 'М']\n",
    "female_sample = data['Количество больничных дней'][\n",
    "    data['Пол'] == 'Ж']\n",
    "\n",
    "# Degrees of freedom\n",
    "df = len(male_sample) + len(female_sample) - 2\n",
    "t_critical = stats.t.ppf(q=0.975, df=df)\n",
    "\n",
    "print('t-critical value: {:.2f}'.format(t_critical))"
   ]
  },
  {
   "cell_type": "markdown",
   "metadata": {},
   "source": [
    "t-критическое значение для двухстороннего теста с альфа-значением 0.95 составляет 1.98. "
   ]
  },
  {
   "cell_type": "code",
   "execution_count": 11,
   "metadata": {
    "collapsed": false
   },
   "outputs": [
    {
     "name": "stdout",
     "output_type": "stream",
     "text": [
      "t-statistic: -0.80\n",
      "p-value: 0.42\n"
     ]
    }
   ],
   "source": [
    "t_stat, p_val = stats.ttest_ind(a=male_sample, b=female_sample, equal_var=False)\n",
    "\n",
    "print('t-statistic: {:.2f}'.format(t_stat))\n",
    "print('p-value: {:.2f}'.format(p_val))"
   ]
  },
  {
   "cell_type": "markdown",
   "metadata": {},
   "source": [
    "По результатам теста видно, что p-значение теста довольно высоко (42%), а абсолютная величина t-значения достаточно мала, что указывает на то, что мы можем отвергнуть конкурирующую гипотезу и принять основную гипотезу что между средними математическими ожиданиями количества больничных дней двух групп не существует статистической разницы. Из этого следует что общее количество пропущенных дней можно принять как равное для двух групп."
   ]
  },
  {
   "cell_type": "code",
   "execution_count": 12,
   "metadata": {
    "collapsed": false
   },
   "outputs": [
    {
     "data": {
      "image/png": "[encoded data removed]",
      "text/plain": [
       "<matplotlib.figure.Figure at 0x7f5421524fd0>"
      ]
     },
     "metadata": {},
     "output_type": "display_data"
    }
   ],
   "source": [
    "fig = plt.figure(figsize=(6,6))\n",
    "plt.tick_params(labelsize=16)\n",
    "\n",
    "sns.distplot(male_sample, kde=False, \n",
    "             color='cornflowerblue', norm_hist=True, label='Мужская группа')\n",
    "sns.distplot(female_sample, kde=False,\n",
    "             color='tomato', norm_hist=True, label='Женская группа')\n",
    "\n",
    "plt.xlabel('Количество больничных дней', fontsize=18)\n",
    "plt.ylabel('Кол-во', fontsize=18)\n",
    "plt.title('Диаграмма распределения больничных дней', fontsize=20)\n",
    "plt.legend(fontsize=12)\n",
    "plt.show()"
   ]
  },
  {
   "cell_type": "markdown",
   "metadata": {},
   "source": [
    "Теперь расчитаем отношение пропущенных по болезни дней более 2-х к общему количеству пропущенных дней."
   ]
  },
  {
   "cell_type": "code",
   "execution_count": 13,
   "metadata": {
    "collapsed": false
   },
   "outputs": [
    {
     "name": "stdout",
     "output_type": "stream",
     "text": [
      "Для мужской гендерной группы.\n",
      "Кол-во пропущенные дней равное или менее 2-х: 55\n",
      "Кол-во пропущенные дней более 2-х: 84\n",
      "Отношение пропущенных дней более 2-х к общему кол-ву пропущенных дней: 0.60\n"
     ]
    }
   ],
   "source": [
    "print('Для мужской гендерной группы.')\n",
    "print('Кол-во пропущенные дней равное или менее 2-х: {}'.format(\n",
    "    len(data[(data['Количество больничных дней'] <= 2) & (data['Пол'] == 'М')])))\n",
    "print('Кол-во пропущенные дней более 2-х: {}'.format(\n",
    "    len(data[(data['Количество больничных дней'] > 2) & (data['Пол'] == 'М')])))\n",
    "print('Отношение пропущенных дней более 2-х к общему кол-ву пропущенных дней: {:.2f}'.format(84/(55+84)))"
   ]
  },
  {
   "cell_type": "code",
   "execution_count": 14,
   "metadata": {
    "collapsed": false
   },
   "outputs": [
    {
     "name": "stdout",
     "output_type": "stream",
     "text": [
      "Для женской гендерной группы.\n",
      "Кол-во пропущенные дней равное или менее 2-х: 31\n",
      "Кол-во пропущенные дней более 2-х: 67\n",
      "Отношение пропущенных дней более 2-х к общему кол-ву пропущенных дней: 0.68\n"
     ]
    }
   ],
   "source": [
    "print('Для женской гендерной группы.')\n",
    "print('Кол-во пропущенные дней равное или менее 2-х: {}'.format(\n",
    "    len(data[(data['Количество больничных дней'] <= 2) & (data['Пол'] == 'Ж')])))\n",
    "print('Кол-во пропущенные дней более 2-х: {}'.format(\n",
    "    len(data[(data['Количество больничных дней'] > 2) & (data['Пол'] == 'Ж')])))\n",
    "print('Отношение пропущенных дней более 2-х к общему кол-ву пропущенных дней: {:.2f}'.format(67/(31+67)))"
   ]
  },
  {
   "cell_type": "markdown",
   "metadata": {},
   "source": [
    "Из результатов видно, что отношение пропущенных дней более 2-х в женской гендерной группе выше чем в мужской."
   ]
  },
  {
   "cell_type": "markdown",
   "metadata": {},
   "source": [
    "## Группа риска и возрастная группа\n",
    "Посмотрим на распределение возрастов работников компании по двум группам."
   ]
  },
  {
   "cell_type": "code",
   "execution_count": 15,
   "metadata": {
    "collapsed": false
   },
   "outputs": [
    {
     "name": "stdout",
     "output_type": "stream",
     "text": [
      "Количество работников младше 35 лет включительно: 57 человек\n",
      "Количество работников старше 35 лет: 180 человек\n"
     ]
    }
   ],
   "source": [
    "print('Количество работников младше 35 лет включительно: {} человек'.format(\n",
    "    len(data[data['Возраст'] <= 35])))\n",
    "print('Количество работников старше 35 лет: {} человек'.format(\n",
    "    len(data[data['Возраст'] > 35])))"
   ]
  },
  {
   "cell_type": "code",
   "execution_count": 16,
   "metadata": {
    "collapsed": false
   },
   "outputs": [
    {
     "name": "stdout",
     "output_type": "stream",
     "text": [
      "Количество работников младше 35 лет включительно: 24.05%\n",
      "Количество работников старше 35 лет: 75.95%\n"
     ]
    }
   ],
   "source": [
    "print('Количество работников младше 35 лет включительно: {:.2f}%'.format(\n",
    "    len(data[data['Возраст'] <= 35])/len(data['Возраст'])*100))\n",
    "print('Количество работников старше 35 лет: {:.2f}%'.format(\n",
    "    len(data[data['Возраст'] > 35])/len(data['Возраст'])*100))"
   ]
  },
  {
   "cell_type": "markdown",
   "metadata": {},
   "source": [
    "Создадим дополнительную графу данных, в которой значения возраста меньше или равные 35 годам отнесем в одну группу, а значения возраста которые больше 35 лет в другую группу."
   ]
  },
  {
   "cell_type": "code",
   "execution_count": 17,
   "metadata": {
    "collapsed": false
   },
   "outputs": [],
   "source": [
    "data['Возрастная группа'] = data['Возраст'].apply(\n",
    "    lambda x: 'Младше 35 лет' if x <= 35 else 'Старше 35 лет')"
   ]
  },
  {
   "cell_type": "code",
   "execution_count": 18,
   "metadata": {
    "collapsed": false
   },
   "outputs": [
    {
     "data": {
      "text/html": [
       "<div>\n",
       "<table border=\"1\" class=\"dataframe\">\n",
       "  <thead>\n",
       "    <tr style=\"text-align: right;\">\n",
       "      <th></th>\n",
       "      <th>Количество больничных дней</th>\n",
       "      <th>Возраст</th>\n",
       "      <th>Пол</th>\n",
       "      <th>Возрастная группа</th>\n",
       "    </tr>\n",
       "  </thead>\n",
       "  <tbody>\n",
       "    <tr>\n",
       "      <th>0</th>\n",
       "      <td>5</td>\n",
       "      <td>39</td>\n",
       "      <td>Ж</td>\n",
       "      <td>Старше 35 лет</td>\n",
       "    </tr>\n",
       "    <tr>\n",
       "      <th>1</th>\n",
       "      <td>4</td>\n",
       "      <td>54</td>\n",
       "      <td>М</td>\n",
       "      <td>Старше 35 лет</td>\n",
       "    </tr>\n",
       "    <tr>\n",
       "      <th>2</th>\n",
       "      <td>4</td>\n",
       "      <td>26</td>\n",
       "      <td>М</td>\n",
       "      <td>Младше 35 лет</td>\n",
       "    </tr>\n",
       "    <tr>\n",
       "      <th>3</th>\n",
       "      <td>5</td>\n",
       "      <td>42</td>\n",
       "      <td>М</td>\n",
       "      <td>Старше 35 лет</td>\n",
       "    </tr>\n",
       "    <tr>\n",
       "      <th>4</th>\n",
       "      <td>4</td>\n",
       "      <td>29</td>\n",
       "      <td>М</td>\n",
       "      <td>Младше 35 лет</td>\n",
       "    </tr>\n",
       "  </tbody>\n",
       "</table>\n",
       "</div>"
      ],
      "text/plain": [
       "   Количество больничных дней  Возраст Пол Возрастная группа\n",
       "0                           5       39   Ж     Старше 35 лет\n",
       "1                           4       54   М     Старше 35 лет\n",
       "2                           4       26   М     Младше 35 лет\n",
       "3                           5       42   М     Старше 35 лет\n",
       "4                           4       29   М     Младше 35 лет"
      ]
     },
     "execution_count": 18,
     "metadata": {},
     "output_type": "execute_result"
    }
   ],
   "source": [
    "data.head()"
   ]
  },
  {
   "cell_type": "code",
   "execution_count": 19,
   "metadata": {
    "collapsed": false
   },
   "outputs": [
    {
     "data": {
      "image/png": "[encoded data removed]",
      "text/plain": [
       "<matplotlib.figure.Figure at 0x7f541dbfca20>"
      ]
     },
     "metadata": {},
     "output_type": "display_data"
    }
   ],
   "source": [
    "fig = plt.figure(figsize=(6,6))\n",
    "plt.tick_params(labelsize=16)\n",
    "\n",
    "sns.countplot(data['Возрастная группа'], color='tomato')\n",
    "\n",
    "plt.xlabel('Возрастная группа', fontsize=18)\n",
    "plt.ylabel('Кол-во', fontsize=18)\n",
    "plt.title('Диаграмма возрастных групп', fontsize=20)\n",
    "plt.show()"
   ]
  },
  {
   "cell_type": "markdown",
   "metadata": {},
   "source": [
    "### Тест Стюдента для возрастных групп\n",
    "Как и предыдущем случае, перед тем как найти отношение пропущенных дней больше 2-х для каждой из групп, необходимо определить существует ли разница в общем количестве пропущенных дней для этих групп. Для этого посмотрим на сводную статистику данных по каждой группе."
   ]
  },
  {
   "cell_type": "code",
   "execution_count": 20,
   "metadata": {
    "collapsed": false
   },
   "outputs": [
    {
     "data": {
      "text/plain": [
       "count    57.000000\n",
       "mean      3.350877\n",
       "std       1.894458\n",
       "min       0.000000\n",
       "25%       2.000000\n",
       "50%       3.000000\n",
       "75%       4.000000\n",
       "max       8.000000\n",
       "Name: Количество больничных дней, dtype: float64"
      ]
     },
     "execution_count": 20,
     "metadata": {},
     "output_type": "execute_result"
    }
   ],
   "source": [
    "data['Количество больничных дней'][data['Возрастная группа'] == 'Младше 35 лет'].describe()"
   ]
  },
  {
   "cell_type": "code",
   "execution_count": 21,
   "metadata": {
    "collapsed": false
   },
   "outputs": [
    {
     "data": {
      "text/plain": [
       "count    180.000000\n",
       "mean       3.227778\n",
       "std        1.783946\n",
       "min        0.000000\n",
       "25%        2.000000\n",
       "50%        3.000000\n",
       "75%        4.000000\n",
       "max        8.000000\n",
       "Name: Количество больничных дней, dtype: float64"
      ]
     },
     "execution_count": 21,
     "metadata": {},
     "output_type": "execute_result"
    }
   ],
   "source": [
    "data['Количество больничных дней'][data['Возрастная группа'] == 'Старше 35 лет'].describe()"
   ]
  },
  {
   "cell_type": "markdown",
   "metadata": {},
   "source": [
    "Видно что математическое ожидание общего количества больничных дней для группы младше 35 лет составляет 3.350877, в то время как математическое ожидание количества больничных дней для группы старше 35 лет составляет 3.227778. Для того чтобы понять, является ли эта разница статистически значимой, мы проведем тест Стьюдента для двух независимых выборок с разной дисперсией."
   ]
  },
  {
   "cell_type": "code",
   "execution_count": 22,
   "metadata": {
    "collapsed": false
   },
   "outputs": [
    {
     "name": "stdout",
     "output_type": "stream",
     "text": [
      "t-critical value: 1.97\n"
     ]
    }
   ],
   "source": [
    "junior_sample = data['Количество больничных дней'][\n",
    "    data['Возрастная группа'] == 'Младше 35 лет']\n",
    "senior_sample = data['Количество больничных дней'][\n",
    "    data['Возрастная группа'] == 'Старше 35 лет']\n",
    "\n",
    "# Degrees of freedom\n",
    "df = len(junior_sample) + len(senior_sample) - 2\n",
    "t_critical = stats.t.ppf(q=0.975, df=df)\n",
    "\n",
    "print('t-critical value: {:.2f}'.format(t_critical))"
   ]
  },
  {
   "cell_type": "markdown",
   "metadata": {},
   "source": [
    "t-критическое значение для двухстороннего теста с альфа-значением 0.95 составляет 1.97. "
   ]
  },
  {
   "cell_type": "code",
   "execution_count": 23,
   "metadata": {
    "collapsed": false
   },
   "outputs": [
    {
     "name": "stdout",
     "output_type": "stream",
     "text": [
      "t-statistic: 0.43\n",
      "p-value: 0.67\n"
     ]
    }
   ],
   "source": [
    "t_stat, p_val = stats.ttest_ind(a=junior_sample, b=senior_sample, equal_var=False)\n",
    "\n",
    "print('t-statistic: {:.2f}'.format(t_stat))\n",
    "print('p-value: {:.2f}'.format(p_val))"
   ]
  },
  {
   "cell_type": "markdown",
   "metadata": {},
   "source": [
    "По результатам теста видно, что p-значение теста довольно высоко (67%), а абсолютная величина t-значения достаточно мала, что указывает на то, что мы можем отвергнуть конкурирующую гипотезу и принять основную гипотезу что между средними математическими ожиданиями количества больничных дней двух групп не существует статистической разницы. Из этого следует что общее количество пропущенных дней можно принять как равное для двух групп."
   ]
  },
  {
   "cell_type": "code",
   "execution_count": 24,
   "metadata": {
    "collapsed": false
   },
   "outputs": [
    {
     "data": {
      "image/png": "[encoded data removed]",
      "text/plain": [
       "<matplotlib.figure.Figure at 0x7f541dc23748>"
      ]
     },
     "metadata": {},
     "output_type": "display_data"
    }
   ],
   "source": [
    "fig = plt.figure(figsize=(6,6))\n",
    "plt.tick_params(labelsize=16)\n",
    "\n",
    "sns.distplot(junior_sample, kde=False, \n",
    "             color='cornflowerblue', norm_hist=True, label='Младше 35 лет')\n",
    "sns.distplot(senior_sample, kde=False,\n",
    "             color='tomato', norm_hist=True, label='Старше 35 лет')\n",
    "\n",
    "plt.xlabel('Количество больничных дней', fontsize=18)\n",
    "plt.ylabel('Кол-во', fontsize=18)\n",
    "plt.title('Диаграмма распределения больничных дней', fontsize=20)\n",
    "plt.legend(fontsize=12)\n",
    "plt.show()"
   ]
  },
  {
   "cell_type": "markdown",
   "metadata": {},
   "source": [
    "Теперь расчитаем отношение пропущенных по болезни дней более 2-х к общему количеству пропущенных дней."
   ]
  },
  {
   "cell_type": "code",
   "execution_count": 25,
   "metadata": {
    "collapsed": false
   },
   "outputs": [
    {
     "name": "stdout",
     "output_type": "stream",
     "text": [
      "Для группы младше 35 лет включительно.\n",
      "Кол-во пропущенные дней равное или менее 2-х: 21\n",
      "Кол-во пропущенные дней более 2-х: 36\n",
      "Отношение пропущенных дней более 2-х к общему кол-ву пропущенных дней: 0.63\n"
     ]
    }
   ],
   "source": [
    "print('Для группы младше 35 лет включительно.')\n",
    "print('Кол-во пропущенные дней равное или менее 2-х: {}'.format(\n",
    "    len(data[(data['Количество больничных дней'] <= 2) & (data['Возрастная группа'] == 'Младше 35 лет')])))\n",
    "print('Кол-во пропущенные дней более 2-х: {}'.format(\n",
    "    len(data[(data['Количество больничных дней'] > 2) & (data['Возрастная группа'] == 'Младше 35 лет')])))\n",
    "print('Отношение пропущенных дней более 2-х к общему кол-ву пропущенных дней: {:.2f}'.format(36/(21+36)))"
   ]
  },
  {
   "cell_type": "code",
   "execution_count": 26,
   "metadata": {
    "collapsed": false
   },
   "outputs": [
    {
     "name": "stdout",
     "output_type": "stream",
     "text": [
      "Для группы старше 35 лет.\n",
      "Кол-во пропущенные дней равное или менее 2-х: 65\n",
      "Кол-во пропущенные дней более 2-х: 115\n",
      "Отношение пропущенных дней более 2-х к общему кол-ву пропущенных дней: 0.64\n"
     ]
    }
   ],
   "source": [
    "print('Для группы старше 35 лет.')\n",
    "print('Кол-во пропущенные дней равное или менее 2-х: {}'.format(\n",
    "    len(data[(data['Количество больничных дней'] <= 2) & (data['Возрастная группа'] == 'Старше 35 лет')])))\n",
    "print('Кол-во пропущенные дней более 2-х: {}'.format(\n",
    "    len(data[(data['Количество больничных дней'] > 2) & (data['Возрастная группа'] == 'Старше 35 лет')])))\n",
    "print('Отношение пропущенных дней более 2-х к общему кол-ву пропущенных дней: {:.2f}'.format(115/(65+115)))"
   ]
  },
  {
   "cell_type": "markdown",
   "metadata": {},
   "source": [
    "Из результатов видно, что отношение пропущенных дней более 2-х в возрастное группе старше 35 лет несколько выше, чем в возрастной группе младше 35 лет включительно.\n",
    "\n",
    "## Вывод\n",
    "Результаты исследования показали, что в количестве пропущенных дней между гендерными и возрастными группами не существует статистической разницы. Отношение пропущенных дней больше 2-х для гендерных групп несколько выше для женской группы, в то время как отношение пропущенных дней больше 2-х для возрастных групп несколько выше для возрастной группы старше 35 лет. "
   ]
  },
  {
   "cell_type": "code",
   "execution_count": null,
   "metadata": {
    "collapsed": true
   },
   "outputs": [],
   "source": []
  }
 ],
 "metadata": {
  "kernelspec": {
   "display_name": "Python [default]",
   "language": "python",
   "name": "python3"
  },
  "language_info": {
   "codemirror_mode": {
    "name": "ipython",
    "version": 3
   },
   "file_extension": ".py",
   "mimetype": "text/x-python",
   "name": "python",
   "nbconvert_exporter": "python",
   "pygments_lexer": "ipython3",
   "version": "3.5.2"
  }
 },
 "nbformat": 4,
 "nbformat_minor": 2
}
